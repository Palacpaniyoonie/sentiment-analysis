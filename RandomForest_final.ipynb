{
 "cells": [
  {
   "cell_type": "markdown",
   "id": "5ce39125-cebc-4b28-a243-af420f581617",
   "metadata": {},
   "source": [
    "### 필요 라이브러리 import 및 데이터 불러오기"
   ]
  },
  {
   "cell_type": "code",
   "execution_count": 1,
   "id": "60558e02-466b-4350-8869-723f505c74c3",
   "metadata": {
    "execution": {
     "iopub.execute_input": "2022-11-09T05:35:42.766715Z",
     "iopub.status.busy": "2022-11-09T05:35:42.766401Z",
     "iopub.status.idle": "2022-11-09T05:35:43.487922Z",
     "shell.execute_reply": "2022-11-09T05:35:43.487339Z",
     "shell.execute_reply.started": "2022-11-09T05:35:42.766670Z"
    },
    "tags": []
   },
   "outputs": [],
   "source": [
    "import pandas as pd\n",
    "import numpy as np\n",
    "from konlpy.tag import Okt\n",
    "from sklearn.feature_extraction.text import CountVectorizer\n",
    "from sklearn.feature_extraction.text import TfidfTransformer\n",
    "\n",
    "data = pd.read_csv('label_1108.csv')"
   ]
  },
  {
   "cell_type": "markdown",
   "id": "c94d6a8a-b7f6-4e72-aa21-d8601a4c324e",
   "metadata": {},
   "source": [
    "### icls_cnts 컬럼 정규화"
   ]
  },
  {
   "cell_type": "code",
   "execution_count": 2,
   "id": "6d22a4f3-abb8-4b2d-adaf-5c5e7fa9507b",
   "metadata": {
    "execution": {
     "iopub.execute_input": "2022-11-09T05:35:43.489404Z",
     "iopub.status.busy": "2022-11-09T05:35:43.489161Z",
     "iopub.status.idle": "2022-11-09T05:35:43.492397Z",
     "shell.execute_reply": "2022-11-09T05:35:43.491972Z",
     "shell.execute_reply.started": "2022-11-09T05:35:43.489385Z"
    },
    "tags": []
   },
   "outputs": [],
   "source": [
    "import re \n",
    "\n",
    "### 원활한 vectorizing을 위해 icls_cnts 정규화\n",
    "### 단, 공백으로 구분해주지 않을 경우 단어를 인식하지 못하므로 공백으로 구분\n",
    "def text_cleaning(text):\n",
    "    hangul = re.compile('[^ㄱ-ㅣ가-힣]+')\n",
    "    result = hangul.sub(' ',text)\n",
    "    return result"
   ]
  },
  {
   "cell_type": "code",
   "execution_count": 3,
   "id": "3e7e7a7b-fdb7-4bab-b411-68927260de73",
   "metadata": {
    "execution": {
     "iopub.execute_input": "2022-11-09T05:35:43.493298Z",
     "iopub.status.busy": "2022-11-09T05:35:43.492972Z",
     "iopub.status.idle": "2022-11-09T05:35:43.604300Z",
     "shell.execute_reply": "2022-11-09T05:35:43.603923Z",
     "shell.execute_reply.started": "2022-11-09T05:35:43.493281Z"
    },
    "scrolled": true,
    "tags": []
   },
   "outputs": [
    {
     "data": {
      "text/html": [
       "<div>\n",
       "<style scoped>\n",
       "    .dataframe tbody tr th:only-of-type {\n",
       "        vertical-align: middle;\n",
       "    }\n",
       "\n",
       "    .dataframe tbody tr th {\n",
       "        vertical-align: top;\n",
       "    }\n",
       "\n",
       "    .dataframe thead th {\n",
       "        text-align: right;\n",
       "    }\n",
       "</style>\n",
       "<table border=\"1\" class=\"dataframe\">\n",
       "  <thead>\n",
       "    <tr style=\"text-align: right;\">\n",
       "      <th></th>\n",
       "      <th>Unnamed: 0</th>\n",
       "      <th>icls_cnts</th>\n",
       "      <th>label</th>\n",
       "      <th>ko_text</th>\n",
       "    </tr>\n",
       "  </thead>\n",
       "  <tbody>\n",
       "    <tr>\n",
       "      <th>0</th>\n",
       "      <td>0</td>\n",
       "      <td>..&lt;b&gt;경찰&lt;/b&gt;과 추격전까지 벌인 40대 남성이 붙잡혔습니다. .. 1시간이 ...</td>\n",
       "      <td>1.0</td>\n",
       "      <td>경찰 과 추격전까지 벌인 대 남성이 붙잡혔습니다 시간이 넘도록 음주운전 차량을 뒤...</td>\n",
       "    </tr>\n",
       "    <tr>\n",
       "      <th>1</th>\n",
       "      <td>3</td>\n",
       "      <td>수원남부署, 모범&lt;b&gt;경찰&lt;/b&gt; 최보라·김세홍 경장에 표창·장려장 수원남부&lt;b&gt;경...</td>\n",
       "      <td>1.0</td>\n",
       "      <td>수원남부 모범 경찰 최보라 김세홍 경장에 표창 장려장 수원남부 경찰 서 서장 오문교...</td>\n",
       "    </tr>\n",
       "    <tr>\n",
       "      <th>2</th>\n",
       "      <td>4</td>\n",
       "      <td>조두순에 대한 1대1 전자감독 및 &lt;b&gt;경찰&lt;/b&gt;을 통한 24시간 밀착 감독 등...</td>\n",
       "      <td>1.0</td>\n",
       "      <td>조두순에 대한 대 전자감독 및 경찰 을 통한 시간 밀착 감독 등이 주된 내용이다 ...</td>\n",
       "    </tr>\n",
       "    <tr>\n",
       "      <th>3</th>\n",
       "      <td>5</td>\n",
       "      <td>순천&lt;b&gt;경찰&lt;/b&gt;서, 전화금융사기 예방 홍보시스템 구축 순천&lt;b&gt;경찰&lt;/b&gt;서는...</td>\n",
       "      <td>1.0</td>\n",
       "      <td>순천 경찰 서 전화금융사기 예방 홍보시스템 구축 순천 경찰 서는 지난 일 전화금융사...</td>\n",
       "    </tr>\n",
       "    <tr>\n",
       "      <th>4</th>\n",
       "      <td>6</td>\n",
       "      <td>경남&lt;b&gt;경찰&lt;/b&gt;청 직원들, 사랑의 헌혈 릴레이 운동 경남지방&lt;b&gt;경찰&lt;/b&gt;청...</td>\n",
       "      <td>1.0</td>\n",
       "      <td>경남 경찰 청 직원들 사랑의 헌혈 릴레이 운동 경남지방 경찰 청 치안감 남구준 은 ...</td>\n",
       "    </tr>\n",
       "  </tbody>\n",
       "</table>\n",
       "</div>"
      ],
      "text/plain": [
       "   Unnamed: 0                                          icls_cnts  label  \\\n",
       "0           0  ..<b>경찰</b>과 추격전까지 벌인 40대 남성이 붙잡혔습니다. .. 1시간이 ...    1.0   \n",
       "1           3  수원남부署, 모범<b>경찰</b> 최보라·김세홍 경장에 표창·장려장 수원남부<b>경...    1.0   \n",
       "2           4   조두순에 대한 1대1 전자감독 및 <b>경찰</b>을 통한 24시간 밀착 감독 등...    1.0   \n",
       "3           5  순천<b>경찰</b>서, 전화금융사기 예방 홍보시스템 구축 순천<b>경찰</b>서는...    1.0   \n",
       "4           6  경남<b>경찰</b>청 직원들, 사랑의 헌혈 릴레이 운동 경남지방<b>경찰</b>청...    1.0   \n",
       "\n",
       "                                             ko_text  \n",
       "0   경찰 과 추격전까지 벌인 대 남성이 붙잡혔습니다 시간이 넘도록 음주운전 차량을 뒤...  \n",
       "1  수원남부 모범 경찰 최보라 김세홍 경장에 표창 장려장 수원남부 경찰 서 서장 오문교...  \n",
       "2   조두순에 대한 대 전자감독 및 경찰 을 통한 시간 밀착 감독 등이 주된 내용이다 ...  \n",
       "3  순천 경찰 서 전화금융사기 예방 홍보시스템 구축 순천 경찰 서는 지난 일 전화금융사...  \n",
       "4  경남 경찰 청 직원들 사랑의 헌혈 릴레이 운동 경남지방 경찰 청 치안감 남구준 은 ...  "
      ]
     },
     "execution_count": 3,
     "metadata": {},
     "output_type": "execute_result"
    }
   ],
   "source": [
    "data['ko_text'] = data['icls_cnts'].apply(lambda x: text_cleaning(x))\n",
    "data.head()"
   ]
  },
  {
   "cell_type": "code",
   "execution_count": 4,
   "id": "bae3e1aa-55c6-4e84-8499-cd68b716b941",
   "metadata": {
    "execution": {
     "iopub.execute_input": "2022-11-09T05:35:43.605071Z",
     "iopub.status.busy": "2022-11-09T05:35:43.604862Z",
     "iopub.status.idle": "2022-11-09T05:35:43.609239Z",
     "shell.execute_reply": "2022-11-09T05:35:43.608859Z",
     "shell.execute_reply.started": "2022-11-09T05:35:43.605056Z"
    },
    "tags": []
   },
   "outputs": [],
   "source": [
    "data1 = data[['ko_text','label']]\n",
    "data2 = data[['ko_text','label']]"
   ]
  },
  {
   "cell_type": "code",
   "execution_count": 5,
   "id": "9fddb02a-e51d-47d8-ba7b-be71a2e84f24",
   "metadata": {
    "execution": {
     "iopub.execute_input": "2022-11-09T05:35:43.610099Z",
     "iopub.status.busy": "2022-11-09T05:35:43.609788Z",
     "iopub.status.idle": "2022-11-09T05:35:43.614547Z",
     "shell.execute_reply": "2022-11-09T05:35:43.614150Z",
     "shell.execute_reply.started": "2022-11-09T05:35:43.610085Z"
    },
    "tags": []
   },
   "outputs": [
    {
     "name": "stderr",
     "output_type": "stream",
     "text": [
      "/tmp/ipykernel_42762/2362880735.py:1: SettingWithCopyWarning: \n",
      "A value is trying to be set on a copy of a slice from a DataFrame\n",
      "\n",
      "See the caveats in the documentation: https://pandas.pydata.org/pandas-docs/stable/user_guide/indexing.html#returning-a-view-versus-a-copy\n",
      "  data1['label'].replace(-1, 1, inplace = True)\n"
     ]
    }
   ],
   "source": [
    "data1['label'].replace(-1, 1, inplace = True)\n",
    "trash = data2['label'].isin([0])\n",
    "data2 = data2[~trash]"
   ]
  },
  {
   "cell_type": "code",
   "execution_count": 6,
   "id": "f6cc1693-7ff1-4867-a2bc-811088fe9803",
   "metadata": {
    "execution": {
     "iopub.execute_input": "2022-11-09T05:35:43.615305Z",
     "iopub.status.busy": "2022-11-09T05:35:43.615062Z",
     "iopub.status.idle": "2022-11-09T05:35:43.621524Z",
     "shell.execute_reply": "2022-11-09T05:35:43.621143Z",
     "shell.execute_reply.started": "2022-11-09T05:35:43.615291Z"
    }
   },
   "outputs": [
    {
     "data": {
      "text/html": [
       "<div>\n",
       "<style scoped>\n",
       "    .dataframe tbody tr th:only-of-type {\n",
       "        vertical-align: middle;\n",
       "    }\n",
       "\n",
       "    .dataframe tbody tr th {\n",
       "        vertical-align: top;\n",
       "    }\n",
       "\n",
       "    .dataframe thead th {\n",
       "        text-align: right;\n",
       "    }\n",
       "</style>\n",
       "<table border=\"1\" class=\"dataframe\">\n",
       "  <thead>\n",
       "    <tr style=\"text-align: right;\">\n",
       "      <th></th>\n",
       "      <th>ko_text</th>\n",
       "      <th>label</th>\n",
       "    </tr>\n",
       "  </thead>\n",
       "  <tbody>\n",
       "    <tr>\n",
       "      <th>0</th>\n",
       "      <td>경찰 과 추격전까지 벌인 대 남성이 붙잡혔습니다 시간이 넘도록 음주운전 차량을 뒤...</td>\n",
       "      <td>1.0</td>\n",
       "    </tr>\n",
       "    <tr>\n",
       "      <th>1</th>\n",
       "      <td>수원남부 모범 경찰 최보라 김세홍 경장에 표창 장려장 수원남부 경찰 서 서장 오문교...</td>\n",
       "      <td>1.0</td>\n",
       "    </tr>\n",
       "    <tr>\n",
       "      <th>2</th>\n",
       "      <td>조두순에 대한 대 전자감독 및 경찰 을 통한 시간 밀착 감독 등이 주된 내용이다 ...</td>\n",
       "      <td>1.0</td>\n",
       "    </tr>\n",
       "    <tr>\n",
       "      <th>3</th>\n",
       "      <td>순천 경찰 서 전화금융사기 예방 홍보시스템 구축 순천 경찰 서는 지난 일 전화금융사...</td>\n",
       "      <td>1.0</td>\n",
       "    </tr>\n",
       "    <tr>\n",
       "      <th>4</th>\n",
       "      <td>경남 경찰 청 직원들 사랑의 헌혈 릴레이 운동 경남지방 경찰 청 치안감 남구준 은 ...</td>\n",
       "      <td>1.0</td>\n",
       "    </tr>\n",
       "    <tr>\n",
       "      <th>...</th>\n",
       "      <td>...</td>\n",
       "      <td>...</td>\n",
       "    </tr>\n",
       "    <tr>\n",
       "      <th>8054</th>\n",
       "      <td>경찰 현장 대응력 강화 태스크포스 는 차 회의에서 이 같은 내용을 결정했다 시범운...</td>\n",
       "      <td>1.0</td>\n",
       "    </tr>\n",
       "    <tr>\n",
       "      <th>8058</th>\n",
       "      <td>차에 불지르고 흉기 난동 대 테이저건으로 제압 대구에서 흉기로 행인을 위협하고 남의...</td>\n",
       "      <td>1.0</td>\n",
       "    </tr>\n",
       "    <tr>\n",
       "      <th>8064</th>\n",
       "      <td>사설 범인 제압 훈련을 온라인으로 때웠다는 경찰 대통령의 질타와 경찰청장의 사과에...</td>\n",
       "      <td>-1.0</td>\n",
       "    </tr>\n",
       "    <tr>\n",
       "      <th>8065</th>\n",
       "      <td>울산 경찰 방역수칙 위반 유흥주점 업주와 손님 등 명 입건 울산 경찰 청은 신종 코...</td>\n",
       "      <td>1.0</td>\n",
       "    </tr>\n",
       "    <tr>\n",
       "      <th>8070</th>\n",
       "      <td>인천 흉기난동 부실대응 경찰 관 송치 인천 경찰 청 광역 수사 대는 경찰 은 이들...</td>\n",
       "      <td>-1.0</td>\n",
       "    </tr>\n",
       "  </tbody>\n",
       "</table>\n",
       "<p>2858 rows × 2 columns</p>\n",
       "</div>"
      ],
      "text/plain": [
       "                                                ko_text  label\n",
       "0      경찰 과 추격전까지 벌인 대 남성이 붙잡혔습니다 시간이 넘도록 음주운전 차량을 뒤...    1.0\n",
       "1     수원남부 모범 경찰 최보라 김세홍 경장에 표창 장려장 수원남부 경찰 서 서장 오문교...    1.0\n",
       "2      조두순에 대한 대 전자감독 및 경찰 을 통한 시간 밀착 감독 등이 주된 내용이다 ...    1.0\n",
       "3     순천 경찰 서 전화금융사기 예방 홍보시스템 구축 순천 경찰 서는 지난 일 전화금융사...    1.0\n",
       "4     경남 경찰 청 직원들 사랑의 헌혈 릴레이 운동 경남지방 경찰 청 치안감 남구준 은 ...    1.0\n",
       "...                                                 ...    ...\n",
       "8054   경찰 현장 대응력 강화 태스크포스 는 차 회의에서 이 같은 내용을 결정했다 시범운...    1.0\n",
       "8058  차에 불지르고 흉기 난동 대 테이저건으로 제압 대구에서 흉기로 행인을 위협하고 남의...    1.0\n",
       "8064   사설 범인 제압 훈련을 온라인으로 때웠다는 경찰 대통령의 질타와 경찰청장의 사과에...   -1.0\n",
       "8065  울산 경찰 방역수칙 위반 유흥주점 업주와 손님 등 명 입건 울산 경찰 청은 신종 코...    1.0\n",
       "8070   인천 흉기난동 부실대응 경찰 관 송치 인천 경찰 청 광역 수사 대는 경찰 은 이들...   -1.0\n",
       "\n",
       "[2858 rows x 2 columns]"
      ]
     },
     "execution_count": 6,
     "metadata": {},
     "output_type": "execute_result"
    }
   ],
   "source": [
    "data2"
   ]
  },
  {
   "cell_type": "markdown",
   "id": "724a59cd-b40d-4ac3-b49b-5f793cf4d825",
   "metadata": {
    "tags": []
   },
   "source": [
    "# 단순 분류 모델 \n",
    "\n",
    "- 1차 : 중립 - not 중립 구분\n",
    "\n",
    "- 2차 : 긍정 - 부정 구분"
   ]
  },
  {
   "cell_type": "markdown",
   "id": "9148ace4-16dd-4a0f-b43f-75c4733ba864",
   "metadata": {
    "tags": []
   },
   "source": [
    "### 중립 - not 중립 구분"
   ]
  },
  {
   "cell_type": "code",
   "execution_count": 7,
   "id": "0e3976dd-9c74-4850-b78b-a6a9250ac74c",
   "metadata": {
    "execution": {
     "iopub.execute_input": "2022-11-09T05:35:43.623181Z",
     "iopub.status.busy": "2022-11-09T05:35:43.622937Z",
     "iopub.status.idle": "2022-11-09T05:35:43.625953Z",
     "shell.execute_reply": "2022-11-09T05:35:43.625560Z",
     "shell.execute_reply.started": "2022-11-09T05:35:43.623167Z"
    }
   },
   "outputs": [],
   "source": [
    "# 분석 변수\n",
    "news1 = list(data1['ko_text'])\n",
    "\n",
    "# 타겟 변수\n",
    "y1 = np.array(data1['label'])"
   ]
  },
  {
   "cell_type": "code",
   "execution_count": 8,
   "id": "6dab3246-9b3b-4510-ad47-9ceea1da6dc4",
   "metadata": {
    "execution": {
     "iopub.execute_input": "2022-11-09T05:35:43.626810Z",
     "iopub.status.busy": "2022-11-09T05:35:43.626588Z",
     "iopub.status.idle": "2022-11-09T05:35:43.934337Z",
     "shell.execute_reply": "2022-11-09T05:35:43.933841Z",
     "shell.execute_reply.started": "2022-11-09T05:35:43.626796Z"
    }
   },
   "outputs": [],
   "source": [
    "from sklearn.feature_extraction.text import CountVectorizer\n",
    "\n",
    "vectorizer = CountVectorizer(analyzer = 'word', max_features = 7000)\n",
    "\n",
    "news1 = vectorizer.fit_transform(news1)"
   ]
  },
  {
   "cell_type": "code",
   "execution_count": 9,
   "id": "f8098b6b-696f-4cd3-b2eb-7ae62e2cd123",
   "metadata": {
    "execution": {
     "iopub.execute_input": "2022-11-09T05:35:43.935334Z",
     "iopub.status.busy": "2022-11-09T05:35:43.935096Z",
     "iopub.status.idle": "2022-11-09T05:35:43.947882Z",
     "shell.execute_reply": "2022-11-09T05:35:43.947476Z",
     "shell.execute_reply.started": "2022-11-09T05:35:43.935317Z"
    }
   },
   "outputs": [],
   "source": [
    "from sklearn.model_selection import train_test_split\n",
    "\n",
    "Test_size = 0.2\n",
    "Random_seed = 34\n",
    "\n",
    "train_x1, test_x1, train_y1, test_y1 = train_test_split(news1, y1, test_size = Test_size, random_state = Random_seed)"
   ]
  },
  {
   "cell_type": "code",
   "execution_count": 10,
   "id": "3b3e7f38-375e-4962-91b0-3cd7222fb2b4",
   "metadata": {
    "execution": {
     "iopub.execute_input": "2022-11-09T05:35:43.948829Z",
     "iopub.status.busy": "2022-11-09T05:35:43.948480Z",
     "iopub.status.idle": "2022-11-09T05:35:51.658812Z",
     "shell.execute_reply": "2022-11-09T05:35:51.658201Z",
     "shell.execute_reply.started": "2022-11-09T05:35:43.948813Z"
    }
   },
   "outputs": [
    {
     "data": {
      "text/html": [
       "<style>#sk-container-id-1 {color: black;background-color: white;}#sk-container-id-1 pre{padding: 0;}#sk-container-id-1 div.sk-toggleable {background-color: white;}#sk-container-id-1 label.sk-toggleable__label {cursor: pointer;display: block;width: 100%;margin-bottom: 0;padding: 0.3em;box-sizing: border-box;text-align: center;}#sk-container-id-1 label.sk-toggleable__label-arrow:before {content: \"▸\";float: left;margin-right: 0.25em;color: #696969;}#sk-container-id-1 label.sk-toggleable__label-arrow:hover:before {color: black;}#sk-container-id-1 div.sk-estimator:hover label.sk-toggleable__label-arrow:before {color: black;}#sk-container-id-1 div.sk-toggleable__content {max-height: 0;max-width: 0;overflow: hidden;text-align: left;background-color: #f0f8ff;}#sk-container-id-1 div.sk-toggleable__content pre {margin: 0.2em;color: black;border-radius: 0.25em;background-color: #f0f8ff;}#sk-container-id-1 input.sk-toggleable__control:checked~div.sk-toggleable__content {max-height: 200px;max-width: 100%;overflow: auto;}#sk-container-id-1 input.sk-toggleable__control:checked~label.sk-toggleable__label-arrow:before {content: \"▾\";}#sk-container-id-1 div.sk-estimator input.sk-toggleable__control:checked~label.sk-toggleable__label {background-color: #d4ebff;}#sk-container-id-1 div.sk-label input.sk-toggleable__control:checked~label.sk-toggleable__label {background-color: #d4ebff;}#sk-container-id-1 input.sk-hidden--visually {border: 0;clip: rect(1px 1px 1px 1px);clip: rect(1px, 1px, 1px, 1px);height: 1px;margin: -1px;overflow: hidden;padding: 0;position: absolute;width: 1px;}#sk-container-id-1 div.sk-estimator {font-family: monospace;background-color: #f0f8ff;border: 1px dotted black;border-radius: 0.25em;box-sizing: border-box;margin-bottom: 0.5em;}#sk-container-id-1 div.sk-estimator:hover {background-color: #d4ebff;}#sk-container-id-1 div.sk-parallel-item::after {content: \"\";width: 100%;border-bottom: 1px solid gray;flex-grow: 1;}#sk-container-id-1 div.sk-label:hover label.sk-toggleable__label {background-color: #d4ebff;}#sk-container-id-1 div.sk-serial::before {content: \"\";position: absolute;border-left: 1px solid gray;box-sizing: border-box;top: 0;bottom: 0;left: 50%;z-index: 0;}#sk-container-id-1 div.sk-serial {display: flex;flex-direction: column;align-items: center;background-color: white;padding-right: 0.2em;padding-left: 0.2em;position: relative;}#sk-container-id-1 div.sk-item {position: relative;z-index: 1;}#sk-container-id-1 div.sk-parallel {display: flex;align-items: stretch;justify-content: center;background-color: white;position: relative;}#sk-container-id-1 div.sk-item::before, #sk-container-id-1 div.sk-parallel-item::before {content: \"\";position: absolute;border-left: 1px solid gray;box-sizing: border-box;top: 0;bottom: 0;left: 50%;z-index: -1;}#sk-container-id-1 div.sk-parallel-item {display: flex;flex-direction: column;z-index: 1;position: relative;background-color: white;}#sk-container-id-1 div.sk-parallel-item:first-child::after {align-self: flex-end;width: 50%;}#sk-container-id-1 div.sk-parallel-item:last-child::after {align-self: flex-start;width: 50%;}#sk-container-id-1 div.sk-parallel-item:only-child::after {width: 0;}#sk-container-id-1 div.sk-dashed-wrapped {border: 1px dashed gray;margin: 0 0.4em 0.5em 0.4em;box-sizing: border-box;padding-bottom: 0.4em;background-color: white;}#sk-container-id-1 div.sk-label label {font-family: monospace;font-weight: bold;display: inline-block;line-height: 1.2em;}#sk-container-id-1 div.sk-label-container {text-align: center;}#sk-container-id-1 div.sk-container {/* jupyter's `normalize.less` sets `[hidden] { display: none; }` but bootstrap.min.css set `[hidden] { display: none !important; }` so we also need the `!important` here to be able to override the default hidden behavior on the sphinx rendered scikit-learn.org. See: https://github.com/scikit-learn/scikit-learn/issues/21755 */display: inline-block !important;position: relative;}#sk-container-id-1 div.sk-text-repr-fallback {display: none;}</style><div id=\"sk-container-id-1\" class=\"sk-top-container\"><div class=\"sk-text-repr-fallback\"><pre>RandomForestClassifier(n_estimators=280)</pre><b>In a Jupyter environment, please rerun this cell to show the HTML representation or trust the notebook. <br />On GitHub, the HTML representation is unable to render, please try loading this page with nbviewer.org.</b></div><div class=\"sk-container\" hidden><div class=\"sk-item\"><div class=\"sk-estimator sk-toggleable\"><input class=\"sk-toggleable__control sk-hidden--visually\" id=\"sk-estimator-id-1\" type=\"checkbox\" checked><label for=\"sk-estimator-id-1\" class=\"sk-toggleable__label sk-toggleable__label-arrow\">RandomForestClassifier</label><div class=\"sk-toggleable__content\"><pre>RandomForestClassifier(n_estimators=280)</pre></div></div></div></div></div>"
      ],
      "text/plain": [
       "RandomForestClassifier(n_estimators=280)"
      ]
     },
     "execution_count": 10,
     "metadata": {},
     "output_type": "execute_result"
    }
   ],
   "source": [
    "from sklearn.ensemble import RandomForestClassifier\n",
    "\n",
    "model1 = RandomForestClassifier(n_estimators = 280)\n",
    "\n",
    "model1.fit(train_x1, train_y1)"
   ]
  },
  {
   "cell_type": "code",
   "execution_count": 11,
   "id": "f6dbdfac-cb1d-4cbe-a854-a560fbe4223b",
   "metadata": {
    "execution": {
     "iopub.execute_input": "2022-11-09T05:35:51.660046Z",
     "iopub.status.busy": "2022-11-09T05:35:51.659774Z",
     "iopub.status.idle": "2022-11-09T05:35:52.107417Z",
     "shell.execute_reply": "2022-11-09T05:35:52.106957Z",
     "shell.execute_reply.started": "2022-11-09T05:35:51.660027Z"
    },
    "tags": []
   },
   "outputs": [
    {
     "name": "stdout",
     "output_type": "stream",
     "text": [
      "정확도:0.81\n",
      "정밀도:0.815\n",
      "재현율:0.812\n",
      "F1:0.802\n",
      "ROC-AUC Score : 0.7589743331046451\n"
     ]
    }
   ],
   "source": [
    "from sklearn.metrics import accuracy_score, precision_score, recall_score, f1_score\n",
    "from sklearn.metrics import roc_auc_score, roc_curve\n",
    "\n",
    "\n",
    "y_pred1 = model1.predict(test_x1)\n",
    "y_pred_proba1 = model1.predict_proba(test_x1)\n",
    "roc_auc1 = roc_auc_score(test_y1, y_pred1)\n",
    "\n",
    "print(\"정확도:%.2f\"% accuracy_score(test_y1, y_pred1))\n",
    "print(\"정밀도:%.3f\"% precision_score(test_y1, y_pred1, average = 'weighted'))\n",
    "print(\"재현율:%.3f\"% recall_score(test_y1, y_pred1, average = 'weighted'))\n",
    "print(\"F1:%.3f\"% f1_score(test_y1, y_pred1, average = 'weighted'))\n",
    "print(\"ROC-AUC Score : {}\".format(roc_auc1))"
   ]
  },
  {
   "cell_type": "code",
   "execution_count": null,
   "id": "e5cef91c-3939-4c29-84f4-d840892ce7e4",
   "metadata": {},
   "outputs": [],
   "source": []
  },
  {
   "cell_type": "markdown",
   "id": "4e515ffe-8b28-452a-82ab-42f6bf2a67df",
   "metadata": {},
   "source": [
    "### 긍정 - 부정 구분"
   ]
  },
  {
   "cell_type": "code",
   "execution_count": 12,
   "id": "fabfd6c3-d746-42a6-a1b0-05a96491b7e6",
   "metadata": {
    "execution": {
     "iopub.execute_input": "2022-11-09T05:35:52.108299Z",
     "iopub.status.busy": "2022-11-09T05:35:52.108080Z",
     "iopub.status.idle": "2022-11-09T05:35:52.112371Z",
     "shell.execute_reply": "2022-11-09T05:35:52.111952Z",
     "shell.execute_reply.started": "2022-11-09T05:35:52.108283Z"
    }
   },
   "outputs": [],
   "source": [
    "# 분석 변수\n",
    "news2 = list(data2['ko_text'])\n",
    "\n",
    "# 타겟 변수\n",
    "y2 = np.array(data2['label'])"
   ]
  },
  {
   "cell_type": "code",
   "execution_count": 13,
   "id": "c021eebb-d9c2-452b-ab3f-a3dbca7b6e36",
   "metadata": {
    "execution": {
     "iopub.execute_input": "2022-11-09T05:35:52.113171Z",
     "iopub.status.busy": "2022-11-09T05:35:52.112967Z",
     "iopub.status.idle": "2022-11-09T05:35:52.239353Z",
     "shell.execute_reply": "2022-11-09T05:35:52.238724Z",
     "shell.execute_reply.started": "2022-11-09T05:35:52.113157Z"
    }
   },
   "outputs": [],
   "source": [
    "from sklearn.feature_extraction.text import CountVectorizer\n",
    "\n",
    "vectorizer = CountVectorizer(analyzer = 'word', max_features = 7000)\n",
    "\n",
    "news2 = vectorizer.fit_transform(news2)"
   ]
  },
  {
   "cell_type": "code",
   "execution_count": 14,
   "id": "18263e55-0d93-44c5-a493-5b65aae4b412",
   "metadata": {
    "execution": {
     "iopub.execute_input": "2022-11-09T05:35:52.240727Z",
     "iopub.status.busy": "2022-11-09T05:35:52.240260Z",
     "iopub.status.idle": "2022-11-09T05:35:52.244789Z",
     "shell.execute_reply": "2022-11-09T05:35:52.244314Z",
     "shell.execute_reply.started": "2022-11-09T05:35:52.240707Z"
    }
   },
   "outputs": [],
   "source": [
    "from sklearn.model_selection import train_test_split\n",
    "\n",
    "Test_size = 0.2\n",
    "Random_seed = 34\n",
    "\n",
    "train_x2, test_x2, train_y2, test_y2 = train_test_split(news2, y2, test_size = Test_size, random_state = Random_seed)"
   ]
  },
  {
   "cell_type": "code",
   "execution_count": 15,
   "id": "8a461eb8-583e-46c6-a3f1-57244d620c13",
   "metadata": {
    "execution": {
     "iopub.execute_input": "2022-11-09T05:35:52.245585Z",
     "iopub.status.busy": "2022-11-09T05:35:52.245418Z",
     "iopub.status.idle": "2022-11-09T05:35:54.373571Z",
     "shell.execute_reply": "2022-11-09T05:35:54.372899Z",
     "shell.execute_reply.started": "2022-11-09T05:35:52.245570Z"
    }
   },
   "outputs": [
    {
     "data": {
      "text/html": [
       "<style>#sk-container-id-2 {color: black;background-color: white;}#sk-container-id-2 pre{padding: 0;}#sk-container-id-2 div.sk-toggleable {background-color: white;}#sk-container-id-2 label.sk-toggleable__label {cursor: pointer;display: block;width: 100%;margin-bottom: 0;padding: 0.3em;box-sizing: border-box;text-align: center;}#sk-container-id-2 label.sk-toggleable__label-arrow:before {content: \"▸\";float: left;margin-right: 0.25em;color: #696969;}#sk-container-id-2 label.sk-toggleable__label-arrow:hover:before {color: black;}#sk-container-id-2 div.sk-estimator:hover label.sk-toggleable__label-arrow:before {color: black;}#sk-container-id-2 div.sk-toggleable__content {max-height: 0;max-width: 0;overflow: hidden;text-align: left;background-color: #f0f8ff;}#sk-container-id-2 div.sk-toggleable__content pre {margin: 0.2em;color: black;border-radius: 0.25em;background-color: #f0f8ff;}#sk-container-id-2 input.sk-toggleable__control:checked~div.sk-toggleable__content {max-height: 200px;max-width: 100%;overflow: auto;}#sk-container-id-2 input.sk-toggleable__control:checked~label.sk-toggleable__label-arrow:before {content: \"▾\";}#sk-container-id-2 div.sk-estimator input.sk-toggleable__control:checked~label.sk-toggleable__label {background-color: #d4ebff;}#sk-container-id-2 div.sk-label input.sk-toggleable__control:checked~label.sk-toggleable__label {background-color: #d4ebff;}#sk-container-id-2 input.sk-hidden--visually {border: 0;clip: rect(1px 1px 1px 1px);clip: rect(1px, 1px, 1px, 1px);height: 1px;margin: -1px;overflow: hidden;padding: 0;position: absolute;width: 1px;}#sk-container-id-2 div.sk-estimator {font-family: monospace;background-color: #f0f8ff;border: 1px dotted black;border-radius: 0.25em;box-sizing: border-box;margin-bottom: 0.5em;}#sk-container-id-2 div.sk-estimator:hover {background-color: #d4ebff;}#sk-container-id-2 div.sk-parallel-item::after {content: \"\";width: 100%;border-bottom: 1px solid gray;flex-grow: 1;}#sk-container-id-2 div.sk-label:hover label.sk-toggleable__label {background-color: #d4ebff;}#sk-container-id-2 div.sk-serial::before {content: \"\";position: absolute;border-left: 1px solid gray;box-sizing: border-box;top: 0;bottom: 0;left: 50%;z-index: 0;}#sk-container-id-2 div.sk-serial {display: flex;flex-direction: column;align-items: center;background-color: white;padding-right: 0.2em;padding-left: 0.2em;position: relative;}#sk-container-id-2 div.sk-item {position: relative;z-index: 1;}#sk-container-id-2 div.sk-parallel {display: flex;align-items: stretch;justify-content: center;background-color: white;position: relative;}#sk-container-id-2 div.sk-item::before, #sk-container-id-2 div.sk-parallel-item::before {content: \"\";position: absolute;border-left: 1px solid gray;box-sizing: border-box;top: 0;bottom: 0;left: 50%;z-index: -1;}#sk-container-id-2 div.sk-parallel-item {display: flex;flex-direction: column;z-index: 1;position: relative;background-color: white;}#sk-container-id-2 div.sk-parallel-item:first-child::after {align-self: flex-end;width: 50%;}#sk-container-id-2 div.sk-parallel-item:last-child::after {align-self: flex-start;width: 50%;}#sk-container-id-2 div.sk-parallel-item:only-child::after {width: 0;}#sk-container-id-2 div.sk-dashed-wrapped {border: 1px dashed gray;margin: 0 0.4em 0.5em 0.4em;box-sizing: border-box;padding-bottom: 0.4em;background-color: white;}#sk-container-id-2 div.sk-label label {font-family: monospace;font-weight: bold;display: inline-block;line-height: 1.2em;}#sk-container-id-2 div.sk-label-container {text-align: center;}#sk-container-id-2 div.sk-container {/* jupyter's `normalize.less` sets `[hidden] { display: none; }` but bootstrap.min.css set `[hidden] { display: none !important; }` so we also need the `!important` here to be able to override the default hidden behavior on the sphinx rendered scikit-learn.org. See: https://github.com/scikit-learn/scikit-learn/issues/21755 */display: inline-block !important;position: relative;}#sk-container-id-2 div.sk-text-repr-fallback {display: none;}</style><div id=\"sk-container-id-2\" class=\"sk-top-container\"><div class=\"sk-text-repr-fallback\"><pre>RandomForestClassifier(n_estimators=280)</pre><b>In a Jupyter environment, please rerun this cell to show the HTML representation or trust the notebook. <br />On GitHub, the HTML representation is unable to render, please try loading this page with nbviewer.org.</b></div><div class=\"sk-container\" hidden><div class=\"sk-item\"><div class=\"sk-estimator sk-toggleable\"><input class=\"sk-toggleable__control sk-hidden--visually\" id=\"sk-estimator-id-2\" type=\"checkbox\" checked><label for=\"sk-estimator-id-2\" class=\"sk-toggleable__label sk-toggleable__label-arrow\">RandomForestClassifier</label><div class=\"sk-toggleable__content\"><pre>RandomForestClassifier(n_estimators=280)</pre></div></div></div></div></div>"
      ],
      "text/plain": [
       "RandomForestClassifier(n_estimators=280)"
      ]
     },
     "execution_count": 15,
     "metadata": {},
     "output_type": "execute_result"
    }
   ],
   "source": [
    "from sklearn.ensemble import RandomForestClassifier\n",
    "\n",
    "model2 = RandomForestClassifier(n_estimators = 280)\n",
    "\n",
    "model2.fit(train_x2, train_y2)"
   ]
  },
  {
   "cell_type": "code",
   "execution_count": 16,
   "id": "78d3f30f-bcef-4433-bb1b-ec7b6ca70e44",
   "metadata": {
    "execution": {
     "iopub.execute_input": "2022-11-09T05:35:54.374877Z",
     "iopub.status.busy": "2022-11-09T05:35:54.374599Z",
     "iopub.status.idle": "2022-11-09T05:35:54.526879Z",
     "shell.execute_reply": "2022-11-09T05:35:54.526442Z",
     "shell.execute_reply.started": "2022-11-09T05:35:54.374851Z"
    },
    "tags": []
   },
   "outputs": [
    {
     "name": "stdout",
     "output_type": "stream",
     "text": [
      "정확도:0.90\n",
      "정밀도:0.899\n",
      "재현율:0.897\n",
      "F1:0.893\n",
      "ROC-AUC Score : 0.8533368187534441\n"
     ]
    }
   ],
   "source": [
    "from sklearn.metrics import accuracy_score, precision_score, recall_score, f1_score\n",
    "from sklearn.metrics import roc_auc_score, roc_curve\n",
    "\n",
    "\n",
    "y_pred2 = model2.predict(test_x2)\n",
    "y_pred_proba2 = model2.predict_proba(test_x2)\n",
    "roc_auc2 = roc_auc_score(test_y2, y_pred2)\n",
    "\n",
    "print(\"정확도:%.2f\"% accuracy_score(test_y2, y_pred2))\n",
    "print(\"정밀도:%.3f\"% precision_score(test_y2, y_pred2, average = 'weighted'))\n",
    "print(\"재현율:%.3f\"% recall_score(test_y2, y_pred2, average = 'weighted'))\n",
    "print(\"F1:%.3f\"% f1_score(test_y2, y_pred2, average = 'weighted'))\n",
    "print(\"ROC-AUC Score : {}\".format(roc_auc2))"
   ]
  },
  {
   "cell_type": "code",
   "execution_count": null,
   "id": "a6580205-c1a2-4eec-8fb9-5233c66aba14",
   "metadata": {},
   "outputs": [],
   "source": []
  },
  {
   "cell_type": "markdown",
   "id": "0911a111-996e-4cb3-a16e-ddd2996baabb",
   "metadata": {
    "tags": []
   },
   "source": [
    "# 다중 분류 모델"
   ]
  },
  {
   "cell_type": "markdown",
   "id": "28617c95-d669-45f3-a2bd-a3af75b87754",
   "metadata": {
    "tags": []
   },
   "source": [
    "### "
   ]
  },
  {
   "cell_type": "markdown",
   "id": "7bfeb81b-0361-4da6-beac-1d0a3df030e5",
   "metadata": {
    "execution": {
     "iopub.execute_input": "2022-11-08T05:47:05.878402Z",
     "iopub.status.busy": "2022-11-08T05:47:05.878217Z",
     "iopub.status.idle": "2022-11-08T05:47:05.880515Z",
     "shell.execute_reply": "2022-11-08T05:47:05.880135Z",
     "shell.execute_reply.started": "2022-11-08T05:47:05.878388Z"
    },
    "tags": []
   },
   "source": [
    "### 공백으로 정규화 된 icls_cnts 를 CountVectorizer 활용 / 학습-테스트 데이터 분할"
   ]
  },
  {
   "cell_type": "code",
   "execution_count": 17,
   "id": "10075db1-b71d-4e72-a9fa-11fc17112932",
   "metadata": {
    "execution": {
     "iopub.execute_input": "2022-11-09T05:35:54.527826Z",
     "iopub.status.busy": "2022-11-09T05:35:54.527542Z",
     "iopub.status.idle": "2022-11-09T05:35:54.532475Z",
     "shell.execute_reply": "2022-11-09T05:35:54.532065Z",
     "shell.execute_reply.started": "2022-11-09T05:35:54.527811Z"
    },
    "tags": []
   },
   "outputs": [],
   "source": [
    "# 분석 변수\n",
    "news = list(data['ko_text'])\n",
    "\n",
    "# 타겟 변수\n",
    "y = np.array(data['label'])"
   ]
  },
  {
   "cell_type": "code",
   "execution_count": 18,
   "id": "0e8bf827-8f7d-4723-9139-9ecf1b9979c9",
   "metadata": {
    "execution": {
     "iopub.execute_input": "2022-11-09T05:35:54.533323Z",
     "iopub.status.busy": "2022-11-09T05:35:54.533061Z",
     "iopub.status.idle": "2022-11-09T05:35:54.845736Z",
     "shell.execute_reply": "2022-11-09T05:35:54.845213Z",
     "shell.execute_reply.started": "2022-11-09T05:35:54.533309Z"
    },
    "tags": []
   },
   "outputs": [],
   "source": [
    "from sklearn.feature_extraction.text import CountVectorizer\n",
    "\n",
    "vectorizer = CountVectorizer(analyzer = 'word', max_features = 7000)\n",
    "\n",
    "news = vectorizer.fit_transform(news)"
   ]
  },
  {
   "cell_type": "code",
   "execution_count": 19,
   "id": "3c1efb57-3247-4e16-bd43-a444ec48d5eb",
   "metadata": {
    "execution": {
     "iopub.execute_input": "2022-11-09T05:35:54.846734Z",
     "iopub.status.busy": "2022-11-09T05:35:54.846493Z",
     "iopub.status.idle": "2022-11-09T05:35:54.851040Z",
     "shell.execute_reply": "2022-11-09T05:35:54.850639Z",
     "shell.execute_reply.started": "2022-11-09T05:35:54.846718Z"
    },
    "tags": []
   },
   "outputs": [],
   "source": [
    "from sklearn.model_selection import train_test_split\n",
    "\n",
    "Test_size = 0.1\n",
    "Random_seed = 34\n",
    "\n",
    "train_x, test_x, train_y, test_y = train_test_split(news, y, test_size = Test_size, random_state = Random_seed)"
   ]
  },
  {
   "cell_type": "code",
   "execution_count": 20,
   "id": "76673a09-f10f-4aa4-aa03-28f9ad77a5d1",
   "metadata": {
    "execution": {
     "iopub.execute_input": "2022-11-09T05:35:54.851835Z",
     "iopub.status.busy": "2022-11-09T05:35:54.851638Z",
     "iopub.status.idle": "2022-11-09T05:35:54.855368Z",
     "shell.execute_reply": "2022-11-09T05:35:54.855001Z",
     "shell.execute_reply.started": "2022-11-09T05:35:54.851820Z"
    },
    "tags": []
   },
   "outputs": [
    {
     "data": {
      "text/plain": [
       "array([ 0.,  1.,  0., ...,  0., -1.,  0.])"
      ]
     },
     "execution_count": 20,
     "metadata": {},
     "output_type": "execute_result"
    }
   ],
   "source": [
    "train_y"
   ]
  },
  {
   "cell_type": "markdown",
   "id": "8dba7ae1",
   "metadata": {},
   "source": [
    "### "
   ]
  },
  {
   "cell_type": "markdown",
   "id": "97a8525c-e117-4b23-ba9a-943f49c2f260",
   "metadata": {
    "tags": []
   },
   "source": [
    "### RandomForest 분류 모델 사용하여 모델 구축(다중 분류)"
   ]
  },
  {
   "cell_type": "code",
   "execution_count": 21,
   "id": "8de6bad8-895a-496a-8cce-41bb7e7f5215",
   "metadata": {
    "execution": {
     "iopub.execute_input": "2022-11-09T05:35:54.856220Z",
     "iopub.status.busy": "2022-11-09T05:35:54.855926Z",
     "iopub.status.idle": "2022-11-09T05:36:04.171266Z",
     "shell.execute_reply": "2022-11-09T05:36:04.170689Z",
     "shell.execute_reply.started": "2022-11-09T05:35:54.856206Z"
    },
    "tags": []
   },
   "outputs": [
    {
     "data": {
      "text/html": [
       "<style>#sk-container-id-3 {color: black;background-color: white;}#sk-container-id-3 pre{padding: 0;}#sk-container-id-3 div.sk-toggleable {background-color: white;}#sk-container-id-3 label.sk-toggleable__label {cursor: pointer;display: block;width: 100%;margin-bottom: 0;padding: 0.3em;box-sizing: border-box;text-align: center;}#sk-container-id-3 label.sk-toggleable__label-arrow:before {content: \"▸\";float: left;margin-right: 0.25em;color: #696969;}#sk-container-id-3 label.sk-toggleable__label-arrow:hover:before {color: black;}#sk-container-id-3 div.sk-estimator:hover label.sk-toggleable__label-arrow:before {color: black;}#sk-container-id-3 div.sk-toggleable__content {max-height: 0;max-width: 0;overflow: hidden;text-align: left;background-color: #f0f8ff;}#sk-container-id-3 div.sk-toggleable__content pre {margin: 0.2em;color: black;border-radius: 0.25em;background-color: #f0f8ff;}#sk-container-id-3 input.sk-toggleable__control:checked~div.sk-toggleable__content {max-height: 200px;max-width: 100%;overflow: auto;}#sk-container-id-3 input.sk-toggleable__control:checked~label.sk-toggleable__label-arrow:before {content: \"▾\";}#sk-container-id-3 div.sk-estimator input.sk-toggleable__control:checked~label.sk-toggleable__label {background-color: #d4ebff;}#sk-container-id-3 div.sk-label input.sk-toggleable__control:checked~label.sk-toggleable__label {background-color: #d4ebff;}#sk-container-id-3 input.sk-hidden--visually {border: 0;clip: rect(1px 1px 1px 1px);clip: rect(1px, 1px, 1px, 1px);height: 1px;margin: -1px;overflow: hidden;padding: 0;position: absolute;width: 1px;}#sk-container-id-3 div.sk-estimator {font-family: monospace;background-color: #f0f8ff;border: 1px dotted black;border-radius: 0.25em;box-sizing: border-box;margin-bottom: 0.5em;}#sk-container-id-3 div.sk-estimator:hover {background-color: #d4ebff;}#sk-container-id-3 div.sk-parallel-item::after {content: \"\";width: 100%;border-bottom: 1px solid gray;flex-grow: 1;}#sk-container-id-3 div.sk-label:hover label.sk-toggleable__label {background-color: #d4ebff;}#sk-container-id-3 div.sk-serial::before {content: \"\";position: absolute;border-left: 1px solid gray;box-sizing: border-box;top: 0;bottom: 0;left: 50%;z-index: 0;}#sk-container-id-3 div.sk-serial {display: flex;flex-direction: column;align-items: center;background-color: white;padding-right: 0.2em;padding-left: 0.2em;position: relative;}#sk-container-id-3 div.sk-item {position: relative;z-index: 1;}#sk-container-id-3 div.sk-parallel {display: flex;align-items: stretch;justify-content: center;background-color: white;position: relative;}#sk-container-id-3 div.sk-item::before, #sk-container-id-3 div.sk-parallel-item::before {content: \"\";position: absolute;border-left: 1px solid gray;box-sizing: border-box;top: 0;bottom: 0;left: 50%;z-index: -1;}#sk-container-id-3 div.sk-parallel-item {display: flex;flex-direction: column;z-index: 1;position: relative;background-color: white;}#sk-container-id-3 div.sk-parallel-item:first-child::after {align-self: flex-end;width: 50%;}#sk-container-id-3 div.sk-parallel-item:last-child::after {align-self: flex-start;width: 50%;}#sk-container-id-3 div.sk-parallel-item:only-child::after {width: 0;}#sk-container-id-3 div.sk-dashed-wrapped {border: 1px dashed gray;margin: 0 0.4em 0.5em 0.4em;box-sizing: border-box;padding-bottom: 0.4em;background-color: white;}#sk-container-id-3 div.sk-label label {font-family: monospace;font-weight: bold;display: inline-block;line-height: 1.2em;}#sk-container-id-3 div.sk-label-container {text-align: center;}#sk-container-id-3 div.sk-container {/* jupyter's `normalize.less` sets `[hidden] { display: none; }` but bootstrap.min.css set `[hidden] { display: none !important; }` so we also need the `!important` here to be able to override the default hidden behavior on the sphinx rendered scikit-learn.org. See: https://github.com/scikit-learn/scikit-learn/issues/21755 */display: inline-block !important;position: relative;}#sk-container-id-3 div.sk-text-repr-fallback {display: none;}</style><div id=\"sk-container-id-3\" class=\"sk-top-container\"><div class=\"sk-text-repr-fallback\"><pre>RandomForestClassifier(n_estimators=280)</pre><b>In a Jupyter environment, please rerun this cell to show the HTML representation or trust the notebook. <br />On GitHub, the HTML representation is unable to render, please try loading this page with nbviewer.org.</b></div><div class=\"sk-container\" hidden><div class=\"sk-item\"><div class=\"sk-estimator sk-toggleable\"><input class=\"sk-toggleable__control sk-hidden--visually\" id=\"sk-estimator-id-3\" type=\"checkbox\" checked><label for=\"sk-estimator-id-3\" class=\"sk-toggleable__label sk-toggleable__label-arrow\">RandomForestClassifier</label><div class=\"sk-toggleable__content\"><pre>RandomForestClassifier(n_estimators=280)</pre></div></div></div></div></div>"
      ],
      "text/plain": [
       "RandomForestClassifier(n_estimators=280)"
      ]
     },
     "execution_count": 21,
     "metadata": {},
     "output_type": "execute_result"
    }
   ],
   "source": [
    "from sklearn.ensemble import RandomForestClassifier\n",
    "\n",
    "forest = RandomForestClassifier(n_estimators = 280)\n",
    "\n",
    "forest.fit(train_x, train_y)"
   ]
  },
  {
   "cell_type": "code",
   "execution_count": 22,
   "id": "3faba614-3924-4974-8fff-6844943a04b9",
   "metadata": {
    "execution": {
     "iopub.execute_input": "2022-11-09T05:36:04.174045Z",
     "iopub.status.busy": "2022-11-09T05:36:04.173802Z",
     "iopub.status.idle": "2022-11-09T05:36:04.479971Z",
     "shell.execute_reply": "2022-11-09T05:36:04.479541Z",
     "shell.execute_reply.started": "2022-11-09T05:36:04.174028Z"
    },
    "tags": []
   },
   "outputs": [
    {
     "name": "stdout",
     "output_type": "stream",
     "text": [
      "정확도:0.79\n",
      "정밀도:0.810\n",
      "재현율:0.790\n",
      "F1:0.771\n",
      "ROC-AUC Score : 0.8966634042064628\n"
     ]
    }
   ],
   "source": [
    "from sklearn.metrics import accuracy_score, precision_score, recall_score, f1_score\n",
    "from sklearn.metrics import roc_auc_score, roc_curve\n",
    "\n",
    "\n",
    "y_pred = forest.predict(test_x)\n",
    "y_pred_proba = forest.predict_proba(test_x)\n",
    "roc_auc = roc_auc_score(test_y, y_pred_proba, multi_class = 'ovr')\n",
    "\n",
    "print(\"정확도:%.2f\"% accuracy_score(test_y, y_pred))\n",
    "print(\"정밀도:%.3f\"% precision_score(test_y,y_pred, average = 'weighted'))\n",
    "print(\"재현율:%.3f\"% recall_score(test_y, y_pred, average = 'weighted'))\n",
    "print(\"F1:%.3f\"% f1_score(test_y,y_pred, average = 'weighted'))\n",
    "print(\"ROC-AUC Score : {}\".format(roc_auc))"
   ]
  },
  {
   "cell_type": "markdown",
   "id": "2f365967-748c-4905-8be2-9a430770836b",
   "metadata": {
    "jp-MarkdownHeadingCollapsed": true,
    "tags": []
   },
   "source": [
    "### 최적 파라미터 조정(무의미)"
   ]
  },
  {
   "cell_type": "markdown",
   "id": "a8c3e178-aa31-4329-9abb-549ff3ba3e97",
   "metadata": {
    "execution": {
     "iopub.execute_input": "2022-11-08T04:54:55.766844Z",
     "iopub.status.busy": "2022-11-08T04:54:55.766410Z",
     "iopub.status.idle": "2022-11-08T04:57:09.259724Z",
     "shell.execute_reply": "2022-11-08T04:57:09.258879Z",
     "shell.execute_reply.started": "2022-11-08T04:54:55.766827Z"
    },
    "tags": []
   },
   "source": [
    "from sklearn.model_selection import GridSearchCV\n",
    "\n",
    "params = {\n",
    "    'n_estimators' : [10, 100, 300],\n",
    "    'max_depth' : [0, 1, 2, 3, 4, 6, 8, 10, 12],\n",
    "    'min_samples_leaf' : [1, 2, 3, 4, 5, 6, 7, 8, 12, 16],\n",
    "    'min_samples_split' : [2, 4, 6, 8, 10, 12, 14, 16, 18, 20]\n",
    "}\n",
    "\n",
    "grid_cv = GridSearchCV(forest, param_grid = params, cv = 2, n_jobs = -1)\n",
    "grid_cv.fit(train_x, train_y)\n",
    "\n",
    "print(f\"Best Param : {grid_cv.best_params_}\")\n",
    "max_depth = grid_cv.best_params_['max_depth']\n",
    "n_estimators = grid_cv.best_params_['n_estimators']\n",
    "min_samples_leaf = grid_cv.best_params_['min_samples_leaf']\n",
    "min_samples_split = grid_cv.best_params_['min_samples_split']\n",
    "\n",
    "RF = RandomForestClassifier(n_estimators = n_estimators, max_depth = max_depth, min_samples_leaf = min_samples_leaf, min_samples_split = min_samples_split)\n",
    "RF.fit(train_x, train_y)\n",
    "\n",
    "y_pred = RF.predict(test_x)\n",
    "y_pred_probability = RF.predict_proba(test_x)\n",
    "\n",
    "print(\"정확도:%.2f\"% accuracy_score(test_y, y_pred))\n",
    "print(\"정밀도:%.3f\"% precision_score(test_y,y_pred, average = 'weighted'))\n",
    "print(\"재현율:%.3f\"% recall_score(test_y, y_pred, average = 'weighted'))\n",
    "print(\"F1:%.3f\"% f1_score(test_y,y_pred, average = 'weighted'))"
   ]
  },
  {
   "cell_type": "code",
   "execution_count": null,
   "id": "6c6a8632-dfee-4506-a547-15f264a480f5",
   "metadata": {},
   "outputs": [],
   "source": []
  },
  {
   "cell_type": "markdown",
   "id": "edbe02f6-120a-4d66-9d9b-9d5d5a1cf95d",
   "metadata": {},
   "source": [
    "# 모델 적용"
   ]
  },
  {
   "cell_type": "code",
   "execution_count": null,
   "id": "0b8a677c-eb17-4545-ad5a-fd659230ccc4",
   "metadata": {},
   "outputs": [],
   "source": []
  },
  {
   "cell_type": "code",
   "execution_count": 23,
   "id": "7efdcdd0-9e36-469f-9dfd-973d035af8ac",
   "metadata": {
    "execution": {
     "iopub.execute_input": "2022-11-09T05:36:04.480817Z",
     "iopub.status.busy": "2022-11-09T05:36:04.480607Z",
     "iopub.status.idle": "2022-11-09T05:36:04.858125Z",
     "shell.execute_reply": "2022-11-09T05:36:04.857621Z",
     "shell.execute_reply.started": "2022-11-09T05:36:04.480802Z"
    },
    "tags": []
   },
   "outputs": [],
   "source": [
    "real_data = pd.read_csv('뉴스목록2022-11-01_2022-11-09.csv', encoding = 'cp949')\n",
    "real_data['ko_text'] = real_data['icls_cnts'].apply(lambda x: text_cleaning(x))"
   ]
  },
  {
   "cell_type": "code",
   "execution_count": 24,
   "id": "0c30b099-0d41-4ebe-8dc6-ee33119ce047",
   "metadata": {
    "execution": {
     "iopub.execute_input": "2022-11-09T05:36:04.859048Z",
     "iopub.status.busy": "2022-11-09T05:36:04.858819Z",
     "iopub.status.idle": "2022-11-09T05:36:05.464093Z",
     "shell.execute_reply": "2022-11-09T05:36:05.463515Z",
     "shell.execute_reply.started": "2022-11-09T05:36:04.859033Z"
    },
    "tags": []
   },
   "outputs": [],
   "source": [
    "real_news1_1 = real_data['ko_text']\n",
    "real_news1 = list(real_data['ko_text'])\n",
    "real_news1 = vectorizer.fit_transform(real_news1)"
   ]
  },
  {
   "cell_type": "code",
   "execution_count": 25,
   "id": "956d1b41-4b9d-4f94-983f-a22b654b0be1",
   "metadata": {
    "execution": {
     "iopub.execute_input": "2022-11-09T05:36:05.465149Z",
     "iopub.status.busy": "2022-11-09T05:36:05.464873Z",
     "iopub.status.idle": "2022-11-09T05:36:07.449192Z",
     "shell.execute_reply": "2022-11-09T05:36:07.448659Z",
     "shell.execute_reply.started": "2022-11-09T05:36:05.465132Z"
    },
    "tags": []
   },
   "outputs": [],
   "source": [
    "result1 = model1.predict(real_news1)\n",
    "result1 = pd.Series(result1)"
   ]
  },
  {
   "cell_type": "markdown",
   "id": "d8acdbc0-e8b9-4cec-ad61-b1856904a9f5",
   "metadata": {},
   "source": [
    "1차 데이터프레임 구축"
   ]
  },
  {
   "cell_type": "code",
   "execution_count": 26,
   "id": "2ebfcc4b-536e-4cbc-a61e-7b0f64ba0d59",
   "metadata": {
    "execution": {
     "iopub.execute_input": "2022-11-09T05:36:07.450207Z",
     "iopub.status.busy": "2022-11-09T05:36:07.449968Z",
     "iopub.status.idle": "2022-11-09T05:36:07.454992Z",
     "shell.execute_reply": "2022-11-09T05:36:07.454378Z",
     "shell.execute_reply.started": "2022-11-09T05:36:07.450190Z"
    },
    "tags": []
   },
   "outputs": [],
   "source": [
    "real_news_first = pd.concat([real_news1_1, result1], axis = 1)\n",
    "real_news_first.columns = ['ko_text', 'label']"
   ]
  },
  {
   "cell_type": "code",
   "execution_count": 27,
   "id": "05115fb7-84d2-4569-be83-19f7ed3387e3",
   "metadata": {
    "execution": {
     "iopub.execute_input": "2022-11-09T05:36:07.456259Z",
     "iopub.status.busy": "2022-11-09T05:36:07.455839Z",
     "iopub.status.idle": "2022-11-09T05:36:07.461700Z",
     "shell.execute_reply": "2022-11-09T05:36:07.461227Z",
     "shell.execute_reply.started": "2022-11-09T05:36:07.456241Z"
    },
    "tags": []
   },
   "outputs": [],
   "source": [
    "trash1 = real_news_first['label'].isin([0])\n",
    "real_news_second = real_news_first[~trash1]\n",
    "# 1차 데이터 프레임\n",
    "real_news_second.reset_index(drop = True, inplace = True)"
   ]
  },
  {
   "cell_type": "code",
   "execution_count": 28,
   "id": "c3793240-07ff-4366-973d-c57c4b0fdfc3",
   "metadata": {
    "execution": {
     "iopub.execute_input": "2022-11-09T05:36:07.462463Z",
     "iopub.status.busy": "2022-11-09T05:36:07.462298Z",
     "iopub.status.idle": "2022-11-09T05:36:07.546329Z",
     "shell.execute_reply": "2022-11-09T05:36:07.545795Z",
     "shell.execute_reply.started": "2022-11-09T05:36:07.462441Z"
    },
    "tags": []
   },
   "outputs": [],
   "source": [
    "real_news2_1 = real_news_second['ko_text']\n",
    "real_news2 = list(real_news_second['ko_text'])\n",
    "real_news2 = vectorizer.fit_transform(real_news2)"
   ]
  },
  {
   "cell_type": "code",
   "execution_count": 29,
   "id": "ede70ae1-4170-4936-b858-6e2221755cf5",
   "metadata": {
    "execution": {
     "iopub.execute_input": "2022-11-09T05:36:07.547442Z",
     "iopub.status.busy": "2022-11-09T05:36:07.547070Z",
     "iopub.status.idle": "2022-11-09T05:36:07.754263Z",
     "shell.execute_reply": "2022-11-09T05:36:07.753667Z",
     "shell.execute_reply.started": "2022-11-09T05:36:07.547424Z"
    },
    "tags": []
   },
   "outputs": [
    {
     "data": {
      "text/html": [
       "<div>\n",
       "<style scoped>\n",
       "    .dataframe tbody tr th:only-of-type {\n",
       "        vertical-align: middle;\n",
       "    }\n",
       "\n",
       "    .dataframe tbody tr th {\n",
       "        vertical-align: top;\n",
       "    }\n",
       "\n",
       "    .dataframe thead th {\n",
       "        text-align: right;\n",
       "    }\n",
       "</style>\n",
       "<table border=\"1\" class=\"dataframe\">\n",
       "  <thead>\n",
       "    <tr style=\"text-align: right;\">\n",
       "      <th></th>\n",
       "      <th>ko_text</th>\n",
       "      <th>label</th>\n",
       "    </tr>\n",
       "  </thead>\n",
       "  <tbody>\n",
       "    <tr>\n",
       "      <th>0</th>\n",
       "      <td>신고 늑장 대처 경찰 질타 한 점 의혹없이 진상 밝히라 윤석열 대통령이 이태원 참...</td>\n",
       "      <td>1.0</td>\n",
       "    </tr>\n",
       "    <tr>\n",
       "      <th>1</th>\n",
       "      <td>늑장대처 경찰 질타 행안부장관 경찰 청장 서울시장 줄줄이 사과 윤석열 대통령은 이...</td>\n",
       "      <td>1.0</td>\n",
       "    </tr>\n",
       "    <tr>\n",
       "      <th>2</th>\n",
       "      <td>사고 발생 시간 전에 이미 사고 현장에서 압사를 우려하면서 경찰 의 현장 통제를 ...</td>\n",
       "      <td>1.0</td>\n",
       "    </tr>\n",
       "    <tr>\n",
       "      <th>3</th>\n",
       "      <td>경찰 질타 왜 시간 동안 물끄러미 쳐다만 봤는가 윤석열 대통령은 일 경찰 에 있다...</td>\n",
       "      <td>1.0</td>\n",
       "    </tr>\n",
       "    <tr>\n",
       "      <th>4</th>\n",
       "      <td>수사 상황 지켜볼 것 이태원 핼로윈 참사 당일 경찰 의 부실 대응을 놓고 정부 책...</td>\n",
       "      <td>1.0</td>\n",
       "    </tr>\n",
       "    <tr>\n",
       "      <th>...</th>\n",
       "      <td>...</td>\n",
       "      <td>...</td>\n",
       "    </tr>\n",
       "    <tr>\n",
       "      <th>2052</th>\n",
       "      <td>대낮 음주 사고 낸 경찰 간부 중징계 처분 아시아경제 호남취재본부 박진형 기자 대낮...</td>\n",
       "      <td>-1.0</td>\n",
       "    </tr>\n",
       "    <tr>\n",
       "      <th>2053</th>\n",
       "      <td>경찰 소 특히 행사가 끝난 직후 사고 예방 조치가 소홀했다는 지적이 제기됐습니다 ...</td>\n",
       "      <td>1.0</td>\n",
       "    </tr>\n",
       "    <tr>\n",
       "      <th>2054</th>\n",
       "      <td>경찰 소 특히 행사가 끝난 직후 사고 예방 조치가 소홀했다는 지적이 제기됐습니다 ...</td>\n",
       "      <td>1.0</td>\n",
       "    </tr>\n",
       "    <tr>\n",
       "      <th>2055</th>\n",
       "      <td>윤희근 경찰 청장은 경찰 의 대응에 미흡한 점이 있었다며 강도 높은 감찰을 예고했습...</td>\n",
       "      <td>1.0</td>\n",
       "    </tr>\n",
       "    <tr>\n",
       "      <th>2056</th>\n",
       "      <td>윤석열 대통령이 참사와 관련해 경찰 을 강하게 질타했습니다 철저한 진상규명과 책임자...</td>\n",
       "      <td>1.0</td>\n",
       "    </tr>\n",
       "  </tbody>\n",
       "</table>\n",
       "<p>2057 rows × 2 columns</p>\n",
       "</div>"
      ],
      "text/plain": [
       "                                                ko_text  label\n",
       "0      신고 늑장 대처 경찰 질타 한 점 의혹없이 진상 밝히라 윤석열 대통령이 이태원 참...    1.0\n",
       "1      늑장대처 경찰 질타 행안부장관 경찰 청장 서울시장 줄줄이 사과 윤석열 대통령은 이...    1.0\n",
       "2      사고 발생 시간 전에 이미 사고 현장에서 압사를 우려하면서 경찰 의 현장 통제를 ...    1.0\n",
       "3      경찰 질타 왜 시간 동안 물끄러미 쳐다만 봤는가 윤석열 대통령은 일 경찰 에 있다...    1.0\n",
       "4      수사 상황 지켜볼 것 이태원 핼로윈 참사 당일 경찰 의 부실 대응을 놓고 정부 책...    1.0\n",
       "...                                                 ...    ...\n",
       "2052  대낮 음주 사고 낸 경찰 간부 중징계 처분 아시아경제 호남취재본부 박진형 기자 대낮...   -1.0\n",
       "2053   경찰 소 특히 행사가 끝난 직후 사고 예방 조치가 소홀했다는 지적이 제기됐습니다 ...    1.0\n",
       "2054   경찰 소 특히 행사가 끝난 직후 사고 예방 조치가 소홀했다는 지적이 제기됐습니다 ...    1.0\n",
       "2055  윤희근 경찰 청장은 경찰 의 대응에 미흡한 점이 있었다며 강도 높은 감찰을 예고했습...    1.0\n",
       "2056  윤석열 대통령이 참사와 관련해 경찰 을 강하게 질타했습니다 철저한 진상규명과 책임자...    1.0\n",
       "\n",
       "[2057 rows x 2 columns]"
      ]
     },
     "execution_count": 29,
     "metadata": {},
     "output_type": "execute_result"
    }
   ],
   "source": [
    "result2 = model2.predict(real_news2)\n",
    "result2 = pd.Series(result2)\n",
    "real_news_final = pd.concat([real_news2_1, result2], axis = 1)\n",
    "real_news_final.columns = ['ko_text', 'label']\n",
    "real_news_final"
   ]
  },
  {
   "cell_type": "code",
   "execution_count": 30,
   "id": "8c93dc04-cff9-48b9-86c5-c38c12369129",
   "metadata": {
    "execution": {
     "iopub.execute_input": "2022-11-09T05:36:35.779484Z",
     "iopub.status.busy": "2022-11-09T05:36:35.779151Z",
     "iopub.status.idle": "2022-11-09T05:36:35.797556Z",
     "shell.execute_reply": "2022-11-09T05:36:35.797085Z",
     "shell.execute_reply.started": "2022-11-09T05:36:35.779462Z"
    }
   },
   "outputs": [],
   "source": [
    "real_news_final.to_csv('a.csv')"
   ]
  },
  {
   "cell_type": "code",
   "execution_count": null,
   "id": "9ba992e0-b359-446e-8315-43e4fbe841c8",
   "metadata": {},
   "outputs": [],
   "source": []
  }
 ],
 "metadata": {
  "kernelspec": {
   "display_name": "tf2.7.0-keras2.7.0-py3.8",
   "language": "python",
   "name": "tf2.7.0-keras2.7.0-py3.8"
  },
  "language_info": {
   "codemirror_mode": {
    "name": "ipython",
    "version": 3
   },
   "file_extension": ".py",
   "mimetype": "text/x-python",
   "name": "python",
   "nbconvert_exporter": "python",
   "pygments_lexer": "ipython3",
   "version": "3.8.10"
  }
 },
 "nbformat": 4,
 "nbformat_minor": 5
}
