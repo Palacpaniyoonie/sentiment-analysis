{
 "cells": [
  {
   "cell_type": "markdown",
   "id": "dbfd2b7a",
   "metadata": {},
   "source": [
    "# 필요 패키지 로드"
   ]
  },
  {
   "cell_type": "code",
   "execution_count": 13,
   "id": "f0ce449f",
   "metadata": {
    "execution": {
     "iopub.execute_input": "2022-11-02T06:50:43.936388Z",
     "iopub.status.busy": "2022-11-02T06:50:43.936154Z",
     "iopub.status.idle": "2022-11-02T06:50:45.656955Z",
     "shell.execute_reply": "2022-11-02T06:50:45.656283Z",
     "shell.execute_reply.started": "2022-11-02T06:50:43.936374Z"
    }
   },
   "outputs": [],
   "source": [
    "import pandas as pd\n",
    "import matplotlib.pyplot as plt\n",
    "import numpy as np\n",
    "from konlpy.tag import Okt\n",
    "from sklearn.feature_extraction.text import CountVectorizer\n",
    "from sklearn.feature_extraction.text import TfidfTransformer"
   ]
  },
  {
   "cell_type": "markdown",
   "id": "6d3e35f6",
   "metadata": {},
   "source": [
    "# 데이터 전처리"
   ]
  },
  {
   "cell_type": "code",
   "execution_count": 14,
   "id": "9619dc29",
   "metadata": {
    "execution": {
     "iopub.execute_input": "2022-11-02T06:50:45.658537Z",
     "iopub.status.busy": "2022-11-02T06:50:45.657882Z",
     "iopub.status.idle": "2022-11-02T06:50:45.720883Z",
     "shell.execute_reply": "2022-11-02T06:50:45.720329Z",
     "shell.execute_reply.started": "2022-11-02T06:50:45.658514Z"
    },
    "tags": []
   },
   "outputs": [],
   "source": [
    "data = pd.read_csv('data_8074.csv', encoding = 'utf-8')"
   ]
  },
  {
   "cell_type": "code",
   "execution_count": 15,
   "id": "4d75b15d",
   "metadata": {
    "execution": {
     "iopub.execute_input": "2022-11-02T06:50:45.722094Z",
     "iopub.status.busy": "2022-11-02T06:50:45.721690Z",
     "iopub.status.idle": "2022-11-02T06:50:45.732590Z",
     "shell.execute_reply": "2022-11-02T06:50:45.732061Z",
     "shell.execute_reply.started": "2022-11-02T06:50:45.722074Z"
    }
   },
   "outputs": [
    {
     "name": "stdout",
     "output_type": "stream",
     "text": [
      "<class 'pandas.core.frame.DataFrame'>\n",
      "RangeIndex: 8074 entries, 0 to 8073\n",
      "Data columns (total 3 columns):\n",
      " #   Column      Non-Null Count  Dtype  \n",
      "---  ------      --------------  -----  \n",
      " 0   Unnamed: 0  8074 non-null   int64  \n",
      " 1   icls_cnts   8074 non-null   object \n",
      " 2   label       8074 non-null   float64\n",
      "dtypes: float64(1), int64(1), object(1)\n",
      "memory usage: 189.4+ KB\n"
     ]
    }
   ],
   "source": [
    "data.info()"
   ]
  },
  {
   "cell_type": "code",
   "execution_count": 16,
   "id": "73329e9c-1f42-4592-8acc-db911894ca1f",
   "metadata": {
    "execution": {
     "iopub.execute_input": "2022-11-02T06:50:45.733643Z",
     "iopub.status.busy": "2022-11-02T06:50:45.733303Z",
     "iopub.status.idle": "2022-11-02T06:50:45.736508Z",
     "shell.execute_reply": "2022-11-02T06:50:45.735959Z",
     "shell.execute_reply.started": "2022-11-02T06:50:45.733627Z"
    },
    "tags": []
   },
   "outputs": [],
   "source": [
    "data['label'].replace(999,0,inplace = True)"
   ]
  },
  {
   "cell_type": "code",
   "execution_count": 17,
   "id": "441c76e0",
   "metadata": {
    "execution": {
     "iopub.execute_input": "2022-11-02T06:50:45.738576Z",
     "iopub.status.busy": "2022-11-02T06:50:45.738151Z",
     "iopub.status.idle": "2022-11-02T06:50:45.750289Z",
     "shell.execute_reply": "2022-11-02T06:50:45.749821Z",
     "shell.execute_reply.started": "2022-11-02T06:50:45.738560Z"
    },
    "tags": []
   },
   "outputs": [
    {
     "data": {
      "text/html": [
       "<div>\n",
       "<style scoped>\n",
       "    .dataframe tbody tr th:only-of-type {\n",
       "        vertical-align: middle;\n",
       "    }\n",
       "\n",
       "    .dataframe tbody tr th {\n",
       "        vertical-align: top;\n",
       "    }\n",
       "\n",
       "    .dataframe thead th {\n",
       "        text-align: right;\n",
       "    }\n",
       "</style>\n",
       "<table border=\"1\" class=\"dataframe\">\n",
       "  <thead>\n",
       "    <tr style=\"text-align: right;\">\n",
       "      <th></th>\n",
       "      <th>icls_cnts</th>\n",
       "      <th>label</th>\n",
       "    </tr>\n",
       "  </thead>\n",
       "  <tbody>\n",
       "    <tr>\n",
       "      <th>0</th>\n",
       "      <td>..&lt;b&gt;경찰&lt;/b&gt;과 추격전까지 벌인 40대 남성이 붙잡혔습니다. .. 1시간이 ...</td>\n",
       "      <td>1.0</td>\n",
       "    </tr>\n",
       "    <tr>\n",
       "      <th>1</th>\n",
       "      <td>순창&lt;b&gt;경찰&lt;/b&gt;서 사회적 약자 발굴·지원 앞장 ..　순창&lt;b&gt;경찰&lt;/b&gt;서(서...</td>\n",
       "      <td>1.0</td>\n",
       "    </tr>\n",
       "    <tr>\n",
       "      <th>2</th>\n",
       "      <td>그 생김새가 미심쩍었던 부부는 일주일 넘게 고양이를 데리고 있다 &lt;b&gt;경찰&lt;/b&gt;...</td>\n",
       "      <td>1.0</td>\n",
       "    </tr>\n",
       "    <tr>\n",
       "      <th>3</th>\n",
       "      <td>수원남부署, 모범&lt;b&gt;경찰&lt;/b&gt; 최보라·김세홍 경장에 표창·장려장 수원남부&lt;b&gt;경...</td>\n",
       "      <td>1.0</td>\n",
       "    </tr>\n",
       "    <tr>\n",
       "      <th>4</th>\n",
       "      <td>조두순에 대한 1대1 전자감독 및 &lt;b&gt;경찰&lt;/b&gt;을 통한 24시간 밀착 감독 등...</td>\n",
       "      <td>1.0</td>\n",
       "    </tr>\n",
       "    <tr>\n",
       "      <th>...</th>\n",
       "      <td>...</td>\n",
       "      <td>...</td>\n",
       "    </tr>\n",
       "    <tr>\n",
       "      <th>8069</th>\n",
       "      <td>김주원 음성경찰서 설성지구대장(왼쪽)이 전화금융사기를 예방한 음성농협 원남지점 서아...</td>\n",
       "      <td>0.0</td>\n",
       "    </tr>\n",
       "    <tr>\n",
       "      <th>8070</th>\n",
       "      <td>..경찰청◎총경 승진 예정△서울 광역수사 광역1 박종환△광주 형사 강력 송기주△전남...</td>\n",
       "      <td>0.0</td>\n",
       "    </tr>\n",
       "    <tr>\n",
       "      <th>8071</th>\n",
       "      <td>대구경찰청, 2021년 설 명절 종합치안활동 추진 대구경찰청이 오는 14일까지 20...</td>\n",
       "      <td>0.0</td>\n",
       "    </tr>\n",
       "    <tr>\n",
       "      <th>8072</th>\n",
       "      <td>..경찰청에 따르면 경찰은 지난달 30일 오후 9시 30분쯤 부산 중구 한 상점에서...</td>\n",
       "      <td>0.0</td>\n",
       "    </tr>\n",
       "    <tr>\n",
       "      <th>8073</th>\n",
       "      <td>\"사각지대\"에 놓인 불법 유흥시설에 대해 경찰이 대대적인 단속에 나선 가운데 1주 ...</td>\n",
       "      <td>0.0</td>\n",
       "    </tr>\n",
       "  </tbody>\n",
       "</table>\n",
       "<p>8074 rows × 2 columns</p>\n",
       "</div>"
      ],
      "text/plain": [
       "                                              icls_cnts  label\n",
       "0     ..<b>경찰</b>과 추격전까지 벌인 40대 남성이 붙잡혔습니다. .. 1시간이 ...    1.0\n",
       "1     순창<b>경찰</b>서 사회적 약자 발굴·지원 앞장 ..　순창<b>경찰</b>서(서...    1.0\n",
       "2      그 생김새가 미심쩍었던 부부는 일주일 넘게 고양이를 데리고 있다 <b>경찰</b>...    1.0\n",
       "3     수원남부署, 모범<b>경찰</b> 최보라·김세홍 경장에 표창·장려장 수원남부<b>경...    1.0\n",
       "4      조두순에 대한 1대1 전자감독 및 <b>경찰</b>을 통한 24시간 밀착 감독 등...    1.0\n",
       "...                                                 ...    ...\n",
       "8069  김주원 음성경찰서 설성지구대장(왼쪽)이 전화금융사기를 예방한 음성농협 원남지점 서아...    0.0\n",
       "8070  ..경찰청◎총경 승진 예정△서울 광역수사 광역1 박종환△광주 형사 강력 송기주△전남...    0.0\n",
       "8071  대구경찰청, 2021년 설 명절 종합치안활동 추진 대구경찰청이 오는 14일까지 20...    0.0\n",
       "8072  ..경찰청에 따르면 경찰은 지난달 30일 오후 9시 30분쯤 부산 중구 한 상점에서...    0.0\n",
       "8073  \"사각지대\"에 놓인 불법 유흥시설에 대해 경찰이 대대적인 단속에 나선 가운데 1주 ...    0.0\n",
       "\n",
       "[8074 rows x 2 columns]"
      ]
     },
     "execution_count": 17,
     "metadata": {},
     "output_type": "execute_result"
    }
   ],
   "source": [
    "df = data[['icls_cnts','label']]\n",
    "df"
   ]
  },
  {
   "cell_type": "code",
   "execution_count": 18,
   "id": "e79c217e",
   "metadata": {
    "execution": {
     "iopub.execute_input": "2022-11-02T06:50:45.751360Z",
     "iopub.status.busy": "2022-11-02T06:50:45.750933Z",
     "iopub.status.idle": "2022-11-02T06:50:45.769354Z",
     "shell.execute_reply": "2022-11-02T06:50:45.768881Z",
     "shell.execute_reply.started": "2022-11-02T06:50:45.751344Z"
    },
    "scrolled": true,
    "tags": []
   },
   "outputs": [
    {
     "data": {
      "text/plain": [
       " 0.0    5320\n",
       " 1.0    1783\n",
       "-1.0     971\n",
       "Name: label, dtype: int64"
      ]
     },
     "execution_count": 18,
     "metadata": {},
     "output_type": "execute_result"
    }
   ],
   "source": [
    "data.drop_duplicates(subset = ['icls_cnts'], inplace = True)\n",
    "data['label'].value_counts()"
   ]
  },
  {
   "cell_type": "code",
   "execution_count": 39,
   "id": "156618b6",
   "metadata": {},
   "outputs": [
    {
     "name": "stdout",
     "output_type": "stream",
     "text": [
      "결측값 여부: False\n"
     ]
    }
   ],
   "source": [
    "print('결측값 여부:',df.isnull().values.any())"
   ]
  },
  {
   "cell_type": "markdown",
   "id": "de09b605",
   "metadata": {},
   "source": [
    "# 문장 정제 및 토큰화"
   ]
  },
  {
   "cell_type": "code",
   "execution_count": 20,
   "id": "c32b9069",
   "metadata": {
    "execution": {
     "iopub.execute_input": "2022-11-02T06:50:45.770342Z",
     "iopub.status.busy": "2022-11-02T06:50:45.769984Z",
     "iopub.status.idle": "2022-11-02T06:50:45.772759Z",
     "shell.execute_reply": "2022-11-02T06:50:45.772308Z",
     "shell.execute_reply.started": "2022-11-02T06:50:45.770326Z"
    }
   },
   "outputs": [],
   "source": [
    "import re \n",
    "#텍스트 정제 함수 : 한글 이외의 문자 제거\n",
    "def text_cleaning(text):\n",
    "    #한글 정규표현식으로 한글만 추출\n",
    "    hangul = re.compile('[^ㄱ-ㅣ가-힣]+')\n",
    "    result = hangul.sub('',text)\n",
    "    return result"
   ]
  },
  {
   "cell_type": "code",
   "execution_count": 21,
   "id": "83700eae",
   "metadata": {
    "execution": {
     "iopub.execute_input": "2022-11-02T06:50:45.773743Z",
     "iopub.status.busy": "2022-11-02T06:50:45.773363Z",
     "iopub.status.idle": "2022-11-02T06:50:45.860017Z",
     "shell.execute_reply": "2022-11-02T06:50:45.859546Z",
     "shell.execute_reply.started": "2022-11-02T06:50:45.773728Z"
    }
   },
   "outputs": [
    {
     "data": {
      "text/plain": [
       "<bound method NDFrame.head of                                               icls_cnts  label  \\\n",
       "0     ..<b>경찰</b>과 추격전까지 벌인 40대 남성이 붙잡혔습니다. .. 1시간이 ...    1.0   \n",
       "1     순창<b>경찰</b>서 사회적 약자 발굴·지원 앞장 ..　순창<b>경찰</b>서(서...    1.0   \n",
       "2      그 생김새가 미심쩍었던 부부는 일주일 넘게 고양이를 데리고 있다 <b>경찰</b>...    1.0   \n",
       "3     수원남부署, 모범<b>경찰</b> 최보라·김세홍 경장에 표창·장려장 수원남부<b>경...    1.0   \n",
       "4      조두순에 대한 1대1 전자감독 및 <b>경찰</b>을 통한 24시간 밀착 감독 등...    1.0   \n",
       "...                                                 ...    ...   \n",
       "8069  김주원 음성경찰서 설성지구대장(왼쪽)이 전화금융사기를 예방한 음성농협 원남지점 서아...    0.0   \n",
       "8070  ..경찰청◎총경 승진 예정△서울 광역수사 광역1 박종환△광주 형사 강력 송기주△전남...    0.0   \n",
       "8071  대구경찰청, 2021년 설 명절 종합치안활동 추진 대구경찰청이 오는 14일까지 20...    0.0   \n",
       "8072  ..경찰청에 따르면 경찰은 지난달 30일 오후 9시 30분쯤 부산 중구 한 상점에서...    0.0   \n",
       "8073  \"사각지대\"에 놓인 불법 유흥시설에 대해 경찰이 대대적인 단속에 나선 가운데 1주 ...    0.0   \n",
       "\n",
       "                                                ko_text  \n",
       "0     경찰과추격전까지벌인대남성이붙잡혔습니다시간이넘도록음주운전차량을뒤쫓던경찰은결국실탄을쏴시...  \n",
       "1     순창경찰서사회적약자발굴지원앞장순창경찰서서장정재봉가지난해부터시행하는경찰에따르면이사업은...  \n",
       "2     그생김새가미심쩍었던부부는일주일넘게고양이를데리고있다경찰에자진신고했다경찰조사를받게된부부...  \n",
       "3     수원남부모범경찰최보라김세홍경장에표창장려장수원남부경찰서서장오문교는중요범인검거유공등타의...  \n",
       "4     조두순에대한대전자감독및경찰을통한시간밀착감독등이주된내용이다앞서검찰은피해자접근금지음주금...  \n",
       "...                                                 ...  \n",
       "8069  김주원음성경찰서설성지구대장왼쪽이전화금융사기를예방한음성농협원남지점서아연계장에게감사장을...  \n",
       "8070  경찰청총경승진예정서울광역수사광역박종환광주형사강력송기주전남여성청소년여성청소년수사박송희...  \n",
       "8071  대구경찰청년설명절종합치안활동추진대구경찰청이오는일까지년설명절종합치안활동을추진한다경찰근...  \n",
       "8072  경찰청에따르면경찰은지난달일오후시분쯤부산중구한상점에서집합금지명령을위반하고출동한경찰은해...  \n",
       "8073  사각지대에놓인불법유흥시설에대해경찰이대대적인단속에나선가운데주만에명넘는관련사범이경찰에적...  \n",
       "\n",
       "[8074 rows x 3 columns]>"
      ]
     },
     "execution_count": 21,
     "metadata": {},
     "output_type": "execute_result"
    }
   ],
   "source": [
    "#만든 함수 적용\n",
    "df['ko_text']=df['icls_cnts'].apply(lambda x: text_cleaning(x))\n",
    "df.head"
   ]
  },
  {
   "cell_type": "code",
   "execution_count": 22,
   "id": "c94244bb",
   "metadata": {
    "execution": {
     "iopub.execute_input": "2022-11-02T06:50:45.861006Z",
     "iopub.status.busy": "2022-11-02T06:50:45.860656Z",
     "iopub.status.idle": "2022-11-02T06:50:45.870780Z",
     "shell.execute_reply": "2022-11-02T06:50:45.870319Z",
     "shell.execute_reply.started": "2022-11-02T06:50:45.860991Z"
    }
   },
   "outputs": [],
   "source": [
    "from konlpy.tag import Okt"
   ]
  },
  {
   "cell_type": "code",
   "execution_count": 23,
   "id": "79709d20",
   "metadata": {
    "execution": {
     "iopub.execute_input": "2022-11-02T06:50:45.871760Z",
     "iopub.status.busy": "2022-11-02T06:50:45.871406Z",
     "iopub.status.idle": "2022-11-02T06:50:48.993430Z",
     "shell.execute_reply": "2022-11-02T06:50:48.992936Z",
     "shell.execute_reply.started": "2022-11-02T06:50:45.871745Z"
    }
   },
   "outputs": [
    {
     "name": "stdout",
     "output_type": "stream",
     "text": [
      "['경찰/Noun', '과/Josa', '추/Noun', '격전/Noun', '까지/Josa', '벌인대/Verb', '남성/Noun', '이/Josa', '붙잡혔습니다/Verb', '시간/Noun', '이/Josa', '넘도록/Verb', '음주운전/Noun', '차량/Noun', '을/Josa', '뒤/Noun', '쫓던/Verb', '경찰/Noun', '은/Josa', '결국/Adverb', '실탄/Noun', '을/Josa', '쏴/Verb', '시간/Noun', '이/Josa', '넘도록/Verb', '음주운전/Noun', '차량/Noun', '을/Josa', '뒤/Noun', '쫓던/Verb', '경찰/Noun', '은/Josa', '결국/Adverb', '실탄/Noun', '을/Josa', '쏴/Verb', '차/Noun', '를/Josa', '세웠는데/Verb', '잡고/Noun', '보니이/Verb', '남성/Noun', '운전면허/Noun', '가/Josa', '없었습니다/Adjective', '경찰서/Noun', '경찰/Noun', '은/Josa', '도로/Noun', '교통법위반/Noun', '등/Noun', '의/Josa', '혐의/Noun', '로/Josa', '살/Noun', '씨/Suffix', '에/Josa', '대해/Noun', '구속영장/Noun', '을/Josa', '신청/Noun', '할/Verb', '계획/Noun', '입니다/Adjective']\n"
     ]
    }
   ],
   "source": [
    "#okt 라이브러리로 텍스트 데이터에서 형태소 추출\n",
    "def get_pos(x):\n",
    "    tagger = Okt()\n",
    "    pos = tagger.pos(x)\n",
    "    pos = ['{}/{}'.format(word,tag) for word, tag in pos]\n",
    "    return pos\n",
    "\n",
    "#함수 테스트 \n",
    "result = get_pos(df['ko_text'][0])\n",
    "print(result)"
   ]
  },
  {
   "cell_type": "markdown",
   "id": "b8d95399",
   "metadata": {},
   "source": [
    "# 정수화(Countvectorizer활용), TF-IDF로 중요 단어 추출"
   ]
  },
  {
   "cell_type": "code",
   "execution_count": 24,
   "id": "bc5c8a90",
   "metadata": {
    "execution": {
     "iopub.execute_input": "2022-11-02T06:50:48.994542Z",
     "iopub.status.busy": "2022-11-02T06:50:48.994172Z",
     "iopub.status.idle": "2022-11-02T06:50:49.153715Z",
     "shell.execute_reply": "2022-11-02T06:50:49.153233Z",
     "shell.execute_reply.started": "2022-11-02T06:50:48.994521Z"
    }
   },
   "outputs": [],
   "source": [
    "from sklearn.feature_extraction.text import CountVectorizer"
   ]
  },
  {
   "cell_type": "code",
   "execution_count": 25,
   "id": "baf2b45c",
   "metadata": {
    "execution": {
     "iopub.execute_input": "2022-11-02T06:50:49.154625Z",
     "iopub.status.busy": "2022-11-02T06:50:49.154402Z",
     "iopub.status.idle": "2022-11-02T07:17:45.888899Z",
     "shell.execute_reply": "2022-11-02T07:17:45.888331Z",
     "shell.execute_reply.started": "2022-11-02T06:50:49.154609Z"
    }
   },
   "outputs": [],
   "source": [
    "#형태소를 벡터 형태의 학습 데이터셋으로 변환\n",
    "index_vectorizer = CountVectorizer(tokenizer = lambda x : get_pos(x))\n",
    "X = index_vectorizer.fit_transform(df['ko_text'].tolist())"
   ]
  },
  {
   "cell_type": "code",
   "execution_count": 26,
   "id": "faa5dee3",
   "metadata": {
    "execution": {
     "iopub.execute_input": "2022-11-02T07:17:45.889893Z",
     "iopub.status.busy": "2022-11-02T07:17:45.889654Z",
     "iopub.status.idle": "2022-11-02T07:17:45.894113Z",
     "shell.execute_reply": "2022-11-02T07:17:45.893509Z",
     "shell.execute_reply.started": "2022-11-02T07:17:45.889877Z"
    }
   },
   "outputs": [
    {
     "data": {
      "text/plain": [
       "(8074, 35370)"
      ]
     },
     "execution_count": 26,
     "metadata": {},
     "output_type": "execute_result"
    }
   ],
   "source": [
    "X.shape"
   ]
  },
  {
   "cell_type": "code",
   "execution_count": 27,
   "id": "27eef137",
   "metadata": {
    "execution": {
     "iopub.execute_input": "2022-11-02T07:17:45.895410Z",
     "iopub.status.busy": "2022-11-02T07:17:45.895061Z",
     "iopub.status.idle": "2022-11-02T07:17:45.910141Z",
     "shell.execute_reply": "2022-11-02T07:17:45.909578Z",
     "shell.execute_reply.started": "2022-11-02T07:17:45.895391Z"
    }
   },
   "outputs": [
    {
     "name": "stdout",
     "output_type": "stream",
     "text": [
      "{'경찰/Noun': 1765, '과/Josa': 2367, '추/Noun': 30413, '격전/Noun': 1530, '까지/Josa': 4219, '벌인대/Verb': 137..\n"
     ]
    }
   ],
   "source": [
    "print(str(index_vectorizer.vocabulary_)[:100]+'..')"
   ]
  },
  {
   "cell_type": "code",
   "execution_count": 28,
   "id": "839e9626",
   "metadata": {
    "execution": {
     "iopub.execute_input": "2022-11-02T07:17:45.911332Z",
     "iopub.status.busy": "2022-11-02T07:17:45.910908Z",
     "iopub.status.idle": "2022-11-02T07:17:45.914808Z",
     "shell.execute_reply": "2022-11-02T07:17:45.914291Z",
     "shell.execute_reply.started": "2022-11-02T07:17:45.911316Z"
    }
   },
   "outputs": [
    {
     "name": "stdout",
     "output_type": "stream",
     "text": [
      "경찰과추격전까지벌인대남성이붙잡혔습니다시간이넘도록음주운전차량을뒤쫓던경찰은결국실탄을쏴시간이넘도록음주운전차량을뒤쫓던경찰은결국실탄을쏴차를세웠는데잡고보니이남성운전면허가없었습니다경찰서경찰은도로교통법위반등의혐의로살씨에대해구속영장을신청할계획입니다\n",
      "  (0, 1765)\t4\n",
      "  (0, 2367)\t1\n",
      "  (0, 30413)\t1\n",
      "  (0, 1530)\t1\n",
      "  (0, 4219)\t1\n",
      "  (0, 13707)\t1\n",
      "  (0, 5052)\t2\n",
      "  (0, 24037)\t3\n",
      "  (0, 15266)\t1\n",
      "  (0, 18629)\t2\n",
      "  (0, 5553)\t2\n",
      "  (0, 23870)\t2\n",
      "  (0, 29377)\t2\n",
      "  (0, 23820)\t5\n",
      "  (0, 8690)\t2\n",
      "  (0, 29269)\t2\n",
      "  (0, 23735)\t3\n",
      "  (0, 1581)\t2\n",
      "  (0, 19163)\t2\n",
      "  (0, 19445)\t2\n",
      "  (0, 29347)\t1\n",
      "  (0, 9976)\t1\n",
      "  (0, 17571)\t1\n",
      "  (0, 26343)\t1\n",
      "  (0, 14083)\t1\n",
      "  (0, 22962)\t1\n",
      "  (0, 4)\t1\n",
      "  (0, 21242)\t1\n",
      "  (0, 1779)\t1\n",
      "  (0, 7555)\t1\n",
      "  (0, 2708)\t1\n",
      "  (0, 9138)\t1\n",
      "  (0, 23896)\t1\n",
      "  (0, 34439)\t1\n",
      "  (0, 9836)\t1\n",
      "  (0, 16324)\t1\n",
      "  (0, 19549)\t1\n",
      "  (0, 21292)\t1\n",
      "  (0, 7324)\t1\n",
      "  (0, 2816)\t1\n",
      "  (0, 19070)\t1\n",
      "  (0, 33307)\t1\n",
      "  (0, 1856)\t1\n",
      "  (0, 25685)\t1\n"
     ]
    }
   ],
   "source": [
    "print(df['ko_text'][0])\n",
    "print(X[0])"
   ]
  },
  {
   "cell_type": "code",
   "execution_count": 29,
   "id": "2465264e",
   "metadata": {
    "execution": {
     "iopub.execute_input": "2022-11-02T07:17:45.915604Z",
     "iopub.status.busy": "2022-11-02T07:17:45.915453Z",
     "iopub.status.idle": "2022-11-02T07:17:45.918164Z",
     "shell.execute_reply": "2022-11-02T07:17:45.917623Z",
     "shell.execute_reply.started": "2022-11-02T07:17:45.915590Z"
    },
    "tags": []
   },
   "outputs": [],
   "source": [
    "#중요 단어 추출을 위해 TF-IDF 활용\n",
    "from sklearn.feature_extraction.text import TfidfTransformer"
   ]
  },
  {
   "cell_type": "code",
   "execution_count": 30,
   "id": "4733de60",
   "metadata": {
    "execution": {
     "iopub.execute_input": "2022-11-02T07:17:45.919137Z",
     "iopub.status.busy": "2022-11-02T07:17:45.918812Z",
     "iopub.status.idle": "2022-11-02T07:17:45.941572Z",
     "shell.execute_reply": "2022-11-02T07:17:45.941044Z",
     "shell.execute_reply.started": "2022-11-02T07:17:45.919122Z"
    },
    "tags": []
   },
   "outputs": [],
   "source": [
    "tfidf_vectorizer = TfidfTransformer()\n",
    "X = tfidf_vectorizer.fit_transform(X)"
   ]
  },
  {
   "cell_type": "code",
   "execution_count": 31,
   "id": "674943f5",
   "metadata": {
    "execution": {
     "iopub.execute_input": "2022-11-02T07:17:45.942655Z",
     "iopub.status.busy": "2022-11-02T07:17:45.942290Z",
     "iopub.status.idle": "2022-11-02T07:17:45.945830Z",
     "shell.execute_reply": "2022-11-02T07:17:45.945308Z",
     "shell.execute_reply.started": "2022-11-02T07:17:45.942639Z"
    },
    "tags": []
   },
   "outputs": [
    {
     "name": "stdout",
     "output_type": "stream",
     "text": [
      "(8074, 35370)\n",
      "  (0, 34439)\t0.056720501413239165\n",
      "  (0, 33307)\t0.06759964537134064\n",
      "  (0, 30413)\t0.12642961523183818\n",
      "  (0, 29377)\t0.1666966856318872\n",
      "  (0, 29347)\t0.09697326658404562\n",
      "  (0, 29269)\t0.3840522635730061\n",
      "  (0, 26343)\t0.14073649703171057\n",
      "  (0, 25685)\t0.10008632152629426\n",
      "  (0, 24037)\t0.09388562836587759\n",
      "  (0, 23896)\t0.03160157510643609\n",
      "  (0, 23870)\t0.2013904580574777\n",
      "  (0, 23820)\t0.11622090759890523\n",
      "  (0, 23735)\t0.09267680887858244\n",
      "  (0, 22962)\t0.14349264739115963\n",
      "  (0, 21292)\t0.025727903548247014\n",
      "  (0, 21242)\t0.17771924998663066\n",
      "  (0, 19549)\t0.06784983591853408\n",
      "  (0, 19445)\t0.2911168335142245\n",
      "  (0, 19163)\t0.2503565894003772\n",
      "  (0, 19070)\t0.09463410954684548\n",
      "  (0, 18629)\t0.1713195690154195\n",
      "  (0, 17571)\t0.19202613178650305\n",
      "  (0, 16324)\t0.10894099134671784\n",
      "  (0, 15266)\t0.14253245252391808\n",
      "  (0, 14083)\t0.19202613178650305\n",
      "  (0, 13707)\t0.19202613178650305\n",
      "  (0, 9976)\t0.027124867560636406\n",
      "  (0, 9836)\t0.04083843304212885\n",
      "  (0, 9138)\t0.041734928201384976\n",
      "  (0, 8690)\t0.1578924569187968\n",
      "  (0, 7555)\t0.09472646078557938\n",
      "  (0, 7324)\t0.06963664023904512\n",
      "  (0, 5553)\t0.33870052126291067\n",
      "  (0, 5052)\t0.16441424363061272\n",
      "  (0, 4219)\t0.06966410593494521\n",
      "  (0, 2816)\t0.10081919617269698\n",
      "  (0, 2708)\t0.12438433268386848\n",
      "  (0, 2367)\t0.03995318301433311\n",
      "  (0, 1856)\t0.08759722543475557\n",
      "  (0, 1779)\t0.04328313606214617\n",
      "  (0, 1765)\t0.10589530051897446\n",
      "  (0, 1581)\t0.21537934163013647\n",
      "  (0, 1530)\t0.13416346316874272\n",
      "  (0, 4)\t0.03726310569967905\n"
     ]
    }
   ],
   "source": [
    "print(X.shape)\n",
    "print(X[0])"
   ]
  },
  {
   "cell_type": "markdown",
   "id": "7c8335ef",
   "metadata": {},
   "source": [
    "# 모델 적용"
   ]
  },
  {
   "cell_type": "code",
   "execution_count": 36,
   "id": "35e4887f",
   "metadata": {
    "execution": {
     "iopub.execute_input": "2022-11-02T07:17:45.948625Z",
     "iopub.status.busy": "2022-11-02T07:17:45.948198Z",
     "iopub.status.idle": "2022-11-02T07:17:45.966098Z",
     "shell.execute_reply": "2022-11-02T07:17:45.965538Z",
     "shell.execute_reply.started": "2022-11-02T07:17:45.948608Z"
    },
    "tags": []
   },
   "outputs": [
    {
     "name": "stdout",
     "output_type": "stream",
     "text": [
      "(7266, 35370)\n",
      "(808, 35370)\n"
     ]
    }
   ],
   "source": [
    "from sklearn.model_selection import train_test_split\n",
    "\n",
    "y = df['label']\n",
    "X_train, X_test, y_train, y_test = train_test_split(X,y, test_size = 0.1)\n",
    "print(X_train.shape)\n",
    "print(X_test.shape)"
   ]
  },
  {
   "cell_type": "code",
   "execution_count": 37,
   "id": "9bdb0da3",
   "metadata": {
    "execution": {
     "iopub.execute_input": "2022-11-02T07:17:45.967145Z",
     "iopub.status.busy": "2022-11-02T07:17:45.966973Z",
     "iopub.status.idle": "2022-11-02T07:17:57.345941Z",
     "shell.execute_reply": "2022-11-02T07:17:57.345047Z",
     "shell.execute_reply.started": "2022-11-02T07:17:45.967131Z"
    },
    "tags": []
   },
   "outputs": [
    {
     "name": "stdout",
     "output_type": "stream",
     "text": [
      "정확도:0.77\n",
      "정밀도:0.765\n",
      "재현율:0.767\n",
      "F1:0.752\n"
     ]
    },
    {
     "name": "stderr",
     "output_type": "stream",
     "text": [
      "/usr/local/lib/python3.8/dist-packages/sklearn/linear_model/_logistic.py:444: ConvergenceWarning: lbfgs failed to converge (status=1):\n",
      "STOP: TOTAL NO. of ITERATIONS REACHED LIMIT.\n",
      "\n",
      "Increase the number of iterations (max_iter) or scale the data as shown in:\n",
      "    https://scikit-learn.org/stable/modules/preprocessing.html\n",
      "Please also refer to the documentation for alternative solver options:\n",
      "    https://scikit-learn.org/stable/modules/linear_model.html#logistic-regression\n",
      "  n_iter_i = _check_optimize_result(\n"
     ]
    }
   ],
   "source": [
    "from sklearn.linear_model import LogisticRegression\n",
    "from sklearn.metrics import accuracy_score, precision_score, recall_score, f1_score\n",
    "\n",
    "lr = LogisticRegression(random_state=0)\n",
    "lr.fit(X_train, y_train)\n",
    "y_pred = lr.predict(X_test)\n",
    "y_pred_probability = lr.predict_proba(X_test)[:,1]\n",
    "\n",
    "print(\"정확도:%.2f\"% accuracy_score(y_test, y_pred))\n",
    "print(\"정밀도:%.3f\"% precision_score(y_test,y_pred, average = 'weighted'))\n",
    "print(\"재현율:%.3f\"% recall_score(y_test, y_pred, average = 'weighted'))\n",
    "print(\"F1:%.3f\"% f1_score(y_test,y_pred, average = 'weighted'))"
   ]
  }
 ],
 "metadata": {
  "kernelspec": {
   "display_name": "tf2.9.0-keras2.9.0-py3.8",
   "language": "python",
   "name": "tf2.9.0-keras2.9.0-py3.8"
  },
  "language_info": {
   "codemirror_mode": {
    "name": "ipython",
    "version": 3
   },
   "file_extension": ".py",
   "mimetype": "text/x-python",
   "name": "python",
   "nbconvert_exporter": "python",
   "pygments_lexer": "ipython3",
   "version": "3.8.10"
  }
 },
 "nbformat": 4,
 "nbformat_minor": 5
}
