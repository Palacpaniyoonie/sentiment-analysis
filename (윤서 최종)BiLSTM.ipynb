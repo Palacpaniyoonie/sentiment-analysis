{
 "cells": [
  {
   "cell_type": "markdown",
   "id": "20dc5243",
   "metadata": {},
   "source": [
    "# 데이터 전처리 및 정제"
   ]
  },
  {
   "cell_type": "code",
   "execution_count": 1,
   "id": "e2a27e41-d6c5-40de-99b8-8c9c29bc1f28",
   "metadata": {
    "execution": {
     "iopub.execute_input": "2022-11-03T04:35:28.975709Z",
     "iopub.status.busy": "2022-11-03T04:35:28.975375Z",
     "iopub.status.idle": "2022-11-03T04:35:31.140087Z",
     "shell.execute_reply": "2022-11-03T04:35:31.139494Z",
     "shell.execute_reply.started": "2022-11-03T04:35:28.975694Z"
    },
    "tags": []
   },
   "outputs": [
    {
     "name": "stderr",
     "output_type": "stream",
     "text": [
      "2022-11-04 00:23:12.226054: I tensorflow/core/util/util.cc:169] oneDNN custom operations are on. You may see slightly different numerical results due to floating-point round-off errors from different computation orders. To turn them off, set the environment variable `TF_ENABLE_ONEDNN_OPTS=0`.\n",
      "2022-11-04 00:23:12.230727: W tensorflow/stream_executor/platform/default/dso_loader.cc:64] Could not load dynamic library 'libcudart.so.11.0'; dlerror: libcudart.so.11.0: 동적 오브젝트 파일을 열 수 없습니다: 그런 파일이나 디렉터리가 없습니다; LD_LIBRARY_PATH: /usr/lib/nvidia:/usr/lib/x86_64-linux-gnu:/usr/local/cuda/lib64\n",
      "2022-11-04 00:23:12.230742: I tensorflow/stream_executor/cuda/cudart_stub.cc:29] Ignore above cudart dlerror if you do not have a GPU set up on your machine.\n"
     ]
    }
   ],
   "source": [
    "#필요 패키지 로드\n",
    "from konlpy.tag import Okt\n",
    "okt = Okt()\n",
    "\n",
    "import pandas as pd\n",
    "import numpy as np\n",
    "import matplotlib.pyplot as plt\n",
    "import urllib.request\n",
    "\n",
    "from collections import Counter\n",
    "from sklearn.model_selection import train_test_split\n",
    "from tensorflow.keras.preprocessing.text import Tokenizer\n",
    "from tensorflow.keras.preprocessing.sequence import pad_sequences"
   ]
  },
  {
   "cell_type": "code",
   "execution_count": 2,
   "id": "827ecea7",
   "metadata": {
    "execution": {
     "iopub.execute_input": "2022-11-03T04:35:31.141371Z",
     "iopub.status.busy": "2022-11-03T04:35:31.140873Z",
     "iopub.status.idle": "2022-11-03T04:35:31.198956Z",
     "shell.execute_reply": "2022-11-03T04:35:31.198518Z",
     "shell.execute_reply.started": "2022-11-03T04:35:31.141350Z"
    },
    "tags": []
   },
   "outputs": [],
   "source": [
    "#데이터 불러오기\n",
    "data = pd.read_csv('data_8074.csv', encoding = 'utf-8')"
   ]
  },
  {
   "cell_type": "code",
   "execution_count": 3,
   "id": "052c86b8",
   "metadata": {
    "execution": {
     "iopub.execute_input": "2022-11-03T04:35:31.200065Z",
     "iopub.status.busy": "2022-11-03T04:35:31.199666Z",
     "iopub.status.idle": "2022-11-03T04:35:31.207909Z",
     "shell.execute_reply": "2022-11-03T04:35:31.207531Z",
     "shell.execute_reply.started": "2022-11-03T04:35:31.200047Z"
    },
    "scrolled": true,
    "tags": []
   },
   "outputs": [
    {
     "data": {
      "text/plain": [
       " 0.0    5320\n",
       " 1.0    1783\n",
       "-1.0     971\n",
       "Name: label, dtype: int64"
      ]
     },
     "execution_count": 3,
     "metadata": {},
     "output_type": "execute_result"
    }
   ],
   "source": [
    "#레이블별 개수 확인\n",
    "data['label'].value_counts()"
   ]
  },
  {
   "cell_type": "code",
   "execution_count": 4,
   "id": "fe0cef22",
   "metadata": {
    "execution": {
     "iopub.execute_input": "2022-11-03T04:35:31.208866Z",
     "iopub.status.busy": "2022-11-03T04:35:31.208495Z",
     "iopub.status.idle": "2022-11-03T04:35:31.217353Z",
     "shell.execute_reply": "2022-11-03T04:35:31.216981Z",
     "shell.execute_reply.started": "2022-11-03T04:35:31.208850Z"
    },
    "tags": []
   },
   "outputs": [
    {
     "data": {
      "text/html": [
       "<div>\n",
       "<style scoped>\n",
       "    .dataframe tbody tr th:only-of-type {\n",
       "        vertical-align: middle;\n",
       "    }\n",
       "\n",
       "    .dataframe tbody tr th {\n",
       "        vertical-align: top;\n",
       "    }\n",
       "\n",
       "    .dataframe thead th {\n",
       "        text-align: right;\n",
       "    }\n",
       "</style>\n",
       "<table border=\"1\" class=\"dataframe\">\n",
       "  <thead>\n",
       "    <tr style=\"text-align: right;\">\n",
       "      <th></th>\n",
       "      <th>Unnamed: 0</th>\n",
       "      <th>icls_cnts</th>\n",
       "      <th>label</th>\n",
       "    </tr>\n",
       "  </thead>\n",
       "  <tbody>\n",
       "    <tr>\n",
       "      <th>0</th>\n",
       "      <td>0</td>\n",
       "      <td>..&lt;b&gt;경찰&lt;/b&gt;과 추격전까지 벌인 40대 남성이 붙잡혔습니다. .. 1시간이 ...</td>\n",
       "      <td>1.0</td>\n",
       "    </tr>\n",
       "    <tr>\n",
       "      <th>1</th>\n",
       "      <td>1</td>\n",
       "      <td>순창&lt;b&gt;경찰&lt;/b&gt;서 사회적 약자 발굴·지원 앞장 ..　순창&lt;b&gt;경찰&lt;/b&gt;서(서...</td>\n",
       "      <td>1.0</td>\n",
       "    </tr>\n",
       "    <tr>\n",
       "      <th>2</th>\n",
       "      <td>2</td>\n",
       "      <td>그 생김새가 미심쩍었던 부부는 일주일 넘게 고양이를 데리고 있다 &lt;b&gt;경찰&lt;/b&gt;...</td>\n",
       "      <td>1.0</td>\n",
       "    </tr>\n",
       "    <tr>\n",
       "      <th>3</th>\n",
       "      <td>3</td>\n",
       "      <td>수원남부署, 모범&lt;b&gt;경찰&lt;/b&gt; 최보라·김세홍 경장에 표창·장려장 수원남부&lt;b&gt;경...</td>\n",
       "      <td>1.0</td>\n",
       "    </tr>\n",
       "    <tr>\n",
       "      <th>4</th>\n",
       "      <td>4</td>\n",
       "      <td>조두순에 대한 1대1 전자감독 및 &lt;b&gt;경찰&lt;/b&gt;을 통한 24시간 밀착 감독 등...</td>\n",
       "      <td>1.0</td>\n",
       "    </tr>\n",
       "  </tbody>\n",
       "</table>\n",
       "</div>"
      ],
      "text/plain": [
       "   Unnamed: 0                                          icls_cnts  label\n",
       "0           0  ..<b>경찰</b>과 추격전까지 벌인 40대 남성이 붙잡혔습니다. .. 1시간이 ...    1.0\n",
       "1           1  순창<b>경찰</b>서 사회적 약자 발굴·지원 앞장 ..　순창<b>경찰</b>서(서...    1.0\n",
       "2           2   그 생김새가 미심쩍었던 부부는 일주일 넘게 고양이를 데리고 있다 <b>경찰</b>...    1.0\n",
       "3           3  수원남부署, 모범<b>경찰</b> 최보라·김세홍 경장에 표창·장려장 수원남부<b>경...    1.0\n",
       "4           4   조두순에 대한 1대1 전자감독 및 <b>경찰</b>을 통한 24시간 밀착 감독 등...    1.0"
      ]
     },
     "execution_count": 4,
     "metadata": {},
     "output_type": "execute_result"
    }
   ],
   "source": [
    "data.head()"
   ]
  },
  {
   "cell_type": "code",
   "execution_count": 5,
   "id": "5046c2f6",
   "metadata": {
    "execution": {
     "iopub.execute_input": "2022-11-03T04:35:31.218260Z",
     "iopub.status.busy": "2022-11-03T04:35:31.217907Z",
     "iopub.status.idle": "2022-11-03T04:35:31.221029Z",
     "shell.execute_reply": "2022-11-03T04:35:31.220651Z",
     "shell.execute_reply.started": "2022-11-03T04:35:31.218244Z"
    },
    "tags": []
   },
   "outputs": [],
   "source": [
    "#필요 컬럼만 추출\n",
    "data = data[['label','icls_cnts']]"
   ]
  },
  {
   "cell_type": "code",
   "execution_count": 6,
   "id": "2c51cc11",
   "metadata": {
    "execution": {
     "iopub.execute_input": "2022-11-03T04:35:31.221908Z",
     "iopub.status.busy": "2022-11-03T04:35:31.221573Z",
     "iopub.status.idle": "2022-11-03T04:35:31.226412Z",
     "shell.execute_reply": "2022-11-03T04:35:31.226051Z",
     "shell.execute_reply.started": "2022-11-03T04:35:31.221892Z"
    },
    "tags": []
   },
   "outputs": [
    {
     "data": {
      "text/html": [
       "<div>\n",
       "<style scoped>\n",
       "    .dataframe tbody tr th:only-of-type {\n",
       "        vertical-align: middle;\n",
       "    }\n",
       "\n",
       "    .dataframe tbody tr th {\n",
       "        vertical-align: top;\n",
       "    }\n",
       "\n",
       "    .dataframe thead th {\n",
       "        text-align: right;\n",
       "    }\n",
       "</style>\n",
       "<table border=\"1\" class=\"dataframe\">\n",
       "  <thead>\n",
       "    <tr style=\"text-align: right;\">\n",
       "      <th></th>\n",
       "      <th>label</th>\n",
       "      <th>icls_cnts</th>\n",
       "    </tr>\n",
       "  </thead>\n",
       "  <tbody>\n",
       "    <tr>\n",
       "      <th>0</th>\n",
       "      <td>1.0</td>\n",
       "      <td>..&lt;b&gt;경찰&lt;/b&gt;과 추격전까지 벌인 40대 남성이 붙잡혔습니다. .. 1시간이 ...</td>\n",
       "    </tr>\n",
       "    <tr>\n",
       "      <th>1</th>\n",
       "      <td>1.0</td>\n",
       "      <td>순창&lt;b&gt;경찰&lt;/b&gt;서 사회적 약자 발굴·지원 앞장 ..　순창&lt;b&gt;경찰&lt;/b&gt;서(서...</td>\n",
       "    </tr>\n",
       "    <tr>\n",
       "      <th>2</th>\n",
       "      <td>1.0</td>\n",
       "      <td>그 생김새가 미심쩍었던 부부는 일주일 넘게 고양이를 데리고 있다 &lt;b&gt;경찰&lt;/b&gt;...</td>\n",
       "    </tr>\n",
       "    <tr>\n",
       "      <th>3</th>\n",
       "      <td>1.0</td>\n",
       "      <td>수원남부署, 모범&lt;b&gt;경찰&lt;/b&gt; 최보라·김세홍 경장에 표창·장려장 수원남부&lt;b&gt;경...</td>\n",
       "    </tr>\n",
       "    <tr>\n",
       "      <th>4</th>\n",
       "      <td>1.0</td>\n",
       "      <td>조두순에 대한 1대1 전자감독 및 &lt;b&gt;경찰&lt;/b&gt;을 통한 24시간 밀착 감독 등...</td>\n",
       "    </tr>\n",
       "  </tbody>\n",
       "</table>\n",
       "</div>"
      ],
      "text/plain": [
       "   label                                          icls_cnts\n",
       "0    1.0  ..<b>경찰</b>과 추격전까지 벌인 40대 남성이 붙잡혔습니다. .. 1시간이 ...\n",
       "1    1.0  순창<b>경찰</b>서 사회적 약자 발굴·지원 앞장 ..　순창<b>경찰</b>서(서...\n",
       "2    1.0   그 생김새가 미심쩍었던 부부는 일주일 넘게 고양이를 데리고 있다 <b>경찰</b>...\n",
       "3    1.0  수원남부署, 모범<b>경찰</b> 최보라·김세홍 경장에 표창·장려장 수원남부<b>경...\n",
       "4    1.0   조두순에 대한 1대1 전자감독 및 <b>경찰</b>을 통한 24시간 밀착 감독 등..."
      ]
     },
     "execution_count": 6,
     "metadata": {},
     "output_type": "execute_result"
    }
   ],
   "source": [
    "#데이터 확인\n",
    "data.head()"
   ]
  },
  {
   "cell_type": "code",
   "execution_count": 7,
   "id": "1a12b95c",
   "metadata": {
    "execution": {
     "iopub.execute_input": "2022-11-03T04:35:31.227276Z",
     "iopub.status.busy": "2022-11-03T04:35:31.226939Z",
     "iopub.status.idle": "2022-11-03T04:35:31.229917Z",
     "shell.execute_reply": "2022-11-03T04:35:31.229547Z",
     "shell.execute_reply.started": "2022-11-03T04:35:31.227260Z"
    },
    "tags": []
   },
   "outputs": [],
   "source": [
    "#불필요 레이블(999)를 중립 레이블(0)으로 변환\n",
    "data['label'].fillna(999)\n",
    "data['label'].replace(999,0,inplace = True)"
   ]
  },
  {
   "cell_type": "code",
   "execution_count": 8,
   "id": "f12c60d0-1c20-4807-910a-622d617980c6",
   "metadata": {
    "execution": {
     "iopub.execute_input": "2022-11-03T04:35:31.230779Z",
     "iopub.status.busy": "2022-11-03T04:35:31.230452Z",
     "iopub.status.idle": "2022-11-03T04:35:31.246909Z",
     "shell.execute_reply": "2022-11-03T04:35:31.246521Z",
     "shell.execute_reply.started": "2022-11-03T04:35:31.230763Z"
    },
    "tags": []
   },
   "outputs": [
    {
     "name": "stdout",
     "output_type": "stream",
     "text": [
      "8074\n"
     ]
    }
   ],
   "source": [
    "#데이터 중복 제거\n",
    "data.drop_duplicates(subset = ['icls_cnts'], inplace = True)\n",
    "print(len(data))"
   ]
  },
  {
   "cell_type": "code",
   "execution_count": 9,
   "id": "e4ae1216",
   "metadata": {
    "execution": {
     "iopub.execute_input": "2022-11-03T04:35:31.247795Z",
     "iopub.status.busy": "2022-11-03T04:35:31.247464Z",
     "iopub.status.idle": "2022-11-03T04:35:31.251376Z",
     "shell.execute_reply": "2022-11-03T04:35:31.250981Z",
     "shell.execute_reply.started": "2022-11-03T04:35:31.247781Z"
    },
    "tags": []
   },
   "outputs": [
    {
     "name": "stdout",
     "output_type": "stream",
     "text": [
      "훈련용 개수: 6055\n",
      "테스트용 개수: 2019\n"
     ]
    }
   ],
   "source": [
    "#훈련 데이터, 테스트 데이터로 데이터 분리\n",
    "train_data, test_data = train_test_split(data, test_size = 0.25, random_state = 42)\n",
    "print('훈련용 개수:', len(train_data))\n",
    "print('테스트용 개수:', len(test_data))"
   ]
  },
  {
   "cell_type": "code",
   "execution_count": 10,
   "id": "3a6c7973",
   "metadata": {
    "execution": {
     "iopub.execute_input": "2022-11-03T04:35:31.252241Z",
     "iopub.status.busy": "2022-11-03T04:35:31.251908Z",
     "iopub.status.idle": "2022-11-03T04:35:31.380817Z",
     "shell.execute_reply": "2022-11-03T04:35:31.380374Z",
     "shell.execute_reply.started": "2022-11-03T04:35:31.252226Z"
    },
    "tags": []
   },
   "outputs": [
    {
     "data": {
      "text/plain": [
       "<AxesSubplot: >"
      ]
     },
     "execution_count": 10,
     "metadata": {},
     "output_type": "execute_result"
    },
    {
     "data": {
      "image/png": "[encoded data removed]",
      "text/plain": [
       "<Figure size 640x480 with 1 Axes>"
      ]
     },
     "metadata": {},
     "output_type": "display_data"
    }
   ],
   "source": [
    "#차트로 레이블별 데이터 개수 확인\n",
    "train_data['label'].value_counts().plot(kind = 'bar')"
   ]
  },
  {
   "cell_type": "code",
   "execution_count": 11,
   "id": "36b81786-69c5-45bc-b534-bcb8e6433c7a",
   "metadata": {
    "execution": {
     "iopub.execute_input": "2022-11-03T04:35:31.381879Z",
     "iopub.status.busy": "2022-11-03T04:35:31.381476Z",
     "iopub.status.idle": "2022-11-03T04:35:31.385924Z",
     "shell.execute_reply": "2022-11-03T04:35:31.385508Z",
     "shell.execute_reply.started": "2022-11-03T04:35:31.381862Z"
    },
    "tags": []
   },
   "outputs": [
    {
     "data": {
      "text/plain": [
       " 0.0    5320\n",
       " 1.0    1783\n",
       "-1.0     971\n",
       "Name: label, dtype: int64"
      ]
     },
     "execution_count": 11,
     "metadata": {},
     "output_type": "execute_result"
    }
   ],
   "source": [
    "#데이터 레이블별 개수 확인\n",
    "data['label'].value_counts()"
   ]
  },
  {
   "cell_type": "code",
   "execution_count": 12,
   "id": "03fc8a33",
   "metadata": {
    "execution": {
     "iopub.execute_input": "2022-11-03T04:35:31.389502Z",
     "iopub.status.busy": "2022-11-03T04:35:31.389135Z",
     "iopub.status.idle": "2022-11-03T04:35:31.392455Z",
     "shell.execute_reply": "2022-11-03T04:35:31.392054Z",
     "shell.execute_reply.started": "2022-11-03T04:35:31.389485Z"
    },
    "scrolled": true,
    "tags": []
   },
   "outputs": [
    {
     "data": {
      "text/plain": [
       "dtype('O')"
      ]
     },
     "execution_count": 12,
     "metadata": {},
     "output_type": "execute_result"
    }
   ],
   "source": [
    "data['icls_cnts'].dtype"
   ]
  },
  {
   "cell_type": "code",
   "execution_count": 13,
   "id": "2b143d56",
   "metadata": {
    "execution": {
     "iopub.execute_input": "2022-11-03T04:35:31.393142Z",
     "iopub.status.busy": "2022-11-03T04:35:31.392981Z",
     "iopub.status.idle": "2022-11-03T04:35:31.401285Z",
     "shell.execute_reply": "2022-11-03T04:35:31.400865Z",
     "shell.execute_reply.started": "2022-11-03T04:35:31.393129Z"
    },
    "tags": []
   },
   "outputs": [
    {
     "name": "stdout",
     "output_type": "stream",
     "text": [
      "<class 'pandas.core.frame.DataFrame'>\n",
      "Int64Index: 8074 entries, 0 to 8073\n",
      "Data columns (total 2 columns):\n",
      " #   Column     Non-Null Count  Dtype  \n",
      "---  ------     --------------  -----  \n",
      " 0   label      8074 non-null   float64\n",
      " 1   icls_cnts  8074 non-null   object \n",
      "dtypes: float64(1), object(1)\n",
      "memory usage: 189.2+ KB\n"
     ]
    }
   ],
   "source": [
    "#null값, 데이터 타입 확인\n",
    "data.info()"
   ]
  },
  {
   "cell_type": "code",
   "execution_count": 14,
   "id": "acd1c39c",
   "metadata": {
    "execution": {
     "iopub.execute_input": "2022-11-03T04:35:31.402195Z",
     "iopub.status.busy": "2022-11-03T04:35:31.401847Z",
     "iopub.status.idle": "2022-11-03T04:35:31.405566Z",
     "shell.execute_reply": "2022-11-03T04:35:31.405157Z",
     "shell.execute_reply.started": "2022-11-03T04:35:31.402179Z"
    },
    "tags": []
   },
   "outputs": [],
   "source": [
    "#데이터 타입을 정수형, 문자형으로 변환\n",
    "data = data.astype({'label': 'int64', 'icls_cnts': 'string'})"
   ]
  },
  {
   "cell_type": "markdown",
   "id": "390df9c7",
   "metadata": {},
   "source": [
    "# Okt 패키지 활용 토큰화"
   ]
  },
  {
   "cell_type": "code",
   "execution_count": 15,
   "id": "184f239e",
   "metadata": {
    "execution": {
     "iopub.execute_input": "2022-11-03T04:35:31.406469Z",
     "iopub.status.busy": "2022-11-03T04:35:31.406141Z",
     "iopub.status.idle": "2022-11-03T04:35:31.408867Z",
     "shell.execute_reply": "2022-11-03T04:35:31.408456Z",
     "shell.execute_reply.started": "2022-11-03T04:35:31.406453Z"
    },
    "tags": []
   },
   "outputs": [],
   "source": [
    "#한국어 정제 함수 만들기\n",
    "import re \n",
    "def text_cleaning(text):\n",
    "    hangul = re.compile('[^ㄱ-ㅣ가-힣]+')\n",
    "    result = hangul.sub('',text)\n",
    "    return result"
   ]
  },
  {
   "cell_type": "code",
   "execution_count": 16,
   "id": "97774d2a-9ccd-4005-984b-d9495ab28b76",
   "metadata": {
    "execution": {
     "iopub.execute_input": "2022-11-03T04:35:31.409761Z",
     "iopub.status.busy": "2022-11-03T04:35:31.409434Z",
     "iopub.status.idle": "2022-11-03T04:35:31.494199Z",
     "shell.execute_reply": "2022-11-03T04:35:31.493765Z",
     "shell.execute_reply.started": "2022-11-03T04:35:31.409745Z"
    },
    "tags": []
   },
   "outputs": [],
   "source": [
    "#만든 함수 적용\n",
    "train_data['icls_cnts'] = train_data['icls_cnts'].apply(text_cleaning)\n",
    "test_data['icls_cnts'] = test_data['icls_cnts'].apply(text_cleaning)"
   ]
  },
  {
   "cell_type": "code",
   "execution_count": 17,
   "id": "cfe66141",
   "metadata": {
    "execution": {
     "iopub.execute_input": "2022-11-03T04:35:31.495128Z",
     "iopub.status.busy": "2022-11-03T04:35:31.494775Z",
     "iopub.status.idle": "2022-11-03T04:35:31.501347Z",
     "shell.execute_reply": "2022-11-03T04:35:31.500931Z",
     "shell.execute_reply.started": "2022-11-03T04:35:31.495112Z"
    },
    "tags": []
   },
   "outputs": [
    {
     "name": "stdout",
     "output_type": "stream",
     "text": [
      "<class 'pandas.core.frame.DataFrame'>\n",
      "Int64Index: 8074 entries, 0 to 8073\n",
      "Data columns (total 2 columns):\n",
      " #   Column     Non-Null Count  Dtype \n",
      "---  ------     --------------  ----- \n",
      " 0   label      8074 non-null   int64 \n",
      " 1   icls_cnts  8074 non-null   string\n",
      "dtypes: int64(1), string(1)\n",
      "memory usage: 189.2 KB\n"
     ]
    }
   ],
   "source": [
    "data.info()"
   ]
  },
  {
   "cell_type": "code",
   "execution_count": 18,
   "id": "7af4b113",
   "metadata": {
    "execution": {
     "iopub.execute_input": "2022-11-03T04:35:31.502347Z",
     "iopub.status.busy": "2022-11-03T04:35:31.501921Z",
     "iopub.status.idle": "2022-11-03T04:35:31.505656Z",
     "shell.execute_reply": "2022-11-03T04:35:31.505248Z",
     "shell.execute_reply.started": "2022-11-03T04:35:31.502331Z"
    },
    "tags": []
   },
   "outputs": [],
   "source": [
    "#불용어 지정\n",
    "stopwords = ['도','는','다','의','가','이','은','한','에','하','고','을','를','인','듯','과','와','네','들','듯','지','임','게','만','게임','겜','되','음','면','했','으로','있','로','에서','것','등','해','다고','기','일','년','됐','다는','된','않','할','었','다며','던','습니다','씨','성','지만','수','았','라고','어','명','대','에게','밝혔','까지','대해','그','는데','보','권','아','간','며','해야','안','부터','돼','자','뒤','최근','서']"
   ]
  },
  {
   "cell_type": "code",
   "execution_count": 19,
   "id": "c11c9f58-2805-4a47-a527-10f805c2be2c",
   "metadata": {
    "execution": {
     "iopub.execute_input": "2022-11-03T04:35:31.506628Z",
     "iopub.status.busy": "2022-11-03T04:35:31.506220Z",
     "iopub.status.idle": "2022-11-03T05:09:26.083341Z",
     "shell.execute_reply": "2022-11-03T05:09:26.082702Z",
     "shell.execute_reply.started": "2022-11-03T04:35:31.506612Z"
    },
    "tags": []
   },
   "outputs": [],
   "source": [
    "#okt 패키지를 이용하여 토크나이징\n",
    "train_data['tokenized'] = train_data['icls_cnts'].apply(okt.morphs)\n",
    "train_data['tokenized'] = train_data['tokenized'].apply(lambda x: [item for item in x if item in x if item not in stopwords])\n",
    "test_data['tokenized'] = test_data['icls_cnts'].apply(okt.morphs)\n",
    "test_data['tokenized'] = test_data['tokenized'].apply(lambda x: [item for item in x if item in x if item not in stopwords])"
   ]
  },
  {
   "cell_type": "code",
   "execution_count": 20,
   "id": "b28f6494",
   "metadata": {
    "execution": {
     "iopub.execute_input": "2022-11-03T05:09:26.084505Z",
     "iopub.status.busy": "2022-11-03T05:09:26.084176Z",
     "iopub.status.idle": "2022-11-03T05:09:26.125949Z",
     "shell.execute_reply": "2022-11-03T05:09:26.125455Z",
     "shell.execute_reply.started": "2022-11-03T05:09:26.084486Z"
    },
    "tags": []
   },
   "outputs": [],
   "source": [
    "#단어를 리스트로 저장\n",
    "negative_words = np.hstack(train_data[train_data.label == -1]['tokenized'].values)\n",
    "positive_words = np.hstack(train_data[train_data.label == 1]['tokenized'].values)\n",
    "neutral_words = np.hstack(train_data[train_data.label == 0]['tokenized'].values)"
   ]
  },
  {
   "cell_type": "code",
   "execution_count": 21,
   "id": "011760ee",
   "metadata": {
    "execution": {
     "iopub.execute_input": "2022-11-03T05:09:26.126863Z",
     "iopub.status.busy": "2022-11-03T05:09:26.126644Z",
     "iopub.status.idle": "2022-11-03T05:09:26.141270Z",
     "shell.execute_reply": "2022-11-03T05:09:26.140856Z",
     "shell.execute_reply.started": "2022-11-03T05:09:26.126848Z"
    },
    "tags": []
   },
   "outputs": [
    {
     "name": "stdout",
     "output_type": "stream",
     "text": [
      "[('경찰', 1688), ('수사', 583), ('경찰청', 468), ('경찰관', 453), ('했다', 429), ('경찰서', 382), ('사건', 323), ('혐의', 234), ('하고', 215), ('징계', 194), ('범죄', 189), ('적', 178), ('조사', 172), ('집회', 165), ('소속', 156), ('장', 150), ('관련', 138), ('이다', 133), ('서울', 132), ('경위', 130), ('됐다', 130), ('중', 129), ('의혹', 118), ('검찰', 110), ('당시', 106), ('지난', 105), ('신고', 104), ('대한', 103), ('월', 99), ('사고', 99), ('지방', 94), ('대응', 92), ('따르면', 91), ('인천', 91), ('밝혔다', 85), ('부실', 85), ('위원회', 84), ('했다고', 82), ('음주운전', 82), ('현직', 82), ('개', 76), ('위반', 76), ('입건', 75), ('처벌', 74), ('사', 73), ('현장', 72), ('국민', 71), ('확인', 70), ('경', 70), ('의원', 69), ('폭행', 67), ('내', 66), ('공무원', 66), ('피해자', 65), ('피해', 65), ('발생', 65), ('감찰', 64), ('광주', 63), ('사실', 62), ('직위해제', 61), ('여성', 61), ('전', 60), ('출동', 60), ('위해', 60), ('단속', 58), ('있다', 57), ('조치', 57), ('담당', 57), ('팀', 57), ('건', 57), ('이나', 56), ('상', 54), ('과정', 54), ('에도', 54), ('받은', 53), ('논란', 53), ('보호', 52), ('했습니다', 51), ('경찰청장', 51), ('해임', 51), ('검거', 50), ('관', 50), ('지적', 50), ('충북', 50), ('말', 49), ('결과', 49), ('안전', 49), ('근무', 48), ('범행', 48), ('성범죄', 48), ('차량', 47), ('순경', 47), ('지역', 47), ('기관', 46), ('송치', 46), ('해당', 45), ('기소', 44), ('및', 44), ('당', 43), ('받는', 42), ('조', 42), ('대로', 42), ('시민', 42), ('간부', 42), ('요구', 42), ('문제', 42), ('행정', 42), ('진행', 41), ('주장', 41), ('제기', 41), ('전자발찌', 41), ('지난해', 41), ('통해', 40), ('이라고', 40), ('법', 40), ('구속', 40), ('재판', 40), ('착수', 40), ('여', 40), ('수갑', 39), ('불법', 39), ('위', 39), ('했던', 39), ('이후', 38), ('울산', 38), ('이춘', 38), ('상황', 38), ('남부', 38), ('에는', 37), ('시위', 37), ('광화문', 37), ('음주', 37), ('사람', 37), ('직무', 36), ('자료', 36), ('동', 36), ('사관', 36), ('받았다', 36), ('대책', 35), ('분', 35), ('했다는', 35), ('제', 35), ('기자', 35), ('날', 35), ('인력', 35), ('후', 35), ('행위', 35), ('제출', 35), ('원', 35), ('학대', 35), ('양', 35), ('국회', 35), ('코로나', 35), ('비위', 35), ('비판', 34), ('허위', 34), ('두', 34), ('사망', 34), ('내용', 34), ('아동학대', 34), ('공', 33), ('장이', 33), ('관계자', 33), ('했다며', 32), ('금지', 32), ('일부', 32), ('법무부', 32), ('택시', 32), ('관리', 31), ('했지만', 31), ('에나', 31), ('자백', 31), ('올해', 31), ('시', 31), ('증거', 31), ('재', 31), ('모두', 31), ('경기', 31), ('처분', 31), ('지구대', 31), ('보고', 30), ('부가', 30), ('성폭행', 30), ('업무', 30), ('직원', 30), ('따라', 30), ('범죄수사', 30), ('속', 30), ('이번', 29), ('신청', 29), ('적발', 29), ('못', 29), ('도로', 29), ('피의자', 29), ('같은', 29), ('전남', 29), ('결정', 28), ('힘', 28), ('화', 28), ('상태', 28), ('의견', 28), ('나', 28), ('영상', 28), ('자치', 28), ('관계', 27), ('하기', 27), ('부산', 27), ('전국', 27), ('판단', 27), ('가운데', 27), ('설치', 27), ('현재', 27), ('소', 27), ('흉기', 27), ('난', 27), ('방침', 27), ('차례', 27), ('무마', 27), ('대구', 27), ('선고', 27), ('민주당', 27), ('받아', 27), ('발견', 26), ('법원', 26), ('유출', 26), ('전북', 26), ('전직', 26), ('체포', 26), ('입장', 26), ('이를', 26), ('또', 26), ('국정감사', 26), ('분실', 25), ('고문', 25), ('되는', 25), ('때', 25), ('함께', 25), ('진술', 25), ('과거', 25), ('요청', 25), ('사과', 25), ('앞서', 25), ('점', 25), ('계', 25), ('범인', 24), ('파면', 24), ('촬영', 24), ('으로부터', 24), ('없는', 24), ('뒤늦게', 24), ('범죄자', 24), ('술', 24), ('한다는', 24), ('대표', 24), ('관할', 24), ('있는', 24), ('성폭력', 23), ('은폐', 23), ('디지털', 23), ('버스', 23), ('때문', 23), ('모', 23), ('가해자', 23), ('파악', 23), ('기준', 23), ('형', 23), ('우려', 23), ('달', 23), ('국가', 23), ('차', 23), ('경감', 23), ('살인', 23), ('기사', 23), ('로부터', 23), ('봐주기', 23), ('차관', 23), ('경우', 23), ('고발', 23), ('마련', 22), ('기각', 22), ('특별', 22), ('개천절', 22), ('했으나', 22), ('력', 22), ('천', 22), ('서는', 22), ('확보', 22), ('울', 22), ('알려졌다', 22), ('더불어', 22), ('시간', 22), ('경사', 22), ('진상', 22), ('자전거', 22), ('사용', 21), ('가중', 21), ('아시아', 21), ('압수수색', 21), ('상대로', 21), ('째', 21), ('라며', 21), ('구', 21), ('파출소', 21), ('측', 21), ('단체', 21), ('성매매', 21), ('했고', 21), ('절도', 21), ('기도', 21), ('정부', 21), ('부장', 21), ('방역', 21), ('성추행', 21), ('차단', 20), ('형사', 20), ('신분증', 20), ('동료', 20), ('측정', 20), ('부실수사', 20), ('인정', 20), ('사진', 20), ('부인', 20), ('설명', 20), ('검사', 20), ('예정', 20), ('촉구', 20), ('사례', 20), ('에서는', 20), ('부패', 20), ('나타났다', 20), ('그러나', 20), ('청', 20), ('아동', 20), ('생각', 20), ('장비', 19), ('다른', 19), ('열고', 19), ('특정', 19), ('추가', 19), ('거부', 19), ('처리', 19), ('내부', 19), ('의심', 19), ('절차', 19), ('열린', 19), ('총', 19), ('피고인', 19), ('적극', 19), ('총경', 19), ('여경', 19), ('이라', 19), ('정보', 19), ('없이', 19), ('논현', 19), ('수사권', 19), ('성범죄자', 19), ('자유', 19), ('종결', 19), ('달일', 18), ('사기', 18), ('일이', 18), ('한글날', 18), ('가능성', 18), ('범', 18), ('주', 18), ('교통사고', 18), ('서부', 18), ('정확한', 18), ('은씨', 18), ('군', 18), ('앞', 18), ('시스템', 18), ('신분', 18), ('지난달', 18), ('에서도', 18), ('대통령', 18), ('본부', 17), ('의뢰', 17), ('일대', 17), ('검', 17), ('자신', 17), ('있다고', 17), ('교통법위반', 17), ('경장', 17), ('결국', 17), ('법률', 17), ('모습', 17), ('접수', 17), ('변호사', 17), ('받고', 17), ('만원', 17), ('강원', 17), ('청원', 17), ('유착', 17), ('여부', 17), ('부모', 17), ('일자', 17), ('훔친', 17), ('업체', 17), ('글', 17), ('목소리', 17), ('재수', 17), ('거나', 17), ('라는', 17), ('채용', 17), ('취소', 17), ('되지', 16), ('해야한', 16), ('전시', 16), ('특례법', 16), ('인권', 16), ('됐습니다', 16), ('경제', 16), ('과잉', 16), ('광장', 16), ('검토', 16), ('훼손', 16), ('해수', 16), ('공개', 16), ('자체', 16), ('직접', 16), ('조직', 16), ('김창룡', 16), ('사를', 16), ('받고있다', 16), ('드러났다', 16), ('과장', 16), ('경정', 16), ('통보', 16), ('지휘', 16), ('정직', 16), ('이일', 16), ('더', 16), ('보면', 16), ('기피', 16), ('쯤', 16), ('책임', 16), ('징계처분', 16), ('벽', 16), ('부정', 16), ('부검', 15), ('서울시', 15), ('봉쇄', 15), ('않은', 15), ('강압', 15), ('입니다', 15), ('추적', 15), ('일오', 15), ('큰', 15), ('뇌물', 15), ('경무관', 15), ('범죄예방', 15), ('규정', 15), ('이유', 15), ('통제', 15), ('층간소음', 15), ('카메라', 14), ('들이', 14), ('되면서', 14), ('해경', 14), ('계획', 14), ('이상', 14), ('낸', 14), ('교통', 14), ('윤씨', 14), ('강조', 14), ('만에', 14), ('기록', 14), ('협박', 14), ('제대로', 14), ('냈다', 14), ('도주', 14), ('유로', 14), ('김', 14), ('사안', 14), ('근', 14), ('아들', 14), ('고지', 14), ('하겠다고', 14), ('이용구', 14), ('율', 14), ('출석', 14), ('아이', 14), ('남성', 14), ('정도', 14), ('긴급', 14), ('급', 14), ('대처', 14), ('박원순', 14), ('조두순', 14), ('끊고', 14), ('교육', 13), ('방지', 13), ('정황', 13), ('구속영장', 13), ('포렌식', 13), ('질', 13), ('있다며', 13), ('여명', 13), ('준', 13)]\n"
     ]
    }
   ],
   "source": [
    "#부정 레이블 데이터 중 가장 많이 등장한 500개 단어 확인\n",
    "negative_words_count = Counter(negative_words)\n",
    "print(negative_words_count.most_common(500))"
   ]
  },
  {
   "cell_type": "code",
   "execution_count": 22,
   "id": "99211edf",
   "metadata": {
    "execution": {
     "iopub.execute_input": "2022-11-03T05:09:26.142214Z",
     "iopub.status.busy": "2022-11-03T05:09:26.141864Z",
     "iopub.status.idle": "2022-11-03T05:09:26.160565Z",
     "shell.execute_reply": "2022-11-03T05:09:26.160167Z",
     "shell.execute_reply.started": "2022-11-03T05:09:26.142200Z"
    },
    "tags": []
   },
   "outputs": [
    {
     "name": "stdout",
     "output_type": "stream",
     "text": [
      "[('경찰', 1924), ('경찰서', 1262), ('했다', 826), ('범죄', 534), ('경찰청', 517), ('하고', 498), ('예방', 437), ('장', 366), ('적', 351), ('수사', 299), ('안전', 293), ('신고', 287), ('위해', 287), ('범죄예방', 278), ('및', 252), ('경찰관', 245), ('혐의', 245), ('밝혔다', 242), ('보이스피싱', 240), ('지역', 234), ('활동', 228), ('이다', 215), ('지난', 209), ('피해', 202), ('사고', 201), ('검거', 194), ('위', 189), ('캠페인', 187), ('교통', 183), ('감사', 182), ('중', 177), ('직원', 172), ('됐다', 169), ('여성', 160), ('날', 157), ('내', 157), ('보호', 156), ('조사', 154), ('서장', 154), ('센터', 153), ('여', 153), ('청소년', 152), ('상', 150), ('했다고', 148), ('현장', 148), ('원', 147), ('서울', 142), ('위반', 141), ('대응', 140), ('체포', 140), ('팀', 135), ('통해', 134), ('발생', 131), ('함께', 129), ('있다', 128), ('단속', 128), ('주민', 127), ('따르면', 127), ('시민', 124), ('분', 123), ('실시', 121), ('교통사고', 120), ('점검', 118), ('제', 117), ('불법', 117), ('개', 117), ('치안', 116), ('대한', 115), ('운영', 115), ('전달', 114), ('기관', 113), ('사건', 112), ('식', 111), ('순찰', 111), ('말', 110), ('출동', 110), ('시', 109), ('전', 109), ('회', 107), ('월', 105), ('대상', 105), ('피해자', 104), ('사회', 104), ('진행', 104), ('업무', 103), ('합동', 102), ('차량', 101), ('사기', 100), ('경', 99), ('안심', 95), ('광주', 94), ('홍보', 93), ('금융', 93), ('농협', 93), ('관련', 93), ('시설', 93), ('설치', 92), ('지원', 90), ('기자', 89), ('이번', 88), ('아동학대', 86), ('충북', 86), ('협약', 85), ('코로나', 85), ('선정', 85), ('동', 84), ('적발', 83), ('화', 81), ('교육', 81), ('추진', 81), ('어린이', 80), ('부산', 80), ('관', 80), ('주', 79), ('울산', 79), ('은씨', 78), ('아동', 78), ('사업', 78), ('집중', 76), ('사', 76), ('남성', 76), ('방문', 75), ('확인', 75), ('범행', 75), ('파출소', 75), ('앞', 74), ('학교폭력', 74), ('에는', 74), ('학교', 74), ('에도', 74), ('상황', 74), ('자치', 73), ('시간', 72), ('협력', 72), ('구속', 72), ('하기', 72), ('관계자', 71), ('께', 71), ('관리', 71), ('마약', 70), ('하겠다고', 69), ('경위', 68), ('참여', 68), ('환경', 67), ('특별', 67), ('예정', 66), ('취약', 66), ('가족', 66), ('전화', 66), ('소방', 66), ('표창', 66), ('일오', 66), ('계', 65), ('발견', 65), ('천', 64), ('중부', 64), ('후', 63), ('예', 63), ('붙잡혔다', 63), ('촬영', 63), ('경찰청장', 63), ('긴급', 62), ('계획', 62), ('경북', 62), ('안전한', 62), ('경남', 62), ('전북', 62), ('곳', 61), ('수여', 61), ('조', 60), ('형', 60), ('흉기', 60), ('로부터', 59), ('받고', 59), ('소', 59), ('지구대', 59), ('만원', 59), ('적극', 58), ('단', 57), ('남부', 57), ('운전자', 57), ('외국인', 57), ('공', 56), ('지방', 56), ('국민', 55), ('충남', 55), ('성범죄', 55), ('에나', 55), ('현금', 54), ('도로', 54), ('본부', 53), ('관내', 53), ('지난해', 53), ('또', 52), ('올해', 52), ('처벌', 52), ('위원회', 52), ('기념', 51), ('노력', 51), ('실종', 51), ('음주운전', 51), ('시스템', 50), ('결과', 50), ('있는', 50), ('인천', 50), ('경제', 50), ('서부', 50), ('절도', 50), ('협의', 49), ('당', 48), ('검찰', 48), ('후시', 48), ('받았다', 47), ('구축', 47), ('속', 47), ('개최', 47), ('체결', 47), ('접수', 47), ('현행범', 47), ('약자', 47), ('정보', 47), ('전국', 47), ('구', 46), ('쯤', 46), ('행위', 46), ('강화', 46), ('입건', 46), ('충주', 46), ('관제', 45), ('맞아', 45), ('참석', 45), ('학생', 45), ('주변', 45), ('로씨', 45), ('따라', 45), ('전시', 45), ('단체', 44), ('송치', 44), ('분석', 44), ('해조사', 44), ('양', 44), ('제압', 44), ('방침', 44), ('보고', 44), ('개선', 44), ('구역', 44), ('도움', 43), ('지점', 43), ('최선', 43), ('마련', 43), ('기여', 43), ('추적', 43), ('체계', 42), ('은행', 42), ('이라고', 42), ('동부', 42), ('생활', 42), ('근무', 41), ('신청', 41), ('지속', 41), ('발전', 41), ('위험', 41), ('이용', 41), ('방범', 41), ('한국', 40), ('난', 40), ('구조', 40), ('폭행', 40), ('효과', 40), ('정책', 40), ('북부', 40), ('한편', 39), ('두', 39), ('상태', 39), ('경기', 39), ('가정', 39), ('받은', 39), ('기간', 39), ('법', 39), ('서비스', 39), ('대책', 38), ('군', 38), ('고객', 38), ('문', 38), ('했습니다', 38), ('영상', 37), ('에서는', 37), ('부부', 37), ('조직', 37), ('행사', 37), ('설명', 37), ('전담', 37), ('모두', 37), ('문화', 37), ('협업', 37), ('관계', 36), ('피의자', 36), ('오', 36), ('각', 36), ('건', 36), ('불', 36), ('확산', 36), ('음주', 36), ('특수', 36), ('과정', 36), ('베스트', 36), ('아시아', 36), ('울', 36), ('노인', 36), ('책', 36), ('이나', 36), ('신', 35), ('나', 35), ('사례', 35), ('행정', 35), ('사항', 35), ('방법', 35), ('사진', 35), ('동참', 35), ('아파트', 35), ('방지', 35), ('파악', 35), ('조치', 34), ('되는', 34), ('형사', 34), ('큰', 34), ('방역', 34), ('력', 34), ('해당', 34), ('업체', 34), ('대구', 34), ('월일', 34), ('종합', 34), ('진단', 34), ('유공', 34), ('반', 34), ('시행', 33), ('정확한', 33), ('전남', 33), ('근절', 33), ('칙', 33), ('주년', 33), ('표창장', 33), ('화재', 33), ('구성', 33), ('범죄수사', 33), ('달', 32), ('김', 32), ('했으며', 32), ('사실', 32), ('청주', 32), ('협조', 32), ('중심', 32), ('추가', 32), ('경우', 32), ('요', 32), ('여부', 32), ('고속도로', 32), ('디지털', 32), ('확대', 32), ('점', 32), ('카메라', 32), ('비롯', 32), ('사전', 32), ('인근', 32), ('활용', 31), ('제주', 31), ('총', 31), ('다양한', 31), ('대통령', 31), ('회장', 31), ('이상', 31), ('초등학교', 31), ('있다고', 31), ('어머니', 31), ('특히', 31), ('공유', 30), ('차례', 30), ('구속영장', 30), ('당시', 30), ('교육지원청', 30), ('차단', 30), ('집회', 30), ('조성', 30), ('장이', 30), ('확보', 30), ('술', 30), ('의심', 30), ('범', 30), ('만에', 30), ('공무원', 30), ('감소', 30), ('상담', 30), ('물', 30), ('개발', 30), ('많은', 29), ('했고', 29), ('일보', 29), ('때', 29), ('요청', 29), ('금융기관', 29), ('복지', 29), ('부착', 29), ('강원', 29), ('대전', 29), ('일당', 29), ('진', 29), ('훈련', 29), ('가능성', 28), ('약', 28), ('한가운데', 28), ('으로도', 28), ('지능', 28), ('이후', 28), ('격려', 28), ('도시', 28), ('여명', 28), ('모범', 28), ('다문화', 28), ('서는', 28), ('끝', 28), ('공로', 28), ('즉시', 28), ('유관', 28), ('병원', 28), ('면서', 28), ('사랑', 27), ('관심', 27), ('층', 27), ('연', 27), ('당부', 27), ('일대', 27), ('직접', 27), ('달일', 27), ('대표', 27), ('차', 27), ('거리', 27), ('생명', 27), ('우수', 27), ('법률', 27), ('화장실', 27), ('장수', 27), ('헌혈', 27), ('청장', 26), ('오후', 26), ('대처', 26), ('완산', 26), ('수색', 26), ('순', 26), ('제도', 26), ('귀', 26), ('하는', 26), ('조두순', 26), ('철', 26), ('시작', 26), ('비상', 26), ('으로부터', 26), ('통합', 25), ('편의점', 25), ('방', 25), ('정부', 25), ('음성', 25), ('같은', 25), ('시장', 25), ('상대로', 25), ('보다', 25), ('의한', 25), ('받아', 25), ('금지', 25), ('시도', 25), ('영', 25), ('요구', 25), ('관할', 25), ('황실', 24), ('공단', 24), ('이씨', 24), ('사람', 24), ('포상', 24), ('귀가', 24), ('학대', 24), ('가운데', 24), ('주요', 24), ('역수', 24), ('인력', 24), ('공사', 24), ('수사권', 24), ('조정', 24), ('책임', 24), ('추석', 24), ('창원', 24), ('없는', 24), ('제공', 24), ('전날', 24), ('준수', 24), ('가일', 24), ('찾아', 24), ('포함', 24), ('국가', 24), ('한다는', 24), ('벨', 24)]\n"
     ]
    }
   ],
   "source": [
    "#긍정 레이블 데이터 중 가장 많이 등장한 500개 단어 확인\n",
    "positive_words_count = Counter(positive_words)\n",
    "print(positive_words_count.most_common(500))"
   ]
  },
  {
   "cell_type": "code",
   "execution_count": 23,
   "id": "1d152149",
   "metadata": {
    "execution": {
     "iopub.execute_input": "2022-11-03T05:09:26.161248Z",
     "iopub.status.busy": "2022-11-03T05:09:26.161100Z",
     "iopub.status.idle": "2022-11-03T05:09:26.208828Z",
     "shell.execute_reply": "2022-11-03T05:09:26.208435Z",
     "shell.execute_reply.started": "2022-11-03T05:09:26.161236Z"
    },
    "tags": []
   },
   "outputs": [
    {
     "name": "stdout",
     "output_type": "stream",
     "text": [
      "[('경찰', 6256), ('했다', 2154), ('수사', 2005), ('경찰서', 1419), ('하고', 1264), ('경찰청', 1089), ('적', 933), ('범죄', 925), ('혐의', 871), ('사고', 773), ('이다', 771), ('조사', 751), ('사건', 704), ('중', 672), ('장', 638), ('신고', 559), ('위해', 538), ('밝혔다', 521), ('지난', 493), ('있다', 483), ('검찰', 480), ('됐다', 471), ('경찰관', 471), ('관련', 465), ('위반', 450), ('지역', 440), ('및', 440), ('투기', 431), ('상', 416), ('코로나', 416), ('따르면', 410), ('내', 406), ('원', 395), ('서울', 392), ('대한', 388), ('의혹', 384), ('분', 381), ('확인', 375), ('했다고', 363), ('예방', 362), ('월', 359), ('직원', 359), ('전', 358), ('위', 357), ('발생', 356), ('현장', 348), ('제', 345), ('사', 341), ('기관', 341), ('안전', 340), ('시', 336), ('시위', 335), ('여', 325), ('개', 322), ('날', 315), ('자치', 315), ('피해', 314), ('발견', 299), ('기자', 299), ('남성', 298), ('통해', 292), ('공무원', 287), ('집회', 285), ('조', 284), ('여성', 283), ('특별', 278), ('차량', 271), ('경', 270), ('말', 269), ('범죄예방', 267), ('팀', 263), ('사실', 250), ('예정', 249), ('부동산', 245), ('함께', 241), ('소방', 238), ('관', 236), ('결과', 231), ('에나', 230), ('시민', 228), ('대상', 228), ('센터', 228), ('사망', 225), ('부산', 224), ('진행', 221), ('보고', 221), ('폭행', 220), ('에도', 219), ('에는', 215), ('처벌', 215), ('단속', 215), ('군', 215), ('계', 214), ('체포', 212), ('고발', 211), ('사회', 209), ('당국', 209), ('피해자', 209), ('대응', 208), ('주민', 208), ('미국', 206), ('일오', 203), ('법', 203), ('상황', 203), ('업무', 203), ('적발', 203), ('했습니다', 202), ('정부', 202), ('관계자', 201), ('불법', 200), ('검사', 200), ('곳', 198), ('보호', 198), ('본부', 198), ('앞', 197), ('국민', 197), ('활동', 196), ('과정', 194), ('경위', 194), ('지난해', 194), ('출동', 193), ('동', 192), ('조치', 190), ('이라고', 190), ('의원', 190), ('당', 189), ('관리', 189), ('이나', 187), ('은씨', 186), ('당시', 186), ('이번', 184), ('공', 184), ('위원회', 184), ('해당', 183), ('시간', 182), ('계획', 182), ('형', 179), ('접종', 177), ('행위', 174), ('아동', 174), ('범죄수사', 174), ('주', 174), ('송치', 173), ('청소년', 172), ('합동', 172), ('방침', 171), ('하기', 169), ('후시', 167), ('운영', 167), ('후', 165), ('백신', 165), ('께', 163), ('정확한', 163), ('사업', 163), ('정보', 161), ('설치', 161), ('압수수색', 160), ('따라', 160), ('나', 159), ('쯤', 159), ('아동학대', 158), ('사람', 158), ('경기', 157), ('소', 156), ('지방', 156), ('숨진', 155), ('징계', 155), ('전시', 153), ('캠페인', 152), ('광주', 152), ('단', 151), ('미얀마', 151), ('이후', 151), ('해경', 150), ('교통', 150), ('두', 150), ('화', 148), ('접수', 148), ('경기도', 148), ('시설', 147), ('지원', 146), ('인천', 146), ('충북', 145), ('입건', 145), ('구', 143), ('있는', 143), ('병원', 143), ('실시', 142), ('총', 142), ('해양경찰', 141), ('대통령', 139), ('인근', 138), ('구속', 137), ('점검', 137), ('시작', 137), ('남부', 136), ('울산', 136), ('채', 135), ('사법', 135), ('신청', 135), ('양', 134), ('교통사고', 134), ('범행', 134), ('때', 133), ('업체', 132), ('보이스피싱', 131), ('현재', 130), ('검거', 130), ('경북', 129), ('또', 129), ('전국', 128), ('한국', 128), ('가족', 127), ('학교', 127), ('했고', 127), ('받은', 127), ('사진', 127), ('의뢰', 127), ('수사의뢰', 127), ('되는', 126), ('국가', 126), ('한편', 125), ('감사', 125), ('교사', 125), ('공직자', 125), ('받고', 125), ('가능성', 124), ('주택', 124), ('경찰청장', 124), ('기소', 124), ('공개', 123), ('착수', 122), ('회', 122), ('확보', 121), ('안심', 121), ('협력', 120), ('단체', 120), ('아시아', 119), ('영상', 119), ('가운데', 119), ('아파트', 119), ('백', 118), ('여부', 118), ('교육', 118), ('추진', 118), ('식', 117), ('처', 116), ('경우', 116), ('난', 115), ('섰다', 115), ('학생', 115), ('서는', 114), ('현', 114), ('건', 114), ('측', 113), ('이상', 113), ('시행', 113), ('반', 112), ('차', 112), ('방역', 112), ('천', 112), ('확산', 111), ('경남', 111), ('논란', 111), ('모두', 111), ('서장', 110), ('에서는', 109), ('설명', 109), ('앵커', 108), ('상태', 108), ('환경', 107), ('요구', 107), ('집중', 107), ('여명', 107), ('금지', 107), ('직접', 107), ('참여', 106), ('요청', 106), ('같은', 106), ('파악', 105), ('도로', 105), ('신', 105), ('로부터', 105), ('거래', 105), ('현지', 104), ('만에', 104), ('불', 104), ('연', 104), ('된다', 104), ('전담', 104), ('추가', 104), ('성범죄', 104), ('못', 103), ('장이', 103), ('용의자', 103), ('아이', 102), ('년월', 102), ('흑인', 102), ('협조', 101), ('재판', 101), ('형사', 100), ('폭력', 100), ('사례', 100), ('과학', 100), ('이용', 100), ('에의', 100), ('중국', 100), ('구속영장', 100), ('운전자', 99), ('협의', 99), ('협약', 99), ('제공', 98), ('치안', 98), ('허위', 97), ('입니다', 97), ('속', 97), ('예', 97), ('근무', 97), ('청', 96), ('사결', 96), ('오', 96), ('의심', 96), ('점', 96), ('소속', 96), ('알려졌다', 96), ('받았다', 96), ('달일', 96), ('실종', 95), ('대표', 95), ('거리', 95), ('살인', 94), ('포함', 94), ('하겠다고', 94), ('자신', 94), ('전날', 93), ('방법', 93), ('상대로', 93), ('민주당', 93), ('차례', 93), ('적용', 92), ('경제', 92), ('방문', 92), ('하던', 92), ('만원', 92), ('울', 92), ('수사권', 92), ('음주운전', 92), ('때문', 91), ('요', 91), ('있다고', 91), ('했다는', 91), ('마스크', 91), ('화재', 91), ('해양', 90), ('내용', 90), ('학대', 90), ('어린이', 90), ('없는', 89), ('받아', 89), ('살해', 89), ('사기', 88), ('대구', 88), ('이일', 88), ('했지만', 88), ('토지', 88), ('교육청', 87), ('진술', 87), ('땅', 87), ('도시', 87), ('의견', 87), ('머니투데이', 86), ('오늘', 86), ('관계', 86), ('층', 86), ('제주', 86), ('고위', 86), ('오후', 85), ('선정', 85), ('주장', 84), ('힘', 84), ('라', 84), ('분석', 84), ('의료', 84), ('면서', 83), ('문제', 83), ('투입', 83), ('이라', 83), ('집', 83), ('결정', 83), ('첫', 82), ('확대', 82), ('일부', 82), ('항의', 82), ('딸', 82), ('검토', 81), ('전달', 81), ('있습니다', 81), ('긴급', 81), ('문', 81), ('장관', 81), ('행정', 81), ('달', 81), ('전북', 81), ('신종', 81), ('추정', 80), ('총격', 80), ('하기로', 80), ('촉구', 80), ('대책', 80), ('판단', 80), ('세', 80), ('국', 80), ('한다는', 79), ('진압', 79), ('헤럴드경제', 79), ('해상', 79), ('격리', 79), ('연구원', 79), ('살', 79), ('의한', 79), ('제기', 79), ('생활', 79), ('사를', 78), ('뉴스', 78), ('본', 78), ('중앙', 78), ('적극', 78), ('올해', 78), ('순찰', 78), ('기사', 78), ('처리', 77), ('금융', 77), ('조직', 77), ('력', 77), ('으로부터', 77), ('수색', 77), ('시장', 77), ('발표', 77), ('주변', 77), ('시신', 77), ('부패', 76), ('파출소', 76), ('받는', 76), ('서울시', 76), ('지난달', 76), ('개선', 76), ('부부', 76), ('구미', 75), ('이를', 75), ('인력', 75), ('급', 75), ('회의', 75), ('특히', 75), ('촬영', 75), ('개발', 75), ('다른', 75), ('방지', 74), ('명의', 74), ('선고', 74), ('우려', 74), ('담당', 73), ('마련', 73), ('국립', 73), ('자료', 73), ('중부', 73), ('구성', 73), ('디지털', 73), ('앞서', 72), ('법원', 72), ('감염병', 72), ('사항', 72), ('공사', 72), ('김', 71), ('에서도', 71), ('홍보', 71), ('신도시', 71), ('책임', 71), ('찰', 71), ('지구대', 71), ('월일', 70), ('저', 70), ('확', 70), ('코로나바이러스', 70), ('석씨', 70), ('계속', 69), ('플로이드', 69), ('제압', 69), ('정책', 69), ('피의자', 69), ('라는', 69), ('했다며', 69), ('전남', 69), ('중심', 68), ('방해', 68), ('기도', 68), ('외국인', 68), ('법률', 68), ('지속', 68), ('구축', 68), ('내부', 68)]\n"
     ]
    }
   ],
   "source": [
    "#중립 레이블 데이터 중 가장 많이 등장한 500개 단어 확인\n",
    "neutral_words_count = Counter(neutral_words) \n",
    "print(neutral_words_count.most_common(500))"
   ]
  },
  {
   "cell_type": "code",
   "execution_count": 24,
   "id": "b81d4d10",
   "metadata": {
    "execution": {
     "iopub.execute_input": "2022-11-03T05:09:26.209683Z",
     "iopub.status.busy": "2022-11-03T05:09:26.209389Z",
     "iopub.status.idle": "2022-11-03T05:09:26.212058Z",
     "shell.execute_reply": "2022-11-03T05:09:26.211677Z",
     "shell.execute_reply.started": "2022-11-03T05:09:26.209670Z"
    },
    "tags": []
   },
   "outputs": [],
   "source": [
    "X_train = train_data['tokenized'].values\n",
    "y_train = train_data['label'].values\n",
    "X_test = test_data['tokenized'].values \n",
    "y_test = test_data['label'].values"
   ]
  },
  {
   "cell_type": "code",
   "execution_count": 25,
   "id": "8496894c",
   "metadata": {
    "execution": {
     "iopub.execute_input": "2022-11-03T05:09:26.212900Z",
     "iopub.status.busy": "2022-11-03T05:09:26.212609Z",
     "iopub.status.idle": "2022-11-03T05:09:26.359015Z",
     "shell.execute_reply": "2022-11-03T05:09:26.358498Z",
     "shell.execute_reply.started": "2022-11-03T05:09:26.212887Z"
    },
    "tags": []
   },
   "outputs": [],
   "source": [
    "#정수로 인코딩\n",
    "tokenizer = Tokenizer()\n",
    "tokenizer.fit_on_texts(X_train)"
   ]
  },
  {
   "cell_type": "code",
   "execution_count": 26,
   "id": "54188d7b",
   "metadata": {
    "execution": {
     "iopub.execute_input": "2022-11-03T05:09:26.359995Z",
     "iopub.status.busy": "2022-11-03T05:09:26.359772Z",
     "iopub.status.idle": "2022-11-03T05:09:26.370540Z",
     "shell.execute_reply": "2022-11-03T05:09:26.370136Z",
     "shell.execute_reply.started": "2022-11-03T05:09:26.359979Z"
    },
    "tags": []
   },
   "outputs": [
    {
     "name": "stdout",
     "output_type": "stream",
     "text": [
      "단어 집합의 크기: 30017\n",
      "등장 빈도가 1번 이하인 희귀 단어의 수: 14974\n",
      "단어 집합에서 희귀 단어의 비율: 49.8850651297598\n",
      "전체 등장 빈도에서 희귀 단어 등장 빈도 비율: 4.937905199079296\n"
     ]
    }
   ],
   "source": [
    "# 등장 횟수가 1회인 단어들은 배제\n",
    "threshold = 2 \n",
    "total_cnt = len(tokenizer.word_index) # 단어의 수\n",
    "rare_cnt = 0 # 등장 빈도수가 threshold 보다 작은 단어의 개수를 카운트\n",
    "total_freq = 0 # 훈련 데이터의 전체 단어 빈도수 총합\n",
    "rare_freq = 0 #등장 빈도수가 threshold보다 작은 단어의 등장 빈도수 총합\n",
    "\n",
    "#단어와 빈도수의 쌍을 key와 value로 받기\n",
    "for key,value in tokenizer.word_counts.items():\n",
    "    total_freq = total_freq + value\n",
    "    \n",
    "    #단어 등장 빈도수가 threshold 보다 작으면:\n",
    "    if(value < threshold):\n",
    "        rare_cnt = rare_cnt + 1\n",
    "        rare_freq = rare_freq + value\n",
    "\n",
    "print('단어 집합의 크기:', total_cnt)\n",
    "print('등장 빈도가 %s번 이하인 희귀 단어의 수: %s'%(threshold -1, rare_cnt))\n",
    "print('단어 집합에서 희귀 단어의 비율:', (rare_cnt / total_cnt)*100)\n",
    "print('전체 등장 빈도에서 희귀 단어 등장 빈도 비율:', (rare_freq / total_freq)*100)"
   ]
  },
  {
   "cell_type": "code",
   "execution_count": 27,
   "id": "89bdb19f",
   "metadata": {
    "execution": {
     "iopub.execute_input": "2022-11-03T05:09:26.371335Z",
     "iopub.status.busy": "2022-11-03T05:09:26.371145Z",
     "iopub.status.idle": "2022-11-03T05:09:26.373774Z",
     "shell.execute_reply": "2022-11-03T05:09:26.373379Z",
     "shell.execute_reply.started": "2022-11-03T05:09:26.371320Z"
    },
    "tags": []
   },
   "outputs": [
    {
     "name": "stdout",
     "output_type": "stream",
     "text": [
      "단어 집합의 크기: 15045\n"
     ]
    }
   ],
   "source": [
    "vocab_size = total_cnt - rare_cnt + 2\n",
    "print('단어 집합의 크기:', vocab_size)"
   ]
  },
  {
   "cell_type": "code",
   "execution_count": 28,
   "id": "0ad290a6",
   "metadata": {
    "execution": {
     "iopub.execute_input": "2022-11-03T05:09:26.374663Z",
     "iopub.status.busy": "2022-11-03T05:09:26.374338Z",
     "iopub.status.idle": "2022-11-03T05:09:26.616955Z",
     "shell.execute_reply": "2022-11-03T05:09:26.616456Z",
     "shell.execute_reply.started": "2022-11-03T05:09:26.374649Z"
    },
    "tags": []
   },
   "outputs": [],
   "source": [
    "#단어 집합의 크기보다 큰 숫자가 부여된 단어들을 oov로 변환\n",
    "#토크나이저가 텍스트 시퀀스를 숫자 시퀀스로 변환해줌\n",
    "tokenizer = Tokenizer(vocab_size, oov_token = 'OOV')\n",
    "tokenizer.fit_on_texts(X_train)\n",
    "X_train = tokenizer.texts_to_sequences(X_train)\n",
    "X_test = tokenizer.texts_to_sequences(X_test)"
   ]
  },
  {
   "cell_type": "code",
   "execution_count": 29,
   "id": "d82f072b",
   "metadata": {
    "execution": {
     "iopub.execute_input": "2022-11-03T05:09:26.617882Z",
     "iopub.status.busy": "2022-11-03T05:09:26.617668Z",
     "iopub.status.idle": "2022-11-03T05:09:26.620543Z",
     "shell.execute_reply": "2022-11-03T05:09:26.620151Z",
     "shell.execute_reply.started": "2022-11-03T05:09:26.617867Z"
    },
    "tags": []
   },
   "outputs": [
    {
     "name": "stdout",
     "output_type": "stream",
     "text": [
      "[[634, 1040, 10656, 602, 49, 1, 74, 2, 56, 249, 126, 184, 166, 211, 634, 1040, 7040, 602, 1, 4889, 285, 300, 74, 23, 2, 33, 74, 133, 1, 103, 49, 1771, 234, 8457, 4104, 667, 10657, 1197, 475, 4460, 2, 2570, 702, 6097, 848, 280, 243, 137, 1026, 6098, 301, 95, 387, 169, 14], [2571, 342, 153, 3144, 10658, 10659, 1118, 4890, 1, 153, 875, 2572, 1, 1882, 648, 160, 1, 1564, 41, 973, 221, 2087, 4891, 1670, 4105, 160, 153, 2717, 51, 4892, 35, 930, 15, 149, 589, 4893, 1, 3145, 1, 15, 7, 1345, 5, 54, 974, 834, 387, 14], [2854, 8458, 1452, 197, 1, 294, 656, 7041, 3824, 1, 58, 7042, 10660, 7041, 656, 10661, 133, 5429, 1413, 4893, 1, 369, 1041, 7041, 3824, 10662, 7042, 10660, 1, 2573, 7041, 3824, 10662, 7042, 343, 8459, 419, 2573, 282, 156, 931, 1821, 772, 516, 156, 635, 624, 5430, 476, 1821, 4, 1346, 1490, 1, 369, 1041, 486, 6099, 3342, 3557, 14]]\n"
     ]
    }
   ],
   "source": [
    "print(X_train[:3])"
   ]
  },
  {
   "cell_type": "code",
   "execution_count": 30,
   "id": "ce1a5640",
   "metadata": {
    "execution": {
     "iopub.execute_input": "2022-11-03T05:09:26.621366Z",
     "iopub.status.busy": "2022-11-03T05:09:26.621125Z",
     "iopub.status.idle": "2022-11-03T05:09:26.623637Z",
     "shell.execute_reply": "2022-11-03T05:09:26.623245Z",
     "shell.execute_reply.started": "2022-11-03T05:09:26.621352Z"
    },
    "tags": []
   },
   "outputs": [
    {
     "name": "stdout",
     "output_type": "stream",
     "text": [
      "[[1267, 350, 67, 1, 2, 1162, 4657, 210, 2, 350, 917, 790, 3178, 1, 67, 3764, 7948, 11, 523, 6443, 16, 127, 44, 504, 1, 1, 2977, 1, 23, 6931, 4, 1366, 303, 174, 1, 1038, 1, 2006, 73, 2134, 2, 559, 1, 397, 1, 920, 7675, 2, 1771, 13818, 5044, 1], [310, 1102, 3104, 560, 969, 7901, 109, 662, 78, 576, 900, 7455, 2, 13522, 422, 109, 11470, 905, 14, 10651, 698, 13, 44, 211, 3518, 69, 12, 3408, 4930, 616, 847, 32, 1573, 467, 3, 428, 560, 98, 625, 847, 420, 420, 616, 550, 771, 7, 847, 1, 453, 3401, 425, 1883, 3], [543, 5741, 1952, 451, 1, 4235, 763, 3961, 8511, 18, 212, 87, 11, 389, 3704, 252, 7183, 405, 2320, 300, 958, 850, 337, 267, 1340, 4492, 1316, 1, 3777, 2693, 2836, 10, 28, 2512, 1, 3287, 790, 7, 7544, 5741, 2036, 1, 2798, 5420, 1, 11441, 1, 2, 395, 3]]\n"
     ]
    }
   ],
   "source": [
    "print(X_test[:3])"
   ]
  },
  {
   "cell_type": "markdown",
   "id": "896bc1d8",
   "metadata": {},
   "source": [
    "# 패딩(padding)"
   ]
  },
  {
   "cell_type": "code",
   "execution_count": 31,
   "id": "000d57f5",
   "metadata": {
    "execution": {
     "iopub.execute_input": "2022-11-03T05:09:26.624427Z",
     "iopub.status.busy": "2022-11-03T05:09:26.624186Z",
     "iopub.status.idle": "2022-11-03T05:09:26.777535Z",
     "shell.execute_reply": "2022-11-03T05:09:26.777137Z",
     "shell.execute_reply.started": "2022-11-03T05:09:26.624413Z"
    },
    "tags": []
   },
   "outputs": [
    {
     "name": "stdout",
     "output_type": "stream",
     "text": [
      "뉴스의 최대 길이: 83\n",
      "뉴스의 평균 길이: 50.08191577208918\n"
     ]
    },
    {
     "data": {
      "image/png": "[encoded data removed]",
      "text/plain": [
       "<Figure size 640x480 with 1 Axes>"
      ]
     },
     "metadata": {},
     "output_type": "display_data"
    }
   ],
   "source": [
    "#최대 길이 확인\n",
    "print('뉴스의 최대 길이:', max(len(review)for review in X_train))\n",
    "print('뉴스의 평균 길이:', sum(map(len, X_train))/len(X_train))\n",
    "plt.hist([len(review) for review in X_train], bins = 50)\n",
    "plt.xlabel('length of samples')\n",
    "plt.ylabel('number of samples')\n",
    "plt.show()"
   ]
  },
  {
   "cell_type": "code",
   "execution_count": 32,
   "id": "d762e994",
   "metadata": {
    "execution": {
     "iopub.execute_input": "2022-11-03T05:09:26.778493Z",
     "iopub.status.busy": "2022-11-03T05:09:26.778139Z",
     "iopub.status.idle": "2022-11-03T05:09:26.781031Z",
     "shell.execute_reply": "2022-11-03T05:09:26.780650Z",
     "shell.execute_reply.started": "2022-11-03T05:09:26.778479Z"
    },
    "tags": []
   },
   "outputs": [],
   "source": [
    "#샘플의 길이 중 최대 길이 이하인 샘플의 비율 확인하기\n",
    "def below_threshold_len(max_len, nested_list):\n",
    "    count = 0 \n",
    "    for sentence in nested_list:\n",
    "        if(len(sentence) <= max_len):\n",
    "            count = count + 1\n",
    "    print('전체 샘플 중 길이가 %s 이하인 샘플의비율: %s'%(max_len, (count/len(nested_list))*100))"
   ]
  },
  {
   "cell_type": "code",
   "execution_count": 33,
   "id": "1ee6bf1f",
   "metadata": {
    "execution": {
     "iopub.execute_input": "2022-11-03T05:09:26.781898Z",
     "iopub.status.busy": "2022-11-03T05:09:26.781604Z",
     "iopub.status.idle": "2022-11-03T05:09:26.784454Z",
     "shell.execute_reply": "2022-11-03T05:09:26.784042Z",
     "shell.execute_reply.started": "2022-11-03T05:09:26.781885Z"
    },
    "tags": []
   },
   "outputs": [
    {
     "name": "stdout",
     "output_type": "stream",
     "text": [
      "전체 샘플 중 길이가 68 이하인 샘플의비율: 99.95045417010735\n"
     ]
    }
   ],
   "source": [
    "#만약 68로 패딩할 경우 몇 개의 샘플들을 보전할 수 있는지 확인하기\n",
    "max_len = 68\n",
    "below_threshold_len(max_len,X_train)"
   ]
  },
  {
   "cell_type": "code",
   "execution_count": 34,
   "id": "c9551357",
   "metadata": {
    "execution": {
     "iopub.execute_input": "2022-11-03T05:09:26.785238Z",
     "iopub.status.busy": "2022-11-03T05:09:26.784985Z",
     "iopub.status.idle": "2022-11-03T05:09:26.819520Z",
     "shell.execute_reply": "2022-11-03T05:09:26.819142Z",
     "shell.execute_reply.started": "2022-11-03T05:09:26.785224Z"
    },
    "tags": []
   },
   "outputs": [],
   "source": [
    "#훈련용 리뷰를 60으로 패딩\n",
    "X_train = pad_sequences(X_train, maxlen = max_len)\n",
    "X_test = pad_sequences(X_test, maxlen = max_len)"
   ]
  },
  {
   "cell_type": "markdown",
   "id": "d955705e",
   "metadata": {},
   "source": [
    "# 모델 적용"
   ]
  },
  {
   "cell_type": "code",
   "execution_count": 35,
   "id": "16b90043",
   "metadata": {
    "execution": {
     "iopub.execute_input": "2022-11-03T05:09:26.820311Z",
     "iopub.status.busy": "2022-11-03T05:09:26.820062Z",
     "iopub.status.idle": "2022-11-03T05:09:26.822672Z",
     "shell.execute_reply": "2022-11-03T05:09:26.822293Z",
     "shell.execute_reply.started": "2022-11-03T05:09:26.820298Z"
    },
    "tags": []
   },
   "outputs": [],
   "source": [
    "#모델 적용을 위한 패키지 로드\n",
    "import re\n",
    "import os\n",
    "from tensorflow.keras.layers import Embedding,Dense,LSTM,Bidirectional\n",
    "from tensorflow.keras.models import Sequential\n",
    "from tensorflow.keras.models import load_model \n",
    "from tensorflow.keras.callbacks import EarlyStopping, ModelCheckpoint"
   ]
  },
  {
   "cell_type": "code",
   "execution_count": 36,
   "id": "85f550ad",
   "metadata": {
    "execution": {
     "iopub.execute_input": "2022-11-03T05:09:26.823449Z",
     "iopub.status.busy": "2022-11-03T05:09:26.823210Z",
     "iopub.status.idle": "2022-11-03T05:09:26.825330Z",
     "shell.execute_reply": "2022-11-03T05:09:26.824951Z",
     "shell.execute_reply.started": "2022-11-03T05:09:26.823436Z"
    },
    "tags": []
   },
   "outputs": [],
   "source": [
    "import h5py\n",
    "import numpy as np"
   ]
  },
  {
   "cell_type": "code",
   "execution_count": 71,
   "id": "aaac8083",
   "metadata": {
    "execution": {
     "iopub.execute_input": "2022-11-03T06:46:22.201057Z",
     "iopub.status.busy": "2022-11-03T06:46:22.200681Z",
     "iopub.status.idle": "2022-11-03T06:46:37.779339Z",
     "shell.execute_reply": "2022-11-03T06:46:37.778264Z",
     "shell.execute_reply.started": "2022-11-03T06:46:22.201027Z"
    },
    "scrolled": true,
    "tags": []
   },
   "outputs": [
    {
     "name": "stdout",
     "output_type": "stream",
     "text": [
      "Epoch 1/10\n",
      "86/86 [==============================] - 9s 73ms/step - loss: -0.1897 - acc: 0.6544 - val_loss: -1.0414 - val_acc: 0.6832\n",
      "Epoch 2/10\n",
      "86/86 [==============================] - 5s 59ms/step - loss: -1.8616 - acc: 0.6787 - val_loss: -2.6119 - val_acc: 0.7178\n",
      "Epoch 3/10\n",
      "86/86 [==============================] - 5s 60ms/step - loss: -3.4240 - acc: 0.7401 - val_loss: -3.5841 - val_acc: 0.7013\n",
      "Epoch 4/10\n",
      "86/86 [==============================] - 5s 59ms/step - loss: -5.7525 - acc: 0.7622 - val_loss: -4.8205 - val_acc: 0.7063\n",
      "Epoch 5/10\n",
      "86/86 [==============================] - 5s 59ms/step - loss: -8.1559 - acc: 0.7915 - val_loss: -5.5592 - val_acc: 0.6980\n",
      "Epoch 6/10\n",
      "86/86 [==============================] - 5s 59ms/step - loss: -9.9579 - acc: 0.8075 - val_loss: -6.9632 - val_acc: 0.7013\n",
      "Epoch 7/10\n",
      "86/86 [==============================] - 5s 59ms/step - loss: -12.8499 - acc: 0.8053 - val_loss: -8.4589 - val_acc: 0.6947\n",
      "Epoch 8/10\n",
      "86/86 [==============================] - 5s 60ms/step - loss: -14.8049 - acc: 0.8253 - val_loss: -6.8742 - val_acc: 0.6848\n",
      "Epoch 9/10\n",
      "86/86 [==============================] - 5s 59ms/step - loss: -18.0294 - acc: 0.8290 - val_loss: -9.8550 - val_acc: 0.6898\n",
      "Epoch 10/10\n",
      "86/86 [==============================] - 5s 59ms/step - loss: -20.0349 - acc: 0.8192 - val_loss: -12.2757 - val_acc: 0.6931\n"
     ]
    }
   ],
   "source": [
    "#모델 적용\n",
    "embedding_dim = 100\n",
    "hidden_units = 128\n",
    "\n",
    "model = Sequential()\n",
    "model.add(Embedding(vocab_size, embedding_dim))\n",
    "model.add(Bidirectional(LSTM(hidden_units)))\n",
    "model.add(Dense(1, activation = 'sigmoid'))\n",
    "model.compile(optimizer='rmsprop', loss = 'binary_crossentropy', metrics = ['acc'])\n",
    "history = model.fit(X_train, y_train, epochs=10, batch_size = 64, validation_split = 0.1)"
   ]
  },
  {
   "cell_type": "code",
   "execution_count": 72,
   "id": "f8b6e1c8-fbbf-48a2-8b42-ea0a7ceb28c6",
   "metadata": {
    "execution": {
     "iopub.execute_input": "2022-11-03T06:46:38.085914Z",
     "iopub.status.busy": "2022-11-03T06:46:38.085674Z",
     "iopub.status.idle": "2022-11-03T06:46:38.303065Z",
     "shell.execute_reply": "2022-11-03T06:46:38.302396Z",
     "shell.execute_reply.started": "2022-11-03T06:46:38.085897Z"
    },
    "tags": []
   },
   "outputs": [
    {
     "name": "stdout",
     "output_type": "stream",
     "text": [
      "64/64 [==============================] - 1s 14ms/step - loss: -7.5062 - acc: 0.6954\n",
      "테스트 정확도:0.695394\n"
     ]
    }
   ],
   "source": [
    "#모델 평가\n",
    "print(\"테스트 정확도:%4f\"%(model.evaluate(X_test, y_test)[1]))"
   ]
  },
  {
   "cell_type": "code",
   "execution_count": 73,
   "id": "37939d3f",
   "metadata": {
    "execution": {
     "iopub.execute_input": "2022-11-03T06:45:25.950096Z",
     "iopub.status.busy": "2022-11-03T06:45:25.949864Z",
     "iopub.status.idle": "2022-11-03T06:45:25.956188Z",
     "shell.execute_reply": "2022-11-03T06:45:25.955767Z",
     "shell.execute_reply.started": "2022-11-03T06:45:25.950080Z"
    },
    "tags": []
   },
   "outputs": [],
   "source": [
    "#예측 함수\n",
    "def sentiment_predict(new_sentence):\n",
    "    new_sentence = re.sub(r'[^ㄱ-ㅎㅏ-ㅣ 가-힣]','', new_sentence)\n",
    "    new_sentence = okt.morphs(new_sentence)\n",
    "    new_sentence = [word for word in new_sentence if not word in stopwords]\n",
    "    encoded = tokenizer.texts_to_sequences([new_sentence])\n",
    "    pad_new = pad_sequences(encoded, maxlen = max_len)\n",
    "    score = float(model.predict(pad_new))\n",
    "    if(score > 0.5):\n",
    "        print(\"{:2f}% 확률로 긍정 뉴스입니다.\".format(score*100))\n",
    "    else:\n",
    "        print(\"{:2f}% 확률로 부정 뉴스입니다.\".format((1-score)*100))\n",
    "        "
   ]
  },
  {
   "cell_type": "code",
   "execution_count": 74,
   "id": "18a38dd8",
   "metadata": {
    "execution": {
     "iopub.execute_input": "2022-11-03T06:44:25.246869Z",
     "iopub.status.busy": "2022-11-03T06:44:25.246496Z",
     "iopub.status.idle": "2022-11-03T06:44:25.677998Z",
     "shell.execute_reply": "2022-11-03T06:44:25.677536Z",
     "shell.execute_reply.started": "2022-11-03T06:44:25.246854Z"
    },
    "tags": []
   },
   "outputs": [
    {
     "name": "stdout",
     "output_type": "stream",
     "text": [
      "1/1 [==============================] - 1s 546ms/step\n",
      "100.000000% 확률로 부정 뉴스입니다.\n"
     ]
    }
   ],
   "source": [
    "#다른 문장으로 예측\n",
    "sentiment_predict('제주 현직 경찰관이 음주운전 사고를 내 입건됐다.제주서부경찰서는 도로교통법 위반(음주운전) 혐의로 제주시 모 지구대 소속 A 경사를 입건했다고 17일 밝혔다.A 경사는 지난 14일 밤 10시29분쯤 제주시 연동의 한 호텔 인근 도로에서 술을 마시고 차를 몰다 가드레일을 들이받은 혐의를 받고 있다.이 사고로 다행히 다친 사람은 없는 것으로 전해졌다.사고 당시 A 경사의 혈중 알코올 농도는 면허 취소 수준 인 0.08%를 넘은 것으로 파악됐으며 경찰은 정확한 사건 경위를 조사하고 있다.')"
   ]
  },
  {
   "cell_type": "code",
   "execution_count": 75,
   "id": "daa24fec",
   "metadata": {
    "execution": {
     "iopub.execute_input": "2022-11-03T06:44:25.679339Z",
     "iopub.status.busy": "2022-11-03T06:44:25.678916Z",
     "iopub.status.idle": "2022-11-03T06:44:25.719289Z",
     "shell.execute_reply": "2022-11-03T06:44:25.718848Z",
     "shell.execute_reply.started": "2022-11-03T06:44:25.679320Z"
    },
    "tags": []
   },
   "outputs": [
    {
     "name": "stdout",
     "output_type": "stream",
     "text": [
      "1/1 [==============================] - 0s 40ms/step\n",
      "100.000000% 확률로 부정 뉴스입니다.\n"
     ]
    }
   ],
   "source": [
    "sentiment_predict('대구 <b>경찰</b>관, 수배자 검거하러 용인 갔다가 음주운전 <b>사고</b> 새벽에 동료 태운 채 터널 벽 충돌<b>사고</b> ..대구 지역 <b>경찰</b>관이 수배자를 찾으러 간 경기도에서 음주운전 <b>사고</b>를 냈다. ..이 <b>사고</b>로 A 경사와 동료 B 경장이 다쳐 병원에서 치료를 받고 있다. ..<b>사고</b> ..두 사람은 수배자를 검거하러 갔다가 밤에 숙소에서 나와 술을 마신 것으로 <b>경찰</b>은 보고 있다. ..')"
   ]
  }
 ],
 "metadata": {
  "kernelspec": {
   "display_name": "tf2.9.0-keras2.9.0-py3.8",
   "language": "python",
   "name": "tf2.9.0-keras2.9.0-py3.8"
  },
  "language_info": {
   "codemirror_mode": {
    "name": "ipython",
    "version": 3
   },
   "file_extension": ".py",
   "mimetype": "text/x-python",
   "name": "python",
   "nbconvert_exporter": "python",
   "pygments_lexer": "ipython3",
   "version": "3.8.10"
  }
 },
 "nbformat": 4,
 "nbformat_minor": 5
}
