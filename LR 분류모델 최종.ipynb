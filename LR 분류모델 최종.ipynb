{
 "cells": [
  {
   "cell_type": "markdown",
   "id": "dbfd2b7a",
   "metadata": {},
   "source": [
    "# 필요 패키지 로드"
   ]
  },
  {
   "cell_type": "code",
   "execution_count": 1,
   "id": "f0ce449f",
   "metadata": {
    "execution": {
     "iopub.execute_input": "2022-11-02T06:50:43.936388Z",
     "iopub.status.busy": "2022-11-02T06:50:43.936154Z",
     "iopub.status.idle": "2022-11-02T06:50:45.656955Z",
     "shell.execute_reply": "2022-11-02T06:50:45.656283Z",
     "shell.execute_reply.started": "2022-11-02T06:50:43.936374Z"
    }
   },
   "outputs": [],
   "source": [
    "import pandas as pd\n",
    "import matplotlib.pyplot as plt\n",
    "import numpy as np\n",
    "from konlpy.tag import Okt\n",
    "from sklearn.feature_extraction.text import CountVectorizer\n",
    "from sklearn.feature_extraction.text import TfidfTransformer"
   ]
  },
  {
   "cell_type": "code",
   "execution_count": 2,
   "id": "bb125547",
   "metadata": {},
   "outputs": [],
   "source": [
    "data1 = pd.read_csv('label_1108.csv', encoding = 'utf-8')"
   ]
  },
  {
   "cell_type": "code",
   "execution_count": 3,
   "id": "5e577907",
   "metadata": {},
   "outputs": [
    {
     "name": "stdout",
     "output_type": "stream",
     "text": [
      "<class 'pandas.core.frame.DataFrame'>\n",
      "RangeIndex: 8074 entries, 0 to 8073\n",
      "Data columns (total 3 columns):\n",
      " #   Column      Non-Null Count  Dtype  \n",
      "---  ------      --------------  -----  \n",
      " 0   Unnamed: 0  8074 non-null   int64  \n",
      " 1   icls_cnts   8074 non-null   object \n",
      " 2   label       8074 non-null   float64\n",
      "dtypes: float64(1), int64(1), object(1)\n",
      "memory usage: 189.4+ KB\n"
     ]
    }
   ],
   "source": [
    "data1.info()"
   ]
  },
  {
   "cell_type": "code",
   "execution_count": 4,
   "id": "eef65ab0",
   "metadata": {},
   "outputs": [
    {
     "data": {
      "text/plain": [
       " 0.0    5216\n",
       " 1.0    1936\n",
       "-1.0     922\n",
       "Name: label, dtype: int64"
      ]
     },
     "execution_count": 4,
     "metadata": {},
     "output_type": "execute_result"
    }
   ],
   "source": [
    "data1 = data1[['label','icls_cnts']]\n",
    "data1['label'].value_counts()"
   ]
  },
  {
   "cell_type": "code",
   "execution_count": 5,
   "id": "891248af",
   "metadata": {},
   "outputs": [
    {
     "data": {
      "text/plain": [
       "0.0    5216\n",
       "1.0    2858\n",
       "Name: label, dtype: int64"
      ]
     },
     "execution_count": 5,
     "metadata": {},
     "output_type": "execute_result"
    }
   ],
   "source": [
    "data1['label'].replace(999,0,inplace = True)\n",
    "data1['label'].replace(-1,1, inplace =True)\n",
    "data1['label'].value_counts()"
   ]
  },
  {
   "cell_type": "code",
   "execution_count": 6,
   "id": "cb685c3d",
   "metadata": {
    "scrolled": true
   },
   "outputs": [
    {
     "data": {
      "text/plain": [
       "0.0    5216\n",
       "1.0    2858\n",
       "Name: label, dtype: int64"
      ]
     },
     "execution_count": 6,
     "metadata": {},
     "output_type": "execute_result"
    }
   ],
   "source": [
    "data1.drop_duplicates(subset = ['icls_cnts'], inplace = True)\n",
    "data1['label'].value_counts()"
   ]
  },
  {
   "cell_type": "code",
   "execution_count": 7,
   "id": "bf248b10",
   "metadata": {},
   "outputs": [],
   "source": [
    "df1 = data1"
   ]
  },
  {
   "cell_type": "code",
   "execution_count": 8,
   "id": "80e0c3fd",
   "metadata": {},
   "outputs": [
    {
     "name": "stdout",
     "output_type": "stream",
     "text": [
      "결측값 여부: False\n"
     ]
    }
   ],
   "source": [
    "print('결측값 여부:',df1.isnull().values.any())"
   ]
  },
  {
   "cell_type": "code",
   "execution_count": 9,
   "id": "a3c16572",
   "metadata": {},
   "outputs": [],
   "source": [
    "import re \n",
    "#텍스트 정제 함수 : 한글 이외의 문자 제거\n",
    "def text_cleaning(text):\n",
    "    #한글 정규표현식으로 한글만 추출\n",
    "    hangul = re.compile('[^ㄱ-ㅣ가-힣]+')\n",
    "    result = hangul.sub('',text)\n",
    "    return result"
   ]
  },
  {
   "cell_type": "code",
   "execution_count": 10,
   "id": "be620e43",
   "metadata": {},
   "outputs": [
    {
     "data": {
      "text/plain": [
       "<bound method NDFrame.head of       label                                          icls_cnts  \\\n",
       "0       1.0  ..<b>경찰</b>과 추격전까지 벌인 40대 남성이 붙잡혔습니다. .. 1시간이 ...   \n",
       "1       1.0  수원남부署, 모범<b>경찰</b> 최보라·김세홍 경장에 표창·장려장 수원남부<b>경...   \n",
       "2       1.0   조두순에 대한 1대1 전자감독 및 <b>경찰</b>을 통한 24시간 밀착 감독 등...   \n",
       "3       1.0  순천<b>경찰</b>서, 전화금융사기 예방 홍보시스템 구축 순천<b>경찰</b>서는...   \n",
       "4       1.0  경남<b>경찰</b>청 직원들, 사랑의 헌혈 릴레이 운동 경남지방<b>경찰</b>청...   \n",
       "...     ...                                                ...   \n",
       "8069    0.0  ‘LH 땅투기 <b>수사</b>’ 검·경 실무진 첫 회동…”검찰 들러리 세우는 것”...   \n",
       "8070    1.0  \"인천 흉기난동\" 부실대응 <b>경찰</b>관 송치 인천<b>경찰</b>청 광역<b...   \n",
       "8071    0.0   일부 산부인과의 진료기록 공개 거부 등 반발을 우려해 법원으로부터 압수수색 영장까...   \n",
       "8072    0.0  ‘마우스’ 경수진, 털털하고 냉철한 PD 변신 배우 경수진이 tvN 드라마 ..‘마...   \n",
       "8073    0.0  “번호 지워서” 16살 연하 남친 살해 여성, 무기징역→징역 22년 감형…왜? 본인...   \n",
       "\n",
       "                                                ko_text  \n",
       "0     경찰과추격전까지벌인대남성이붙잡혔습니다시간이넘도록음주운전차량을뒤쫓던경찰은결국실탄을쏴시...  \n",
       "1     수원남부모범경찰최보라김세홍경장에표창장려장수원남부경찰서서장오문교는중요범인검거유공등타의...  \n",
       "2     조두순에대한대전자감독및경찰을통한시간밀착감독등이주된내용이다앞서검찰은피해자접근금지음주금...  \n",
       "3     순천경찰서전화금융사기예방홍보시스템구축순천경찰서는지난일전화금융사기예방을위해관내순천농협...  \n",
       "4     경남경찰청직원들사랑의헌혈릴레이운동경남지방경찰청치안감남구준은일청사주차장에찾아온대한적십...  \n",
       "...                                                 ...  \n",
       "8069  땅투기수사검경실무진첫회동검찰들러리세우는것지적도한국토지주택공사임직원들의땅투기의혹수사와...  \n",
       "8070  인천흉기난동부실대응경찰관송치인천경찰청광역수사대는경찰은이들과같은혐의로함께고발된당시인천...  \n",
       "8071  일부산부인과의진료기록공개거부등반발을우려해법원으로부터압수수색영장까지발부받았으며경북경찰...  \n",
       "8072  마우스경수진털털하고냉철한변신배우경수진이드라마마우스에서연쇄살인사건에대한방송을준비하며경...  \n",
       "8073  번호지워서살연하남친살해여성무기징역징역년감형왜본인의연락처를휴대폰에서삭제했다는이유로자고...  \n",
       "\n",
       "[8074 rows x 3 columns]>"
      ]
     },
     "execution_count": 10,
     "metadata": {},
     "output_type": "execute_result"
    }
   ],
   "source": [
    "df1['ko_text']=df1['icls_cnts'].apply(lambda x: text_cleaning(x))\n",
    "df1.head"
   ]
  },
  {
   "cell_type": "code",
   "execution_count": 11,
   "id": "00526538",
   "metadata": {},
   "outputs": [
    {
     "name": "stdout",
     "output_type": "stream",
     "text": [
      "['경찰/Noun', '과/Josa', '추/Noun', '격전/Noun', '까지/Josa', '벌인대/Verb', '남성/Noun', '이/Josa', '붙잡혔습니다/Verb', '시간/Noun', '이/Josa', '넘도록/Verb', '음주운전/Noun', '차량/Noun', '을/Josa', '뒤/Noun', '쫓던/Verb', '경찰/Noun', '은/Josa', '결국/Adverb', '실탄/Noun', '을/Josa', '쏴/Verb', '시간/Noun', '이/Josa', '넘도록/Verb', '음주운전/Noun', '차량/Noun', '을/Josa', '뒤/Noun', '쫓던/Verb', '경찰/Noun', '은/Josa', '결국/Adverb', '실탄/Noun', '을/Josa', '쏴/Verb', '차/Noun', '를/Josa', '세웠는데/Verb', '잡고/Noun', '보니이/Verb', '남성/Noun', '운전면허/Noun', '가/Josa', '없었습니다/Adjective', '경찰서/Noun', '경찰/Noun', '은/Josa', '도로/Noun', '교통법위반/Noun', '등/Noun', '의/Josa', '혐의/Noun', '로/Josa', '살/Noun', '씨/Suffix', '에/Josa', '대해/Noun', '구속영장/Noun', '을/Josa', '신청/Noun', '할/Verb', '계획/Noun', '입니다/Adjective']\n"
     ]
    }
   ],
   "source": [
    "def get_pos(x):\n",
    "    tagger = Okt()\n",
    "    pos = tagger.pos(x)\n",
    "    pos = ['{}/{}'.format(word,tag) for word, tag in pos]\n",
    "    return pos\n",
    "\n",
    "#함수 테스트 \n",
    "result = get_pos(df1['ko_text'][0])\n",
    "print(result)"
   ]
  },
  {
   "cell_type": "code",
   "execution_count": 12,
   "id": "8d0df64b",
   "metadata": {},
   "outputs": [],
   "source": [
    "index_vectorizer = CountVectorizer(tokenizer = lambda x : get_pos(x))\n",
    "X = index_vectorizer.fit_transform(df1['ko_text'].tolist())"
   ]
  },
  {
   "cell_type": "code",
   "execution_count": 13,
   "id": "ec131893",
   "metadata": {},
   "outputs": [
    {
     "data": {
      "text/plain": [
       "(8074, 35370)"
      ]
     },
     "execution_count": 13,
     "metadata": {},
     "output_type": "execute_result"
    }
   ],
   "source": [
    "X.shape"
   ]
  },
  {
   "cell_type": "code",
   "execution_count": 14,
   "id": "2d042110",
   "metadata": {},
   "outputs": [
    {
     "name": "stdout",
     "output_type": "stream",
     "text": [
      "경찰과추격전까지벌인대남성이붙잡혔습니다시간이넘도록음주운전차량을뒤쫓던경찰은결국실탄을쏴시간이넘도록음주운전차량을뒤쫓던경찰은결국실탄을쏴차를세웠는데잡고보니이남성운전면허가없었습니다경찰서경찰은도로교통법위반등의혐의로살씨에대해구속영장을신청할계획입니다\n",
      "  (0, 1765)\t4\n",
      "  (0, 2367)\t1\n",
      "  (0, 30413)\t1\n",
      "  (0, 1530)\t1\n",
      "  (0, 4219)\t1\n",
      "  (0, 13707)\t1\n",
      "  (0, 5052)\t2\n",
      "  (0, 24037)\t3\n",
      "  (0, 15266)\t1\n",
      "  (0, 18629)\t2\n",
      "  (0, 5553)\t2\n",
      "  (0, 23870)\t2\n",
      "  (0, 29377)\t2\n",
      "  (0, 23820)\t5\n",
      "  (0, 8690)\t2\n",
      "  (0, 29269)\t2\n",
      "  (0, 23735)\t3\n",
      "  (0, 1581)\t2\n",
      "  (0, 19163)\t2\n",
      "  (0, 19445)\t2\n",
      "  (0, 29347)\t1\n",
      "  (0, 9976)\t1\n",
      "  (0, 17571)\t1\n",
      "  (0, 26343)\t1\n",
      "  (0, 14083)\t1\n",
      "  (0, 22962)\t1\n",
      "  (0, 4)\t1\n",
      "  (0, 21242)\t1\n",
      "  (0, 1779)\t1\n",
      "  (0, 7555)\t1\n",
      "  (0, 2708)\t1\n",
      "  (0, 9138)\t1\n",
      "  (0, 23896)\t1\n",
      "  (0, 34439)\t1\n",
      "  (0, 9836)\t1\n",
      "  (0, 16324)\t1\n",
      "  (0, 19549)\t1\n",
      "  (0, 21292)\t1\n",
      "  (0, 7324)\t1\n",
      "  (0, 2816)\t1\n",
      "  (0, 19070)\t1\n",
      "  (0, 33307)\t1\n",
      "  (0, 1856)\t1\n",
      "  (0, 25685)\t1\n"
     ]
    }
   ],
   "source": [
    "print(df1['ko_text'][0])\n",
    "print(X[0])"
   ]
  },
  {
   "cell_type": "code",
   "execution_count": 15,
   "id": "32674628",
   "metadata": {},
   "outputs": [],
   "source": [
    "tfidf_vectorizer = TfidfTransformer()\n",
    "X = tfidf_vectorizer.fit_transform(X)"
   ]
  },
  {
   "cell_type": "code",
   "execution_count": 16,
   "id": "920ae948",
   "metadata": {},
   "outputs": [
    {
     "name": "stdout",
     "output_type": "stream",
     "text": [
      "(8074, 35370)\n",
      "  (0, 34439)\t0.056720501413239165\n",
      "  (0, 33307)\t0.06759964537134064\n",
      "  (0, 30413)\t0.12642961523183818\n",
      "  (0, 29377)\t0.1666966856318872\n",
      "  (0, 29347)\t0.09697326658404562\n",
      "  (0, 29269)\t0.3840522635730061\n",
      "  (0, 26343)\t0.14073649703171057\n",
      "  (0, 25685)\t0.10008632152629426\n",
      "  (0, 24037)\t0.09388562836587759\n",
      "  (0, 23896)\t0.03160157510643609\n",
      "  (0, 23870)\t0.2013904580574777\n",
      "  (0, 23820)\t0.11622090759890523\n",
      "  (0, 23735)\t0.09267680887858244\n",
      "  (0, 22962)\t0.14349264739115963\n",
      "  (0, 21292)\t0.025727903548247014\n",
      "  (0, 21242)\t0.17771924998663066\n",
      "  (0, 19549)\t0.06784983591853408\n",
      "  (0, 19445)\t0.2911168335142245\n",
      "  (0, 19163)\t0.2503565894003772\n",
      "  (0, 19070)\t0.09463410954684548\n",
      "  (0, 18629)\t0.1713195690154195\n",
      "  (0, 17571)\t0.19202613178650305\n",
      "  (0, 16324)\t0.10894099134671784\n",
      "  (0, 15266)\t0.14253245252391808\n",
      "  (0, 14083)\t0.19202613178650305\n",
      "  (0, 13707)\t0.19202613178650305\n",
      "  (0, 9976)\t0.027124867560636406\n",
      "  (0, 9836)\t0.04083843304212885\n",
      "  (0, 9138)\t0.041734928201384976\n",
      "  (0, 8690)\t0.1578924569187968\n",
      "  (0, 7555)\t0.09472646078557938\n",
      "  (0, 7324)\t0.06963664023904512\n",
      "  (0, 5553)\t0.33870052126291067\n",
      "  (0, 5052)\t0.16441424363061272\n",
      "  (0, 4219)\t0.06966410593494521\n",
      "  (0, 2816)\t0.10081919617269698\n",
      "  (0, 2708)\t0.12438433268386848\n",
      "  (0, 2367)\t0.03995318301433311\n",
      "  (0, 1856)\t0.08759722543475557\n",
      "  (0, 1779)\t0.04328313606214617\n",
      "  (0, 1765)\t0.10589530051897446\n",
      "  (0, 1581)\t0.21537934163013647\n",
      "  (0, 1530)\t0.13416346316874272\n",
      "  (0, 4)\t0.03726310569967905\n"
     ]
    }
   ],
   "source": [
    "print(X.shape)\n",
    "print(X[0])"
   ]
  },
  {
   "cell_type": "code",
   "execution_count": 17,
   "id": "402251c6",
   "metadata": {},
   "outputs": [
    {
     "name": "stdout",
     "output_type": "stream",
     "text": [
      "(7266, 35370)\n",
      "(808, 35370)\n"
     ]
    }
   ],
   "source": [
    "from sklearn.model_selection import train_test_split\n",
    "\n",
    "y = df1['label']\n",
    "X_train, X_test, y_train, y_test = train_test_split(X,y, test_size = 0.1)\n",
    "print(X_train.shape)\n",
    "print(X_test.shape)"
   ]
  },
  {
   "cell_type": "code",
   "execution_count": 18,
   "id": "b6db289a",
   "metadata": {},
   "outputs": [
    {
     "name": "stdout",
     "output_type": "stream",
     "text": [
      "정확도:0.77\n",
      "정밀도:0.765\n",
      "재현율:0.771\n",
      "F1:0.760\n"
     ]
    }
   ],
   "source": [
    "from sklearn.linear_model import LogisticRegression\n",
    "from sklearn.metrics import accuracy_score, precision_score, recall_score, f1_score\n",
    "\n",
    "lr = LogisticRegression(random_state=0)\n",
    "lr.fit(X_train, y_train)\n",
    "y_pred = lr.predict(X_test)\n",
    "y_pred_probability = lr.predict_proba(X_test)[:,1]\n",
    "\n",
    "print(\"정확도:%.2f\"% accuracy_score(y_test, y_pred))\n",
    "print(\"정밀도:%.3f\"% precision_score(y_test,y_pred, average = 'weighted'))\n",
    "print(\"재현율:%.3f\"% recall_score(y_test, y_pred, average = 'weighted'))\n",
    "print(\"F1:%.3f\"% f1_score(y_test,y_pred, average = 'weighted'))"
   ]
  },
  {
   "cell_type": "markdown",
   "id": "6d3e35f6",
   "metadata": {},
   "source": [
    "# 데이터 전처리"
   ]
  },
  {
   "cell_type": "code",
   "execution_count": 19,
   "id": "9619dc29",
   "metadata": {
    "execution": {
     "iopub.execute_input": "2022-11-02T06:50:45.658537Z",
     "iopub.status.busy": "2022-11-02T06:50:45.657882Z",
     "iopub.status.idle": "2022-11-02T06:50:45.720883Z",
     "shell.execute_reply": "2022-11-02T06:50:45.720329Z",
     "shell.execute_reply.started": "2022-11-02T06:50:45.658514Z"
    },
    "tags": []
   },
   "outputs": [],
   "source": [
    "data = pd.read_csv('label_1108.csv', encoding = 'utf-8')"
   ]
  },
  {
   "cell_type": "code",
   "execution_count": 20,
   "id": "4d75b15d",
   "metadata": {
    "execution": {
     "iopub.execute_input": "2022-11-02T06:50:45.722094Z",
     "iopub.status.busy": "2022-11-02T06:50:45.721690Z",
     "iopub.status.idle": "2022-11-02T06:50:45.732590Z",
     "shell.execute_reply": "2022-11-02T06:50:45.732061Z",
     "shell.execute_reply.started": "2022-11-02T06:50:45.722074Z"
    }
   },
   "outputs": [
    {
     "name": "stdout",
     "output_type": "stream",
     "text": [
      "<class 'pandas.core.frame.DataFrame'>\n",
      "RangeIndex: 8074 entries, 0 to 8073\n",
      "Data columns (total 3 columns):\n",
      " #   Column      Non-Null Count  Dtype  \n",
      "---  ------      --------------  -----  \n",
      " 0   Unnamed: 0  8074 non-null   int64  \n",
      " 1   icls_cnts   8074 non-null   object \n",
      " 2   label       8074 non-null   float64\n",
      "dtypes: float64(1), int64(1), object(1)\n",
      "memory usage: 189.4+ KB\n"
     ]
    }
   ],
   "source": [
    "data.info()"
   ]
  },
  {
   "cell_type": "code",
   "execution_count": 21,
   "id": "73329e9c-1f42-4592-8acc-db911894ca1f",
   "metadata": {
    "execution": {
     "iopub.execute_input": "2022-11-02T06:50:45.733643Z",
     "iopub.status.busy": "2022-11-02T06:50:45.733303Z",
     "iopub.status.idle": "2022-11-02T06:50:45.736508Z",
     "shell.execute_reply": "2022-11-02T06:50:45.735959Z",
     "shell.execute_reply.started": "2022-11-02T06:50:45.733627Z"
    },
    "tags": []
   },
   "outputs": [],
   "source": [
    "data['label'].replace(999,0,inplace = True)"
   ]
  },
  {
   "cell_type": "code",
   "execution_count": 22,
   "id": "441c76e0",
   "metadata": {
    "execution": {
     "iopub.execute_input": "2022-11-02T06:50:45.738576Z",
     "iopub.status.busy": "2022-11-02T06:50:45.738151Z",
     "iopub.status.idle": "2022-11-02T06:50:45.750289Z",
     "shell.execute_reply": "2022-11-02T06:50:45.749821Z",
     "shell.execute_reply.started": "2022-11-02T06:50:45.738560Z"
    },
    "tags": []
   },
   "outputs": [
    {
     "data": {
      "text/html": [
       "<div>\n",
       "<style scoped>\n",
       "    .dataframe tbody tr th:only-of-type {\n",
       "        vertical-align: middle;\n",
       "    }\n",
       "\n",
       "    .dataframe tbody tr th {\n",
       "        vertical-align: top;\n",
       "    }\n",
       "\n",
       "    .dataframe thead th {\n",
       "        text-align: right;\n",
       "    }\n",
       "</style>\n",
       "<table border=\"1\" class=\"dataframe\">\n",
       "  <thead>\n",
       "    <tr style=\"text-align: right;\">\n",
       "      <th></th>\n",
       "      <th>icls_cnts</th>\n",
       "      <th>label</th>\n",
       "    </tr>\n",
       "  </thead>\n",
       "  <tbody>\n",
       "    <tr>\n",
       "      <th>0</th>\n",
       "      <td>..&lt;b&gt;경찰&lt;/b&gt;과 추격전까지 벌인 40대 남성이 붙잡혔습니다. .. 1시간이 ...</td>\n",
       "      <td>1.0</td>\n",
       "    </tr>\n",
       "    <tr>\n",
       "      <th>1</th>\n",
       "      <td>수원남부署, 모범&lt;b&gt;경찰&lt;/b&gt; 최보라·김세홍 경장에 표창·장려장 수원남부&lt;b&gt;경...</td>\n",
       "      <td>1.0</td>\n",
       "    </tr>\n",
       "    <tr>\n",
       "      <th>2</th>\n",
       "      <td>조두순에 대한 1대1 전자감독 및 &lt;b&gt;경찰&lt;/b&gt;을 통한 24시간 밀착 감독 등...</td>\n",
       "      <td>1.0</td>\n",
       "    </tr>\n",
       "    <tr>\n",
       "      <th>3</th>\n",
       "      <td>순천&lt;b&gt;경찰&lt;/b&gt;서, 전화금융사기 예방 홍보시스템 구축 순천&lt;b&gt;경찰&lt;/b&gt;서는...</td>\n",
       "      <td>1.0</td>\n",
       "    </tr>\n",
       "    <tr>\n",
       "      <th>4</th>\n",
       "      <td>경남&lt;b&gt;경찰&lt;/b&gt;청 직원들, 사랑의 헌혈 릴레이 운동 경남지방&lt;b&gt;경찰&lt;/b&gt;청...</td>\n",
       "      <td>1.0</td>\n",
       "    </tr>\n",
       "    <tr>\n",
       "      <th>...</th>\n",
       "      <td>...</td>\n",
       "      <td>...</td>\n",
       "    </tr>\n",
       "    <tr>\n",
       "      <th>8069</th>\n",
       "      <td>‘LH 땅투기 &lt;b&gt;수사&lt;/b&gt;’ 검·경 실무진 첫 회동…”검찰 들러리 세우는 것”...</td>\n",
       "      <td>0.0</td>\n",
       "    </tr>\n",
       "    <tr>\n",
       "      <th>8070</th>\n",
       "      <td>\"인천 흉기난동\" 부실대응 &lt;b&gt;경찰&lt;/b&gt;관 송치 인천&lt;b&gt;경찰&lt;/b&gt;청 광역&lt;b...</td>\n",
       "      <td>-1.0</td>\n",
       "    </tr>\n",
       "    <tr>\n",
       "      <th>8071</th>\n",
       "      <td>일부 산부인과의 진료기록 공개 거부 등 반발을 우려해 법원으로부터 압수수색 영장까...</td>\n",
       "      <td>0.0</td>\n",
       "    </tr>\n",
       "    <tr>\n",
       "      <th>8072</th>\n",
       "      <td>‘마우스’ 경수진, 털털하고 냉철한 PD 변신 배우 경수진이 tvN 드라마 ..‘마...</td>\n",
       "      <td>0.0</td>\n",
       "    </tr>\n",
       "    <tr>\n",
       "      <th>8073</th>\n",
       "      <td>“번호 지워서” 16살 연하 남친 살해 여성, 무기징역→징역 22년 감형…왜? 본인...</td>\n",
       "      <td>0.0</td>\n",
       "    </tr>\n",
       "  </tbody>\n",
       "</table>\n",
       "<p>8074 rows × 2 columns</p>\n",
       "</div>"
      ],
      "text/plain": [
       "                                              icls_cnts  label\n",
       "0     ..<b>경찰</b>과 추격전까지 벌인 40대 남성이 붙잡혔습니다. .. 1시간이 ...    1.0\n",
       "1     수원남부署, 모범<b>경찰</b> 최보라·김세홍 경장에 표창·장려장 수원남부<b>경...    1.0\n",
       "2      조두순에 대한 1대1 전자감독 및 <b>경찰</b>을 통한 24시간 밀착 감독 등...    1.0\n",
       "3     순천<b>경찰</b>서, 전화금융사기 예방 홍보시스템 구축 순천<b>경찰</b>서는...    1.0\n",
       "4     경남<b>경찰</b>청 직원들, 사랑의 헌혈 릴레이 운동 경남지방<b>경찰</b>청...    1.0\n",
       "...                                                 ...    ...\n",
       "8069  ‘LH 땅투기 <b>수사</b>’ 검·경 실무진 첫 회동…”검찰 들러리 세우는 것”...    0.0\n",
       "8070  \"인천 흉기난동\" 부실대응 <b>경찰</b>관 송치 인천<b>경찰</b>청 광역<b...   -1.0\n",
       "8071   일부 산부인과의 진료기록 공개 거부 등 반발을 우려해 법원으로부터 압수수색 영장까...    0.0\n",
       "8072  ‘마우스’ 경수진, 털털하고 냉철한 PD 변신 배우 경수진이 tvN 드라마 ..‘마...    0.0\n",
       "8073  “번호 지워서” 16살 연하 남친 살해 여성, 무기징역→징역 22년 감형…왜? 본인...    0.0\n",
       "\n",
       "[8074 rows x 2 columns]"
      ]
     },
     "execution_count": 22,
     "metadata": {},
     "output_type": "execute_result"
    }
   ],
   "source": [
    "data = data[['icls_cnts','label']]\n",
    "data"
   ]
  },
  {
   "cell_type": "code",
   "execution_count": 23,
   "id": "979c6f0d",
   "metadata": {},
   "outputs": [
    {
     "data": {
      "text/plain": [
       " 1.0    1936\n",
       "-1.0     922\n",
       "Name: label, dtype: int64"
      ]
     },
     "execution_count": 23,
     "metadata": {},
     "output_type": "execute_result"
    }
   ],
   "source": [
    "label_list = [-1,1]\n",
    "data = data[data['label'].isin(label_list)]\n",
    "data['label'].value_counts()"
   ]
  },
  {
   "cell_type": "code",
   "execution_count": 24,
   "id": "e79c217e",
   "metadata": {
    "execution": {
     "iopub.execute_input": "2022-11-02T06:50:45.751360Z",
     "iopub.status.busy": "2022-11-02T06:50:45.750933Z",
     "iopub.status.idle": "2022-11-02T06:50:45.769354Z",
     "shell.execute_reply": "2022-11-02T06:50:45.768881Z",
     "shell.execute_reply.started": "2022-11-02T06:50:45.751344Z"
    },
    "scrolled": true,
    "tags": []
   },
   "outputs": [
    {
     "name": "stderr",
     "output_type": "stream",
     "text": [
      "/tmp/ipykernel_132531/1251076988.py:1: SettingWithCopyWarning: \n",
      "A value is trying to be set on a copy of a slice from a DataFrame\n",
      "\n",
      "See the caveats in the documentation: https://pandas.pydata.org/pandas-docs/stable/user_guide/indexing.html#returning-a-view-versus-a-copy\n",
      "  data.drop_duplicates(subset = ['icls_cnts'], inplace = True)\n"
     ]
    },
    {
     "data": {
      "text/plain": [
       " 1.0    1936\n",
       "-1.0     922\n",
       "Name: label, dtype: int64"
      ]
     },
     "execution_count": 24,
     "metadata": {},
     "output_type": "execute_result"
    }
   ],
   "source": [
    "data.drop_duplicates(subset = ['icls_cnts'], inplace = True)\n",
    "data['label'].value_counts()"
   ]
  },
  {
   "cell_type": "code",
   "execution_count": 25,
   "id": "06b25a33",
   "metadata": {},
   "outputs": [],
   "source": [
    "df = data"
   ]
  },
  {
   "cell_type": "code",
   "execution_count": 26,
   "id": "156618b6",
   "metadata": {},
   "outputs": [
    {
     "name": "stdout",
     "output_type": "stream",
     "text": [
      "결측값 여부: False\n"
     ]
    }
   ],
   "source": [
    "print('결측값 여부:',df.isnull().values.any())"
   ]
  },
  {
   "cell_type": "markdown",
   "id": "de09b605",
   "metadata": {},
   "source": [
    "# 문장 정제 및 토큰화"
   ]
  },
  {
   "cell_type": "code",
   "execution_count": 27,
   "id": "c32b9069",
   "metadata": {
    "execution": {
     "iopub.execute_input": "2022-11-02T06:50:45.770342Z",
     "iopub.status.busy": "2022-11-02T06:50:45.769984Z",
     "iopub.status.idle": "2022-11-02T06:50:45.772759Z",
     "shell.execute_reply": "2022-11-02T06:50:45.772308Z",
     "shell.execute_reply.started": "2022-11-02T06:50:45.770326Z"
    }
   },
   "outputs": [],
   "source": [
    "import re \n",
    "#텍스트 정제 함수 : 한글 이외의 문자 제거\n",
    "def text_cleaning(text):\n",
    "    #한글 정규표현식으로 한글만 추출\n",
    "    hangul = re.compile('[^ㄱ-ㅣ가-힣]+')\n",
    "    result = hangul.sub('',text)\n",
    "    return result"
   ]
  },
  {
   "cell_type": "code",
   "execution_count": 28,
   "id": "83700eae",
   "metadata": {
    "execution": {
     "iopub.execute_input": "2022-11-02T06:50:45.773743Z",
     "iopub.status.busy": "2022-11-02T06:50:45.773363Z",
     "iopub.status.idle": "2022-11-02T06:50:45.860017Z",
     "shell.execute_reply": "2022-11-02T06:50:45.859546Z",
     "shell.execute_reply.started": "2022-11-02T06:50:45.773728Z"
    },
    "scrolled": true
   },
   "outputs": [
    {
     "name": "stderr",
     "output_type": "stream",
     "text": [
      "/tmp/ipykernel_132531/2696196206.py:2: SettingWithCopyWarning: \n",
      "A value is trying to be set on a copy of a slice from a DataFrame.\n",
      "Try using .loc[row_indexer,col_indexer] = value instead\n",
      "\n",
      "See the caveats in the documentation: https://pandas.pydata.org/pandas-docs/stable/user_guide/indexing.html#returning-a-view-versus-a-copy\n",
      "  df['ko_text']=df['icls_cnts'].apply(lambda x: text_cleaning(x))\n"
     ]
    },
    {
     "data": {
      "text/plain": [
       "<bound method NDFrame.head of                                               icls_cnts  label  \\\n",
       "0     ..<b>경찰</b>과 추격전까지 벌인 40대 남성이 붙잡혔습니다. .. 1시간이 ...    1.0   \n",
       "1     수원남부署, 모범<b>경찰</b> 최보라·김세홍 경장에 표창·장려장 수원남부<b>경...    1.0   \n",
       "2      조두순에 대한 1대1 전자감독 및 <b>경찰</b>을 통한 24시간 밀착 감독 등...    1.0   \n",
       "3     순천<b>경찰</b>서, 전화금융사기 예방 홍보시스템 구축 순천<b>경찰</b>서는...    1.0   \n",
       "4     경남<b>경찰</b>청 직원들, 사랑의 헌혈 릴레이 운동 경남지방<b>경찰</b>청...    1.0   \n",
       "...                                                 ...    ...   \n",
       "8054  ‘경찰 현장 대응력 강화 태스크포스(TF)’는 4차 회의에서 이 같은 내용을 결정했...    1.0   \n",
       "8058  차에 불지르고 흉기 난동…30대 테이저건으로 제압 대구에서 흉기로 행인을 위협하고 ...    1.0   \n",
       "8064  [사설] 범인 제압 훈련을 온라인으로 때웠다는 경찰 대통령의 질타와 경찰청장의 사과...   -1.0   \n",
       "8065  울산<b>경찰</b>, 방역수칙 위반 유흥주점 업주와 손님 등 9명 입건 울산<b>...    1.0   \n",
       "8070  \"인천 흉기난동\" 부실대응 <b>경찰</b>관 송치 인천<b>경찰</b>청 광역<b...   -1.0   \n",
       "\n",
       "                                                ko_text  \n",
       "0     경찰과추격전까지벌인대남성이붙잡혔습니다시간이넘도록음주운전차량을뒤쫓던경찰은결국실탄을쏴시...  \n",
       "1     수원남부모범경찰최보라김세홍경장에표창장려장수원남부경찰서서장오문교는중요범인검거유공등타의...  \n",
       "2     조두순에대한대전자감독및경찰을통한시간밀착감독등이주된내용이다앞서검찰은피해자접근금지음주금...  \n",
       "3     순천경찰서전화금융사기예방홍보시스템구축순천경찰서는지난일전화금융사기예방을위해관내순천농협...  \n",
       "4     경남경찰청직원들사랑의헌혈릴레이운동경남지방경찰청치안감남구준은일청사주차장에찾아온대한적십...  \n",
       "...                                                 ...  \n",
       "8054  경찰현장대응력강화태스크포스는차회의에서이같은내용을결정했다시범운영은내년월서울경기남부인천...  \n",
       "8058  차에불지르고흉기난동대테이저건으로제압대구에서흉기로행인을위협하고남의차에불을지른대남성이경...  \n",
       "8064  사설범인제압훈련을온라인으로때웠다는경찰대통령의질타와경찰청장의사과에도최근잇따른경찰의부실...  \n",
       "8065  울산경찰방역수칙위반유흥주점업주와손님등명입건울산경찰청은신종코로나바이러스감염증코로나방역...  \n",
       "8070  인천흉기난동부실대응경찰관송치인천경찰청광역수사대는경찰은이들과같은혐의로함께고발된당시인천...  \n",
       "\n",
       "[2858 rows x 3 columns]>"
      ]
     },
     "execution_count": 28,
     "metadata": {},
     "output_type": "execute_result"
    }
   ],
   "source": [
    "#만든 함수 적용\n",
    "df['ko_text']=df['icls_cnts'].apply(lambda x: text_cleaning(x))\n",
    "df.head"
   ]
  },
  {
   "cell_type": "code",
   "execution_count": 29,
   "id": "79709d20",
   "metadata": {
    "execution": {
     "iopub.execute_input": "2022-11-02T06:50:45.871760Z",
     "iopub.status.busy": "2022-11-02T06:50:45.871406Z",
     "iopub.status.idle": "2022-11-02T06:50:48.993430Z",
     "shell.execute_reply": "2022-11-02T06:50:48.992936Z",
     "shell.execute_reply.started": "2022-11-02T06:50:45.871745Z"
    }
   },
   "outputs": [
    {
     "name": "stdout",
     "output_type": "stream",
     "text": [
      "['경찰/Noun', '과/Josa', '추/Noun', '격전/Noun', '까지/Josa', '벌인대/Verb', '남성/Noun', '이/Josa', '붙잡혔습니다/Verb', '시간/Noun', '이/Josa', '넘도록/Verb', '음주운전/Noun', '차량/Noun', '을/Josa', '뒤/Noun', '쫓던/Verb', '경찰/Noun', '은/Josa', '결국/Adverb', '실탄/Noun', '을/Josa', '쏴/Verb', '시간/Noun', '이/Josa', '넘도록/Verb', '음주운전/Noun', '차량/Noun', '을/Josa', '뒤/Noun', '쫓던/Verb', '경찰/Noun', '은/Josa', '결국/Adverb', '실탄/Noun', '을/Josa', '쏴/Verb', '차/Noun', '를/Josa', '세웠는데/Verb', '잡고/Noun', '보니이/Verb', '남성/Noun', '운전면허/Noun', '가/Josa', '없었습니다/Adjective', '경찰서/Noun', '경찰/Noun', '은/Josa', '도로/Noun', '교통법위반/Noun', '등/Noun', '의/Josa', '혐의/Noun', '로/Josa', '살/Noun', '씨/Suffix', '에/Josa', '대해/Noun', '구속영장/Noun', '을/Josa', '신청/Noun', '할/Verb', '계획/Noun', '입니다/Adjective']\n"
     ]
    }
   ],
   "source": [
    "#okt 라이브러리로 텍스트 데이터에서 형태소 추출\n",
    "def get_pos(x):\n",
    "    tagger = Okt()\n",
    "    pos = tagger.pos(x)\n",
    "    pos = ['{}/{}'.format(word,tag) for word, tag in pos]\n",
    "    return pos\n",
    "\n",
    "#함수 테스트 \n",
    "result = get_pos(df['ko_text'][0])\n",
    "print(result)"
   ]
  },
  {
   "cell_type": "markdown",
   "id": "b8d95399",
   "metadata": {},
   "source": [
    "# 정수화(Countvectorizer활용), TF-IDF로 중요 단어 추출"
   ]
  },
  {
   "cell_type": "code",
   "execution_count": 30,
   "id": "bc5c8a90",
   "metadata": {
    "execution": {
     "iopub.execute_input": "2022-11-02T06:50:48.994542Z",
     "iopub.status.busy": "2022-11-02T06:50:48.994172Z",
     "iopub.status.idle": "2022-11-02T06:50:49.153715Z",
     "shell.execute_reply": "2022-11-02T06:50:49.153233Z",
     "shell.execute_reply.started": "2022-11-02T06:50:48.994521Z"
    }
   },
   "outputs": [],
   "source": [
    "from sklearn.feature_extraction.text import CountVectorizer"
   ]
  },
  {
   "cell_type": "code",
   "execution_count": 31,
   "id": "baf2b45c",
   "metadata": {
    "execution": {
     "iopub.execute_input": "2022-11-02T06:50:49.154625Z",
     "iopub.status.busy": "2022-11-02T06:50:49.154402Z",
     "iopub.status.idle": "2022-11-02T07:17:45.888899Z",
     "shell.execute_reply": "2022-11-02T07:17:45.888331Z",
     "shell.execute_reply.started": "2022-11-02T06:50:49.154609Z"
    }
   },
   "outputs": [],
   "source": [
    "#형태소를 벡터 형태의 학습 데이터셋으로 변환\n",
    "index_vectorizer = CountVectorizer(tokenizer = lambda x : get_pos(x))\n",
    "X = index_vectorizer.fit_transform(df['ko_text'].tolist())"
   ]
  },
  {
   "cell_type": "code",
   "execution_count": 32,
   "id": "faa5dee3",
   "metadata": {
    "execution": {
     "iopub.execute_input": "2022-11-02T07:17:45.889893Z",
     "iopub.status.busy": "2022-11-02T07:17:45.889654Z",
     "iopub.status.idle": "2022-11-02T07:17:45.894113Z",
     "shell.execute_reply": "2022-11-02T07:17:45.893509Z",
     "shell.execute_reply.started": "2022-11-02T07:17:45.889877Z"
    }
   },
   "outputs": [
    {
     "data": {
      "text/plain": [
       "(2858, 17641)"
      ]
     },
     "execution_count": 32,
     "metadata": {},
     "output_type": "execute_result"
    }
   ],
   "source": [
    "X.shape"
   ]
  },
  {
   "cell_type": "code",
   "execution_count": 33,
   "id": "27eef137",
   "metadata": {
    "execution": {
     "iopub.execute_input": "2022-11-02T07:17:45.895410Z",
     "iopub.status.busy": "2022-11-02T07:17:45.895061Z",
     "iopub.status.idle": "2022-11-02T07:17:45.910141Z",
     "shell.execute_reply": "2022-11-02T07:17:45.909578Z",
     "shell.execute_reply.started": "2022-11-02T07:17:45.895391Z"
    }
   },
   "outputs": [
    {
     "name": "stdout",
     "output_type": "stream",
     "text": [
      "{'경찰/Noun': 947, '과/Josa': 1305, '추/Noun': 15200, '격전/Noun': 814, '까지/Josa': 2330, '벌인대/Verb': 6702,..\n"
     ]
    }
   ],
   "source": [
    "print(str(index_vectorizer.vocabulary_)[:100]+'..')"
   ]
  },
  {
   "cell_type": "code",
   "execution_count": 34,
   "id": "839e9626",
   "metadata": {
    "execution": {
     "iopub.execute_input": "2022-11-02T07:17:45.911332Z",
     "iopub.status.busy": "2022-11-02T07:17:45.910908Z",
     "iopub.status.idle": "2022-11-02T07:17:45.914808Z",
     "shell.execute_reply": "2022-11-02T07:17:45.914291Z",
     "shell.execute_reply.started": "2022-11-02T07:17:45.911316Z"
    }
   },
   "outputs": [
    {
     "name": "stdout",
     "output_type": "stream",
     "text": [
      "경찰과추격전까지벌인대남성이붙잡혔습니다시간이넘도록음주운전차량을뒤쫓던경찰은결국실탄을쏴시간이넘도록음주운전차량을뒤쫓던경찰은결국실탄을쏴차를세웠는데잡고보니이남성운전면허가없었습니다경찰서경찰은도로교통법위반등의혐의로살씨에대해구속영장을신청할계획입니다\n",
      "  (0, 947)\t4\n",
      "  (0, 1305)\t1\n",
      "  (0, 15200)\t1\n",
      "  (0, 814)\t1\n",
      "  (0, 2330)\t1\n",
      "  (0, 6702)\t1\n",
      "  (0, 2676)\t2\n",
      "  (0, 11861)\t3\n",
      "  (0, 7525)\t1\n",
      "  (0, 9177)\t2\n",
      "  (0, 2903)\t2\n",
      "  (0, 11756)\t2\n",
      "  (0, 14652)\t2\n",
      "  (0, 11721)\t5\n",
      "  (0, 4439)\t2\n",
      "  (0, 14610)\t2\n",
      "  (0, 11668)\t3\n",
      "  (0, 841)\t2\n",
      "  (0, 9463)\t2\n",
      "  (0, 9589)\t2\n",
      "  (0, 14638)\t1\n",
      "  (0, 4959)\t1\n",
      "  (0, 8657)\t1\n",
      "  (0, 13059)\t1\n",
      "  (0, 6897)\t1\n",
      "  (0, 11285)\t1\n",
      "  (0, 2)\t1\n",
      "  (0, 10425)\t1\n",
      "  (0, 958)\t1\n",
      "  (0, 3896)\t1\n",
      "  (0, 1515)\t1\n",
      "  (0, 4615)\t1\n",
      "  (0, 11772)\t1\n",
      "  (0, 17145)\t1\n",
      "  (0, 4899)\t1\n",
      "  (0, 8016)\t1\n",
      "  (0, 9628)\t1\n",
      "  (0, 10449)\t1\n",
      "  (0, 3797)\t1\n",
      "  (0, 1585)\t1\n",
      "  (0, 9409)\t1\n",
      "  (0, 16546)\t1\n",
      "  (0, 1007)\t1\n",
      "  (0, 12709)\t1\n"
     ]
    }
   ],
   "source": [
    "print(df['ko_text'][0])\n",
    "print(X[0])"
   ]
  },
  {
   "cell_type": "code",
   "execution_count": 35,
   "id": "2465264e",
   "metadata": {
    "execution": {
     "iopub.execute_input": "2022-11-02T07:17:45.915604Z",
     "iopub.status.busy": "2022-11-02T07:17:45.915453Z",
     "iopub.status.idle": "2022-11-02T07:17:45.918164Z",
     "shell.execute_reply": "2022-11-02T07:17:45.917623Z",
     "shell.execute_reply.started": "2022-11-02T07:17:45.915590Z"
    },
    "tags": []
   },
   "outputs": [],
   "source": [
    "#중요 단어 추출을 위해 TF-IDF 활용\n",
    "from sklearn.feature_extraction.text import TfidfTransformer"
   ]
  },
  {
   "cell_type": "code",
   "execution_count": 36,
   "id": "4733de60",
   "metadata": {
    "execution": {
     "iopub.execute_input": "2022-11-02T07:17:45.919137Z",
     "iopub.status.busy": "2022-11-02T07:17:45.918812Z",
     "iopub.status.idle": "2022-11-02T07:17:45.941572Z",
     "shell.execute_reply": "2022-11-02T07:17:45.941044Z",
     "shell.execute_reply.started": "2022-11-02T07:17:45.919122Z"
    },
    "tags": []
   },
   "outputs": [],
   "source": [
    "tfidf_vectorizer = TfidfTransformer()\n",
    "X = tfidf_vectorizer.fit_transform(X)"
   ]
  },
  {
   "cell_type": "code",
   "execution_count": 37,
   "id": "674943f5",
   "metadata": {
    "execution": {
     "iopub.execute_input": "2022-11-02T07:17:45.942655Z",
     "iopub.status.busy": "2022-11-02T07:17:45.942290Z",
     "iopub.status.idle": "2022-11-02T07:17:45.945830Z",
     "shell.execute_reply": "2022-11-02T07:17:45.945308Z",
     "shell.execute_reply.started": "2022-11-02T07:17:45.942639Z"
    },
    "tags": []
   },
   "outputs": [
    {
     "name": "stdout",
     "output_type": "stream",
     "text": [
      "(2858, 17641)\n",
      "  (0, 17145)\t0.058432924416063285\n",
      "  (0, 16546)\t0.07304344251490438\n",
      "  (0, 15200)\t0.12818699469535608\n",
      "  (0, 14652)\t0.1706063226828352\n",
      "  (0, 14638)\t0.10035180375172324\n",
      "  (0, 14610)\t0.3553800152649298\n",
      "  (0, 13059)\t0.13744834722182506\n",
      "  (0, 12709)\t0.10981801750877301\n",
      "  (0, 11861)\t0.09944408616038823\n",
      "  (0, 11772)\t0.03347367695414807\n",
      "  (0, 11756)\t0.1898322514779223\n",
      "  (0, 11721)\t0.11815789676769288\n",
      "  (0, 11668)\t0.09600798206447946\n",
      "  (0, 11285)\t0.14103982383627867\n",
      "  (0, 10449)\t0.02756624188075282\n",
      "  (0, 10425)\t0.1776900076324649\n",
      "  (0, 9628)\t0.07122108376548993\n",
      "  (0, 9589)\t0.29577244818568227\n",
      "  (0, 9463)\t0.2861777729303359\n",
      "  (0, 9409)\t0.09785234750850758\n",
      "  (0, 9177)\t0.18153782387233097\n",
      "  (0, 8657)\t0.1776900076324649\n",
      "  (0, 8016)\t0.1201987923930827\n",
      "  (0, 7525)\t0.13916917621769598\n",
      "  (0, 6897)\t0.1776900076324649\n",
      "  (0, 6702)\t0.1776900076324649\n",
      "  (0, 4959)\t0.02785738229793186\n",
      "  (0, 4899)\t0.04240838682557293\n",
      "  (0, 4615)\t0.04287074626606472\n",
      "  (0, 4439)\t0.1651214743510662\n",
      "  (0, 3896)\t0.0919312969277819\n",
      "  (0, 3797)\t0.07320945789859243\n",
      "  (0, 2903)\t0.32557623172530603\n",
      "  (0, 2676)\t0.18426257600233414\n",
      "  (0, 2330)\t0.07432097981907772\n",
      "  (0, 1585)\t0.10529690062327084\n",
      "  (0, 1515)\t0.11438785158112252\n",
      "  (0, 1305)\t0.04126589899905668\n",
      "  (0, 1007)\t0.09253693938207172\n",
      "  (0, 958)\t0.036288276160966415\n",
      "  (0, 947)\t0.11531652779929887\n",
      "  (0, 841)\t0.22657020585108842\n",
      "  (0, 814)\t0.13168097052883648\n",
      "  (0, 2)\t0.04162723330890817\n"
     ]
    }
   ],
   "source": [
    "print(X.shape)\n",
    "print(X[0])"
   ]
  },
  {
   "cell_type": "markdown",
   "id": "7c8335ef",
   "metadata": {},
   "source": [
    "# 모델 적용"
   ]
  },
  {
   "cell_type": "code",
   "execution_count": 38,
   "id": "35e4887f",
   "metadata": {
    "execution": {
     "iopub.execute_input": "2022-11-02T07:17:45.948625Z",
     "iopub.status.busy": "2022-11-02T07:17:45.948198Z",
     "iopub.status.idle": "2022-11-02T07:17:45.966098Z",
     "shell.execute_reply": "2022-11-02T07:17:45.965538Z",
     "shell.execute_reply.started": "2022-11-02T07:17:45.948608Z"
    },
    "tags": []
   },
   "outputs": [
    {
     "name": "stdout",
     "output_type": "stream",
     "text": [
      "(2572, 17641)\n",
      "(286, 17641)\n"
     ]
    }
   ],
   "source": [
    "from sklearn.model_selection import train_test_split\n",
    "\n",
    "y = df['label']\n",
    "X_train, X_test, y_train, y_test = train_test_split(X,y, test_size = 0.1)\n",
    "print(X_train.shape)\n",
    "print(X_test.shape)"
   ]
  },
  {
   "cell_type": "code",
   "execution_count": 39,
   "id": "9bdb0da3",
   "metadata": {
    "execution": {
     "iopub.execute_input": "2022-11-02T07:17:45.967145Z",
     "iopub.status.busy": "2022-11-02T07:17:45.966973Z",
     "iopub.status.idle": "2022-11-02T07:17:57.345941Z",
     "shell.execute_reply": "2022-11-02T07:17:57.345047Z",
     "shell.execute_reply.started": "2022-11-02T07:17:45.967131Z"
    },
    "tags": []
   },
   "outputs": [
    {
     "name": "stdout",
     "output_type": "stream",
     "text": [
      "정확도:0.92\n",
      "정밀도:0.928\n",
      "재현율:0.923\n",
      "F1:0.921\n"
     ]
    }
   ],
   "source": [
    "from sklearn.linear_model import LogisticRegression\n",
    "from sklearn.metrics import accuracy_score, precision_score, recall_score, f1_score\n",
    "\n",
    "lr = LogisticRegression(random_state=0)\n",
    "lr.fit(X_train, y_train)\n",
    "y_pred = lr.predict(X_test)\n",
    "y_pred_probability = lr.predict_proba(X_test)[:,1]\n",
    "\n",
    "print(\"정확도:%.2f\"% accuracy_score(y_test, y_pred))\n",
    "print(\"정밀도:%.3f\"% precision_score(y_test,y_pred, average = 'weighted'))\n",
    "print(\"재현율:%.3f\"% recall_score(y_test, y_pred, average = 'weighted'))\n",
    "print(\"F1:%.3f\"% f1_score(y_test,y_pred, average = 'weighted'))"
   ]
  },
  {
   "cell_type": "markdown",
   "id": "b244355b",
   "metadata": {},
   "source": [
    "param_lreg = { 'C' : [1.0,3,5,7,10], \n",
    "              'max_iter': [100,500]\n",
    "             }\n",
    "gscv_lreg = GridSearchCV(estimator = lreg, param_grid = param_lreg, scoring = 'accuracy', cv = StratifiedKFold(n_splits = 5, shuffle = True, random_state = 42), refit = True, n_jobs = 1, verbose =2)\n",
    "gscv_lreg.fit(X_train, y_train)"
   ]
  },
  {
   "cell_type": "markdown",
   "id": "02057b93",
   "metadata": {},
   "source": [
    "print('lr 파라미터:', gscv_lreg.best_params_)\n",
    "print('lr 예측 정확도:{:4f}'.format(gscv_lreg.best_score_))"
   ]
  },
  {
   "cell_type": "code",
   "execution_count": null,
   "id": "cc239601",
   "metadata": {},
   "outputs": [],
   "source": []
  }
 ],
 "metadata": {
  "kernelspec": {
   "display_name": "tf2.9.0-keras2.9.0-py3.8",
   "language": "python",
   "name": "tf2.9.0-keras2.9.0-py3.8"
  },
  "language_info": {
   "codemirror_mode": {
    "name": "ipython",
    "version": 3
   },
   "file_extension": ".py",
   "mimetype": "text/x-python",
   "name": "python",
   "nbconvert_exporter": "python",
   "pygments_lexer": "ipython3",
   "version": "3.8.10"
  }
 },
 "nbformat": 4,
 "nbformat_minor": 5
}
